{
 "cells": [
  {
   "cell_type": "markdown",
   "metadata": {},
   "source": [
    "### 직접 만드는 Feed Forward Neural Network\n",
    "1개의 neuron 만으로 구성되는 단순한 FFNN regresser를 구현해보자.\n",
    "\n",
    "for one sample (x, y) :\n",
    "$$\\begin{aligned}\n",
    "s &= x \\cdot w + b \\\\\n",
    "e &= (s - y)^2\n",
    "\\end{aligned}$$\n",
    "\n",
    "for gradients :\n",
    "$$\\begin{aligned}\n",
    "\\Delta w = \\cfrac {\\partial e}{\\partial w} &= \\cfrac{\\partial e}{\\partial s} \\cfrac{\\partial s}{\\partial w} = 2 (s - y) \\cdot x \\\\\n",
    "&= 2(s - y) \\cdot x \\\\\n",
    "\\Delta b = \\cfrac {\\partial e}{\\partial b} &= \\cfrac{\\partial e}{\\partial s} \\cfrac{\\partial s}{\\partial b} = 2 (s - y) \\cdot 1\n",
    "\\end{aligned}$$\n",
    "\n",
    "for batch samples :\n",
    "- (grad_w, grad_b) = average (de/dw, de/db) over samples in batch\n",
    "\n",
    "for update :\n",
    "- w -= grad_w * learning_rate\n",
    "- b -= grad_b * learning_rate"
   ]
  },
  {
   "cell_type": "code",
   "execution_count": null,
   "metadata": {},
   "outputs": [],
   "source": [
    "import numpy as np"
   ]
  },
  {
   "cell_type": "code",
   "execution_count": null,
   "metadata": {},
   "outputs": [],
   "source": [
    "x_train = np.random.rand(1024, 1)\n",
    "y_train = x_train * 2 + 1"
   ]
  },
  {
   "cell_type": "code",
   "execution_count": null,
   "metadata": {},
   "outputs": [],
   "source": [
    "x_val = np.random.rand(32, 1)\n",
    "y_val = x_val * 2 + 1\n",
    "\n",
    "x_test = np.arange(1, 5).reshape(-1,1) * 2 / 10\n",
    "y_test = x_test * 2 + 1\n",
    "x_test"
   ]
  },
  {
   "cell_type": "code",
   "execution_count": null,
   "metadata": {},
   "outputs": [],
   "source": [
    "class FFNN:\n",
    "    def __init__(self, lr=0.01):\n",
    "        self.lr = lr\n",
    "        # initial weights: w는 .5, b는 .0\n",
    "        pass\n",
    "        \n",
    "    def calc_sum(self, x, w, b):\n",
    "        pass\n",
    "    \n",
    "    # feed forward network\n",
    "    def predict(self, x):\n",
    "        pass\n",
    "    \n",
    "    # train for one batch. x 자체가 batch\n",
    "    def train_on_batch(self, x, y, istrain=True):\n",
    "        pass\n",
    "        if istrain:\n",
    "            pass\n",
    "        return loss\n",
    "    \n",
    "    # epochs 동안 batch 단위의 학습을 반복하며, loss를 추가함.\n",
    "    def fit(self, x, y, batch_size=16, epochs=100, val_data=None):\n",
    "        Losses = {}\n",
    "        Losses[\"train_loss\"] = []\n",
    "        if val_data is not None:\n",
    "            Losses[\"val_loss\"] = []\n",
    "        \n",
    "        for i in range(epochs):\n",
    "            Loss = 0\n",
    "            pass\n",
    "        \n",
    "            if val_data is not None:\n",
    "                pass\n",
    "                \n",
    "        return Losses"
   ]
  },
  {
   "cell_type": "code",
   "execution_count": null,
   "metadata": {},
   "outputs": [],
   "source": [
    "model = FFNN()"
   ]
  },
  {
   "cell_type": "code",
   "execution_count": null,
   "metadata": {},
   "outputs": [],
   "source": [
    "hist = model.fit(x_train, y_train, val_data=(x_val, y_val))"
   ]
  },
  {
   "cell_type": "code",
   "execution_count": null,
   "metadata": {},
   "outputs": [],
   "source": [
    "import pandas as pd\n",
    "import matplotlib.pyplot as plt\n",
    "\n",
    "# loss의 결과를 시각화하세요."
   ]
  },
  {
   "cell_type": "code",
   "execution_count": null,
   "metadata": {},
   "outputs": [],
   "source": [
    "model.w"
   ]
  },
  {
   "cell_type": "code",
   "execution_count": null,
   "metadata": {},
   "outputs": [],
   "source": [
    "model.b"
   ]
  }
 ],
 "metadata": {
  "kernelspec": {
   "display_name": "Python 3",
   "language": "python",
   "name": "python3"
  },
  "language_info": {
   "codemirror_mode": {
    "name": "ipython",
    "version": 3
   },
   "file_extension": ".py",
   "mimetype": "text/x-python",
   "name": "python",
   "nbconvert_exporter": "python",
   "pygments_lexer": "ipython3",
   "version": "3.7.3"
  },
  "toc": {
   "base_numbering": 1,
   "nav_menu": {},
   "number_sections": false,
   "sideBar": true,
   "skip_h1_title": false,
   "title_cell": "Table of Contents",
   "title_sidebar": "Contents",
   "toc_cell": false,
   "toc_position": {},
   "toc_section_display": true,
   "toc_window_display": false
  },
  "varInspector": {
   "cols": {
    "lenName": 16,
    "lenType": 16,
    "lenVar": 40
   },
   "kernels_config": {
    "python": {
     "delete_cmd_postfix": "",
     "delete_cmd_prefix": "del ",
     "library": "var_list.py",
     "varRefreshCmd": "print(var_dic_list())"
    },
    "r": {
     "delete_cmd_postfix": ") ",
     "delete_cmd_prefix": "rm(",
     "library": "var_list.r",
     "varRefreshCmd": "cat(var_dic_list()) "
    }
   },
   "types_to_exclude": [
    "module",
    "function",
    "builtin_function_or_method",
    "instance",
    "_Feature"
   ],
   "window_display": false
  }
 },
 "nbformat": 4,
 "nbformat_minor": 2
}
