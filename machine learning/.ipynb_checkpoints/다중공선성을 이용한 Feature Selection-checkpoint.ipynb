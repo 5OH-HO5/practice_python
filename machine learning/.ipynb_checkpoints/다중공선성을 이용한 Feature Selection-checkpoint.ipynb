{
 "cells": [
  {
   "cell_type": "code",
   "execution_count": 1,
   "metadata": {},
   "outputs": [],
   "source": [
    "# scikit learn package에서 linear_model 이라는 모듈을 불러들임\n",
    "from sklearn import linear_model\n",
    "import numpy as np\n",
    "import pandas as pd"
   ]
  },
  {
   "cell_type": "code",
   "execution_count": 2,
   "metadata": {},
   "outputs": [
    {
     "data": {
      "text/html": [
       "<div>\n",
       "<style scoped>\n",
       "    .dataframe tbody tr th:only-of-type {\n",
       "        vertical-align: middle;\n",
       "    }\n",
       "\n",
       "    .dataframe tbody tr th {\n",
       "        vertical-align: top;\n",
       "    }\n",
       "\n",
       "    .dataframe thead th {\n",
       "        text-align: right;\n",
       "    }\n",
       "</style>\n",
       "<table border=\"1\" class=\"dataframe\">\n",
       "  <thead>\n",
       "    <tr style=\"text-align: right;\">\n",
       "      <th></th>\n",
       "      <th>x1</th>\n",
       "      <th>x2</th>\n",
       "      <th>x3</th>\n",
       "      <th>y</th>\n",
       "    </tr>\n",
       "  </thead>\n",
       "  <tbody>\n",
       "    <tr>\n",
       "      <th>0</th>\n",
       "      <td>1</td>\n",
       "      <td>3</td>\n",
       "      <td>7</td>\n",
       "      <td>30</td>\n",
       "    </tr>\n",
       "    <tr>\n",
       "      <th>1</th>\n",
       "      <td>4</td>\n",
       "      <td>5</td>\n",
       "      <td>8</td>\n",
       "      <td>40</td>\n",
       "    </tr>\n",
       "    <tr>\n",
       "      <th>2</th>\n",
       "      <td>5</td>\n",
       "      <td>7</td>\n",
       "      <td>5</td>\n",
       "      <td>45</td>\n",
       "    </tr>\n",
       "    <tr>\n",
       "      <th>3</th>\n",
       "      <td>8</td>\n",
       "      <td>9</td>\n",
       "      <td>7</td>\n",
       "      <td>60</td>\n",
       "    </tr>\n",
       "    <tr>\n",
       "      <th>4</th>\n",
       "      <td>10</td>\n",
       "      <td>10</td>\n",
       "      <td>4</td>\n",
       "      <td>61</td>\n",
       "    </tr>\n",
       "  </tbody>\n",
       "</table>\n",
       "</div>"
      ],
      "text/plain": [
       "   x1  x2  x3   y\n",
       "0   1   3   7  30\n",
       "1   4   5   8  40\n",
       "2   5   7   5  45\n",
       "3   8   9   7  60\n",
       "4  10  10   4  61"
      ]
     },
     "execution_count": 2,
     "metadata": {},
     "output_type": "execute_result"
    }
   ],
   "source": [
    "# 2차원 배열을 만들어 'data'라는 변수에 할당\n",
    "data = {'x1': [1,4,5,8,10],\n",
    "        'x2': [3,5,7,9,10],\n",
    "        'x3': [7,8,5,7,4],\n",
    "        'y' : [30,40,45,60,61]\n",
    "       }\n",
    "# data라는 변수의 값을 data frame 형태로 변환\n",
    "data = pd.DataFrame(data)\n",
    "data"
   ]
  },
  {
   "cell_type": "code",
   "execution_count": 3,
   "metadata": {},
   "outputs": [
    {
     "data": {
      "text/plain": [
       "LinearRegression(copy_X=True, fit_intercept=True, n_jobs=None,\n",
       "         normalize=False)"
      ]
     },
     "execution_count": 3,
     "metadata": {},
     "output_type": "execute_result"
    }
   ],
   "source": [
    "# linear_model 모듈이 포함하고 있는 Linearregression() 함수를 'linear_regression'이라고 하는 변수에 할당\n",
    "linear_regression = linear_model.LinearRegression()\n",
    "\n",
    "# Linearregression()의 fit()이라는 함수를 이용하여 선형회귀모델 훈련실행\n",
    "# 이 때 독립변수는 x1, x2, x3, 종속변수는 y\n",
    "linear_regression.fit(X = pd.DataFrame(data[[\"x1\",\"x2\",\"x3\"]]), y = data[\"y\"])"
   ]
  },
  {
   "cell_type": "code",
   "execution_count": 4,
   "metadata": {},
   "outputs": [
    {
     "data": {
      "text/plain": [
       "0.9952763020975958"
      ]
     },
     "execution_count": 4,
     "metadata": {},
     "output_type": "execute_result"
    }
   ],
   "source": [
    "# 모든 독립변수를 이용하여 선형회귀를 하고 r_square를 계산\n",
    "linear_regression.score(X = pd.DataFrame(data[[\"x1\",\"x2\",\"x3\"]]), y = data[\"y\"])"
   ]
  },
  {
   "cell_type": "code",
   "execution_count": 5,
   "metadata": {},
   "outputs": [
    {
     "data": {
      "text/plain": [
       "array([28.98387097, 41.06451613, 45.82258065, 59.32258065, 60.80645161])"
      ]
     },
     "execution_count": 5,
     "metadata": {},
     "output_type": "execute_result"
    }
   ],
   "source": [
    "# linear_regression을 이용하여 예측을 수행하고 예측값을 prediction에 대입\n",
    "prediction = linear_regression.predict(X = pd.DataFrame(data[[\"x1\",\"x2\",\"x3\"]]))\n",
    "prediction"
   ]
  },
  {
   "cell_type": "code",
   "execution_count": 6,
   "metadata": {},
   "outputs": [
    {
     "data": {
      "text/plain": [
       "0   -1.016129\n",
       "1    1.064516\n",
       "2    0.822581\n",
       "3   -0.677419\n",
       "4   -0.193548\n",
       "Name: y, dtype: float64"
      ]
     },
     "execution_count": 6,
     "metadata": {},
     "output_type": "execute_result"
    }
   ],
   "source": [
    "# 예측값 - 진짜값을 계산(잔차)\n",
    "residual = prediction - data[\"y\"]\n",
    "residual"
   ]
  },
  {
   "cell_type": "code",
   "execution_count": 7,
   "metadata": {},
   "outputs": [
    {
     "data": {
      "text/plain": [
       "0.6677419354838687"
      ]
     },
     "execution_count": 7,
     "metadata": {},
     "output_type": "execute_result"
    }
   ],
   "source": [
    "# 잔차 제곱의 평균(Mean Square ERROR)을 계산 (데이터의 수는 5)\n",
    "MSE = (residual*residual).sum()/5\n",
    "MSE"
   ]
  },
  {
   "cell_type": "code",
   "execution_count": 10,
   "metadata": {},
   "outputs": [
    {
     "data": {
      "text/plain": [
       "0.8171547806161747"
      ]
     },
     "execution_count": 10,
     "metadata": {},
     "output_type": "execute_result"
    }
   ],
   "source": [
    "# 제곱근 잔차 제곱의 평균(ROOT Mean Square ERROR)을 계산 (데이터의 수는 5)\n",
    "RMSE = ((residual*residual).sum()/5)**0.5\n",
    "RMSE"
   ]
  },
  {
   "cell_type": "code",
   "execution_count": 9,
   "metadata": {},
   "outputs": [
    {
     "name": "stdout",
     "output_type": "stream",
     "text": [
      "a value =  -3.4623255813953495\n",
      "b value =  [1.2427907  0.09860465]\n"
     ]
    }
   ],
   "source": [
    "# x1에 대한 다중공선성을 계산하기 위해서 x1을 종속변수로 다른 독립변수 x2, x3를 독립변수로 선형회귀 함수를 만듦\n",
    "\n",
    "# linear_model 모듈이 포함하고 있는 Linearregression() 함수를 'linear_regression'이라고 하는 변수에 할당\n",
    "linear_regression = linear_model.LinearRegression()\n",
    "\n",
    "# Linearregression()의 fit()이라는 함수를 이용하여 선형회귀모델 훈련실행\n",
    "# 이 때 독립변수는 x2, x3, 종속변수는 x1\n",
    "linear_regression.fit(X = pd.DataFrame(data[[\"x2\",\"x3\"]]), y = data[\"x1\"])\n",
    "\n",
    "# 선형회귀식의 세로축 절편 'linear_regression.intercept_'를 구하여 출력한다\n",
    "print('a value = ', linear_regression.intercept_)\n",
    "\n",
    "# 선형회귀식의 기울기 'linear_regression.coef_'를 구하여 출력한다\n",
    "print('b value = ', linear_regression.coef_)\n"
   ]
  },
  {
   "cell_type": "code",
   "execution_count": 12,
   "metadata": {},
   "outputs": [
    {
     "data": {
      "text/plain": [
       "0.9730383815466063"
      ]
     },
     "execution_count": 12,
     "metadata": {},
     "output_type": "execute_result"
    }
   ],
   "source": [
    "# r_square 값을 계산\n",
    "# 독립변수에 X에 x2, x3 컬럼을 (data[[\"x2\",\"x3\"]]) 데이터프레임으로 만들어서 대입 pd.DataFrame()\n",
    "# 종속변수 y에 data[\"x1\"]을 대입\n",
    "r_square = linear_regression.score(X = pd.DataFrame(data[[\"x2\",\"x3\"]]), y = data[\"x1\"])\n",
    "r_square"
   ]
  },
  {
   "cell_type": "code",
   "execution_count": 13,
   "metadata": {},
   "outputs": [
    {
     "data": {
      "text/plain": [
       "37.08976157082763"
      ]
     },
     "execution_count": 13,
     "metadata": {},
     "output_type": "execute_result"
    }
   ],
   "source": [
    "# x1의 vif를 계산\n",
    "vif_x1 = 1. / (1. - r_square)\n",
    "vif_x1"
   ]
  },
  {
   "cell_type": "code",
   "execution_count": 16,
   "metadata": {},
   "outputs": [],
   "source": [
    "from sklearn.linear_model import LinearRegression\n",
    "def sklearn_vif(X, y):\n",
    "    # X와 y에 대해서 선형회귀 함수를 구하고 r_square를 return\n",
    "    r_squared = LinearRegression().fit(X, y).score(X, y)\n",
    "    # VIF를 계산\n",
    "    vif = 1. / (1. - r_squared)\n",
    "    return vif"
   ]
  },
  {
   "cell_type": "code",
   "execution_count": 17,
   "metadata": {},
   "outputs": [
    {
     "data": {
      "text/plain": [
       "37.08976157082763"
      ]
     },
     "execution_count": 17,
     "metadata": {},
     "output_type": "execute_result"
    }
   ],
   "source": [
    "# x1의 VIF를 계산\n",
    "sklearn_vif(data[[\"x2\",\"x3\"]],data[\"x1\"])"
   ]
  },
  {
   "cell_type": "code",
   "execution_count": 18,
   "metadata": {},
   "outputs": [
    {
     "data": {
      "text/plain": [
       "39.83842917251046"
      ]
     },
     "execution_count": 18,
     "metadata": {},
     "output_type": "execute_result"
    }
   ],
   "source": [
    "# x2의 VIF를 계산\n",
    "sklearn_vif(data[[\"x1\",\"x3\"]],data[\"x2\"])"
   ]
  },
  {
   "cell_type": "code",
   "execution_count": 19,
   "metadata": {},
   "outputs": [
    {
     "data": {
      "text/plain": [
       "1.7267882187938297"
      ]
     },
     "execution_count": 19,
     "metadata": {},
     "output_type": "execute_result"
    }
   ],
   "source": [
    "# x3의 VIF를 계산\n",
    "sklearn_vif(data[[\"x1\",\"x2\"]],data[\"x3\"])"
   ]
  },
  {
   "cell_type": "code",
   "execution_count": 20,
   "metadata": {},
   "outputs": [
    {
     "data": {
      "text/html": [
       "<div>\n",
       "<style scoped>\n",
       "    .dataframe tbody tr th:only-of-type {\n",
       "        vertical-align: middle;\n",
       "    }\n",
       "\n",
       "    .dataframe tbody tr th {\n",
       "        vertical-align: top;\n",
       "    }\n",
       "\n",
       "    .dataframe thead th {\n",
       "        text-align: right;\n",
       "    }\n",
       "</style>\n",
       "<table border=\"1\" class=\"dataframe\">\n",
       "  <thead>\n",
       "    <tr style=\"text-align: right;\">\n",
       "      <th></th>\n",
       "      <th>x1</th>\n",
       "      <th>x3</th>\n",
       "      <th>y</th>\n",
       "    </tr>\n",
       "  </thead>\n",
       "  <tbody>\n",
       "    <tr>\n",
       "      <th>0</th>\n",
       "      <td>1</td>\n",
       "      <td>7</td>\n",
       "      <td>30</td>\n",
       "    </tr>\n",
       "    <tr>\n",
       "      <th>1</th>\n",
       "      <td>4</td>\n",
       "      <td>8</td>\n",
       "      <td>40</td>\n",
       "    </tr>\n",
       "    <tr>\n",
       "      <th>2</th>\n",
       "      <td>5</td>\n",
       "      <td>5</td>\n",
       "      <td>45</td>\n",
       "    </tr>\n",
       "    <tr>\n",
       "      <th>3</th>\n",
       "      <td>8</td>\n",
       "      <td>7</td>\n",
       "      <td>60</td>\n",
       "    </tr>\n",
       "    <tr>\n",
       "      <th>4</th>\n",
       "      <td>10</td>\n",
       "      <td>4</td>\n",
       "      <td>61</td>\n",
       "    </tr>\n",
       "  </tbody>\n",
       "</table>\n",
       "</div>"
      ],
      "text/plain": [
       "   x1  x3   y\n",
       "0   1   7  30\n",
       "1   4   8  40\n",
       "2   5   5  45\n",
       "3   8   7  60\n",
       "4  10   4  61"
      ]
     },
     "execution_count": 20,
     "metadata": {},
     "output_type": "execute_result"
    }
   ],
   "source": [
    "# VIF가 10 초과인 독립변수 중 가장 값이 높은 독립변수 x2를 제거\n",
    "data = data[[\"x1\",\"x3\",\"y\"]]\n",
    "data"
   ]
  },
  {
   "cell_type": "code",
   "execution_count": 21,
   "metadata": {},
   "outputs": [
    {
     "data": {
      "text/plain": [
       "1.5339491916859123"
      ]
     },
     "execution_count": 21,
     "metadata": {},
     "output_type": "execute_result"
    }
   ],
   "source": [
    "# x1의 VIF를 계산\n",
    "sklearn_vif(data[[\"x3\"]],data[\"x1\"])"
   ]
  },
  {
   "cell_type": "code",
   "execution_count": 22,
   "metadata": {},
   "outputs": [
    {
     "data": {
      "text/plain": [
       "1.5339491916859125"
      ]
     },
     "execution_count": 22,
     "metadata": {},
     "output_type": "execute_result"
    }
   ],
   "source": [
    "# x3의 VIF를 계산\n",
    "sklearn_vif(data[[\"x1\"]],data[\"x3\"])"
   ]
  },
  {
   "cell_type": "code",
   "execution_count": 25,
   "metadata": {},
   "outputs": [
    {
     "data": {
      "text/plain": [
       "LinearRegression(copy_X=True, fit_intercept=True, n_jobs=None,\n",
       "         normalize=False)"
      ]
     },
     "execution_count": 25,
     "metadata": {},
     "output_type": "execute_result"
    }
   ],
   "source": [
    "# x1과 x3로 선형회귀 함수를 만들고 r_square 계산\n",
    "linear_regression = linear_model.LinearRegression()\n",
    "\n",
    "# Linearregression()의 fit()이라는 함수를 이용하여 선형회귀모델 훈련실행\n",
    "# 이 때 독립변수는 x1, x3, 종속변수는 y\n",
    "linear_regression.fit(X = pd.DataFrame(data[[\"x1\",\"x3\"]]), y = data[\"y\"])"
   ]
  },
  {
   "cell_type": "code",
   "execution_count": 26,
   "metadata": {},
   "outputs": [
    {
     "data": {
      "text/plain": [
       "0.9757257443691176"
      ]
     },
     "execution_count": 26,
     "metadata": {},
     "output_type": "execute_result"
    }
   ],
   "source": [
    "linear_regression.score(X = pd.DataFrame(data[[\"x1\",\"x3\"]]), y = data[\"y\"])"
   ]
  },
  {
   "cell_type": "code",
   "execution_count": 27,
   "metadata": {},
   "outputs": [
    {
     "data": {
      "text/plain": [
       "array([29.61778291, 42.48845266, 43.70323326, 57.4965358 , 62.69399538])"
      ]
     },
     "execution_count": 27,
     "metadata": {},
     "output_type": "execute_result"
    }
   ],
   "source": [
    "# linear_regression을 이용하여 예측을 수행하고 예측값을 prediction에 대입\n",
    "prediction = linear_regression.predict(X = pd.DataFrame(data[[\"x1\",\"x3\"]]))\n",
    "prediction"
   ]
  },
  {
   "cell_type": "code",
   "execution_count": 29,
   "metadata": {},
   "outputs": [
    {
     "data": {
      "text/plain": [
       "0   -0.382217\n",
       "1    2.488453\n",
       "2   -1.296767\n",
       "3   -2.503464\n",
       "4    1.693995\n",
       "Name: y, dtype: float64"
      ]
     },
     "execution_count": 29,
     "metadata": {},
     "output_type": "execute_result"
    }
   ],
   "source": [
    "# 예측값 - 진짜값을 계산(잔차)\n",
    "residual = prediction - data[\"y\"]\n",
    "residual"
   ]
  },
  {
   "cell_type": "code",
   "execution_count": 30,
   "metadata": {},
   "outputs": [
    {
     "data": {
      "text/plain": [
       "3.4314087759815246"
      ]
     },
     "execution_count": 30,
     "metadata": {},
     "output_type": "execute_result"
    }
   ],
   "source": [
    "# 잔차의 제곱의 평균(Mean Square ERROR)을 계산 (데이터의 수는 5)\n",
    "MSE = (residual*residual).sum()/5\n",
    "MSE"
   ]
  },
  {
   "cell_type": "code",
   "execution_count": 33,
   "metadata": {},
   "outputs": [
    {
     "data": {
      "text/plain": [
       "0.8284212426032452"
      ]
     },
     "execution_count": 33,
     "metadata": {},
     "output_type": "execute_result"
    }
   ],
   "source": [
    "# 제곱근 잔차 제곱의 평균(ROOT Mean Square ERROR)을 계산 (데이터의 수는 5)\n",
    "RMSE = ((residual*residual).sum()**0.5)/5\n",
    "RMSE"
   ]
  },
  {
   "cell_type": "code",
   "execution_count": null,
   "metadata": {},
   "outputs": [],
   "source": []
  }
 ],
 "metadata": {
  "kernelspec": {
   "display_name": "Python 3",
   "language": "python",
   "name": "python3"
  },
  "language_info": {
   "codemirror_mode": {
    "name": "ipython",
    "version": 3
   },
   "file_extension": ".py",
   "mimetype": "text/x-python",
   "name": "python",
   "nbconvert_exporter": "python",
   "pygments_lexer": "ipython3",
   "version": "3.7.3"
  }
 },
 "nbformat": 4,
 "nbformat_minor": 2
}
