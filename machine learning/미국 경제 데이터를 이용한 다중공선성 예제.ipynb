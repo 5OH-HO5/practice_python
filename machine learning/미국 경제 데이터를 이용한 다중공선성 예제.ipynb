{
 "cells": [
  {
   "cell_type": "code",
   "execution_count": 1,
   "metadata": {},
   "outputs": [],
   "source": [
    "import pandas as pd\n",
    "import numpy as np\n",
    "import matplotlib.pyplot as plt\n",
    "from sklearn.linear_model import LinearRegression\n",
    "from sklearn.metrics import r2_score\n",
    "import statsmodels.api as sm\n",
    "import seaborn as sns"
   ]
  },
  {
   "cell_type": "code",
   "execution_count": 2,
   "metadata": {},
   "outputs": [],
   "source": [
    "from statsmodels.datasets.longley import load_pandas\n",
    "\n",
    "# gnp deflator(실질 GNP), GNP, 실업자수, 군대, 인구\n",
    "dfX = load_pandas().exog\n",
    "# 고용자 수\n",
    "dfy = load_pandas().endog\n",
    "# 데이터프레임 생성\n",
    "df = pd.concat([dfX, dfy], axis = 1)"
   ]
  },
  {
   "cell_type": "code",
   "execution_count": 3,
   "metadata": {
    "scrolled": true
   },
   "outputs": [
    {
     "data": {
      "image/png": "[encoded data removed]",
      "text/plain": [
       "<Figure size 432x288 with 2 Axes>"
      ]
     },
     "metadata": {
      "needs_background": "light"
     },
     "output_type": "display_data"
    }
   ],
   "source": [
    "# 관계를 그림으로 그림\n",
    "# annot = True: 관계지수 숫자 출력\n",
    "# cmap = 색깔 / \"BuPu\" : 파랑 ~ 보라 / \"BuPu_r\" : _r = reverse 색깔이 반대로\n",
    "# annot = 칸 이름 / corr = 상관계수\n",
    "sns.heatmap(dfX.corr(), annot = True, cmap = \"BuPu\")\n",
    "plt.show()"
   ]
  },
  {
   "cell_type": "code",
   "execution_count": 4,
   "metadata": {},
   "outputs": [
    {
     "data": {
      "text/html": [
       "<div>\n",
       "<style scoped>\n",
       "    .dataframe tbody tr th:only-of-type {\n",
       "        vertical-align: middle;\n",
       "    }\n",
       "\n",
       "    .dataframe tbody tr th {\n",
       "        vertical-align: top;\n",
       "    }\n",
       "\n",
       "    .dataframe thead th {\n",
       "        text-align: right;\n",
       "    }\n",
       "</style>\n",
       "<table border=\"1\" class=\"dataframe\">\n",
       "  <thead>\n",
       "    <tr style=\"text-align: right;\">\n",
       "      <th></th>\n",
       "      <th>GNPDEFL</th>\n",
       "      <th>GNP</th>\n",
       "      <th>UNEMP</th>\n",
       "      <th>ARMED</th>\n",
       "      <th>POP</th>\n",
       "      <th>YEAR</th>\n",
       "      <th>TOTEMP</th>\n",
       "    </tr>\n",
       "  </thead>\n",
       "  <tbody>\n",
       "    <tr>\n",
       "      <th>0</th>\n",
       "      <td>83.0</td>\n",
       "      <td>234289.0</td>\n",
       "      <td>2356.0</td>\n",
       "      <td>1590.0</td>\n",
       "      <td>107608.0</td>\n",
       "      <td>1947.0</td>\n",
       "      <td>60323.0</td>\n",
       "    </tr>\n",
       "    <tr>\n",
       "      <th>1</th>\n",
       "      <td>88.5</td>\n",
       "      <td>259426.0</td>\n",
       "      <td>2325.0</td>\n",
       "      <td>1456.0</td>\n",
       "      <td>108632.0</td>\n",
       "      <td>1948.0</td>\n",
       "      <td>61122.0</td>\n",
       "    </tr>\n",
       "    <tr>\n",
       "      <th>2</th>\n",
       "      <td>88.2</td>\n",
       "      <td>258054.0</td>\n",
       "      <td>3682.0</td>\n",
       "      <td>1616.0</td>\n",
       "      <td>109773.0</td>\n",
       "      <td>1949.0</td>\n",
       "      <td>60171.0</td>\n",
       "    </tr>\n",
       "    <tr>\n",
       "      <th>3</th>\n",
       "      <td>89.5</td>\n",
       "      <td>284599.0</td>\n",
       "      <td>3351.0</td>\n",
       "      <td>1650.0</td>\n",
       "      <td>110929.0</td>\n",
       "      <td>1950.0</td>\n",
       "      <td>61187.0</td>\n",
       "    </tr>\n",
       "    <tr>\n",
       "      <th>4</th>\n",
       "      <td>96.2</td>\n",
       "      <td>328975.0</td>\n",
       "      <td>2099.0</td>\n",
       "      <td>3099.0</td>\n",
       "      <td>112075.0</td>\n",
       "      <td>1951.0</td>\n",
       "      <td>63221.0</td>\n",
       "    </tr>\n",
       "  </tbody>\n",
       "</table>\n",
       "</div>"
      ],
      "text/plain": [
       "   GNPDEFL       GNP   UNEMP   ARMED       POP    YEAR   TOTEMP\n",
       "0     83.0  234289.0  2356.0  1590.0  107608.0  1947.0  60323.0\n",
       "1     88.5  259426.0  2325.0  1456.0  108632.0  1948.0  61122.0\n",
       "2     88.2  258054.0  3682.0  1616.0  109773.0  1949.0  60171.0\n",
       "3     89.5  284599.0  3351.0  1650.0  110929.0  1950.0  61187.0\n",
       "4     96.2  328975.0  2099.0  3099.0  112075.0  1951.0  63221.0"
      ]
     },
     "execution_count": 4,
     "metadata": {},
     "output_type": "execute_result"
    }
   ],
   "source": [
    "df.head()"
   ]
  },
  {
   "cell_type": "code",
   "execution_count": 5,
   "metadata": {},
   "outputs": [
    {
     "data": {
      "text/html": [
       "<div>\n",
       "<style scoped>\n",
       "    .dataframe tbody tr th:only-of-type {\n",
       "        vertical-align: middle;\n",
       "    }\n",
       "\n",
       "    .dataframe tbody tr th {\n",
       "        vertical-align: top;\n",
       "    }\n",
       "\n",
       "    .dataframe thead th {\n",
       "        text-align: right;\n",
       "    }\n",
       "</style>\n",
       "<table border=\"1\" class=\"dataframe\">\n",
       "  <thead>\n",
       "    <tr style=\"text-align: right;\">\n",
       "      <th></th>\n",
       "      <th>GNPDEFL</th>\n",
       "      <th>GNP</th>\n",
       "      <th>UNEMP</th>\n",
       "      <th>ARMED</th>\n",
       "      <th>POP</th>\n",
       "    </tr>\n",
       "  </thead>\n",
       "  <tbody>\n",
       "    <tr>\n",
       "      <th>0</th>\n",
       "      <td>83.0</td>\n",
       "      <td>234289.0</td>\n",
       "      <td>2356.0</td>\n",
       "      <td>1590.0</td>\n",
       "      <td>107608.0</td>\n",
       "    </tr>\n",
       "    <tr>\n",
       "      <th>1</th>\n",
       "      <td>88.5</td>\n",
       "      <td>259426.0</td>\n",
       "      <td>2325.0</td>\n",
       "      <td>1456.0</td>\n",
       "      <td>108632.0</td>\n",
       "    </tr>\n",
       "    <tr>\n",
       "      <th>2</th>\n",
       "      <td>88.2</td>\n",
       "      <td>258054.0</td>\n",
       "      <td>3682.0</td>\n",
       "      <td>1616.0</td>\n",
       "      <td>109773.0</td>\n",
       "    </tr>\n",
       "    <tr>\n",
       "      <th>3</th>\n",
       "      <td>89.5</td>\n",
       "      <td>284599.0</td>\n",
       "      <td>3351.0</td>\n",
       "      <td>1650.0</td>\n",
       "      <td>110929.0</td>\n",
       "    </tr>\n",
       "    <tr>\n",
       "      <th>4</th>\n",
       "      <td>96.2</td>\n",
       "      <td>328975.0</td>\n",
       "      <td>2099.0</td>\n",
       "      <td>3099.0</td>\n",
       "      <td>112075.0</td>\n",
       "    </tr>\n",
       "  </tbody>\n",
       "</table>\n",
       "</div>"
      ],
      "text/plain": [
       "   GNPDEFL       GNP   UNEMP   ARMED       POP\n",
       "0     83.0  234289.0  2356.0  1590.0  107608.0\n",
       "1     88.5  259426.0  2325.0  1456.0  108632.0\n",
       "2     88.2  258054.0  3682.0  1616.0  109773.0\n",
       "3     89.5  284599.0  3351.0  1650.0  110929.0\n",
       "4     96.2  328975.0  2099.0  3099.0  112075.0"
      ]
     },
     "execution_count": 5,
     "metadata": {},
     "output_type": "execute_result"
    }
   ],
   "source": [
    "# TOTEMP 컬럼을 Y에 대입\n",
    "y = df['TOTEMP'] # TOTEMP 고용자 수\n",
    "# TOTEMP, YEAR 컬러을 제외하고 X에 대입\n",
    "X = df.drop(['TOTEMP', 'YEAR'], axis = 1)\n",
    "X.head()"
   ]
  },
  {
   "cell_type": "code",
   "execution_count": 6,
   "metadata": {},
   "outputs": [
    {
     "data": {
      "text/plain": [
       "83.0"
      ]
     },
     "execution_count": 6,
     "metadata": {},
     "output_type": "execute_result"
    }
   ],
   "source": [
    "# 범위조절 MinMaxScaler\n",
    "GNPDEFL = df[\"GNPDEFL\"]\n",
    "GNPDEFL.min()"
   ]
  },
  {
   "cell_type": "code",
   "execution_count": 7,
   "metadata": {},
   "outputs": [
    {
     "data": {
      "text/plain": [
       "116.9"
      ]
     },
     "execution_count": 7,
     "metadata": {},
     "output_type": "execute_result"
    }
   ],
   "source": [
    "GNPDEFL.max()"
   ]
  },
  {
   "cell_type": "code",
   "execution_count": 8,
   "metadata": {},
   "outputs": [
    {
     "data": {
      "text/plain": [
       "0      0.0\n",
       "1      5.5\n",
       "2      5.2\n",
       "3      6.5\n",
       "4     13.2\n",
       "5     15.1\n",
       "6     16.0\n",
       "7     17.0\n",
       "8     18.2\n",
       "9     21.6\n",
       "10    25.4\n",
       "11    27.8\n",
       "12    29.6\n",
       "13    31.2\n",
       "14    32.7\n",
       "15    33.9\n",
       "Name: GNPDEFL, dtype: float64"
      ]
     },
     "execution_count": 8,
     "metadata": {},
     "output_type": "execute_result"
    }
   ],
   "source": [
    "# 0 ~ 1 사이의 범위 만들기 / min은 0, max는 1로 만들어준다\n",
    "GNPDEFL - GNPDEFL.min()"
   ]
  },
  {
   "cell_type": "code",
   "execution_count": 9,
   "metadata": {},
   "outputs": [
    {
     "data": {
      "text/plain": [
       "0     0.000000\n",
       "1     0.162242\n",
       "2     0.153392\n",
       "3     0.191740\n",
       "4     0.389381\n",
       "5     0.445428\n",
       "6     0.471976\n",
       "7     0.501475\n",
       "8     0.536873\n",
       "9     0.637168\n",
       "10    0.749263\n",
       "11    0.820059\n",
       "12    0.873156\n",
       "13    0.920354\n",
       "14    0.964602\n",
       "15    1.000000\n",
       "Name: GNPDEFL, dtype: float64"
      ]
     },
     "execution_count": 9,
     "metadata": {},
     "output_type": "execute_result"
    }
   ],
   "source": [
    "# 데이터 - 최소값 / (최대값 - 최소값)\n",
    "(GNPDEFL - GNPDEFL.min()) / (GNPDEFL.max() - GNPDEFL.min())"
   ]
  },
  {
   "cell_type": "code",
   "execution_count": 10,
   "metadata": {},
   "outputs": [
    {
     "data": {
      "text/plain": [
       "MinMaxScaler(copy=True, feature_range=(0, 1))"
      ]
     },
     "execution_count": 10,
     "metadata": {},
     "output_type": "execute_result"
    }
   ],
   "source": [
    "from sklearn.preprocessing import MinMaxScaler\n",
    "# 데이터의 범위를 일정하게 만들어주는 객체 생성\n",
    "scaler = MinMaxScaler()\n",
    "# 각 컬럼의 최소값, 최대값 계산\n",
    "scaler.fit(X)"
   ]
  },
  {
   "cell_type": "code",
   "execution_count": 11,
   "metadata": {},
   "outputs": [
    {
     "data": {
      "text/plain": [
       "array([[0.        , 0.        , 0.16553134, 0.0626754 , 0.        ],\n",
       "       [0.16224189, 0.07840489, 0.15497275, 0.        , 0.04556579],\n",
       "       [0.15339233, 0.07412548, 0.61716621, 0.0748363 , 0.09633783],\n",
       "       [0.19174041, 0.15692207, 0.50442779, 0.09073901, 0.14777733],\n",
       "       [0.38938053, 0.29533538, 0.07799728, 0.76847521, 0.19877186],\n",
       "       [0.44542773, 0.35155409, 0.02111717, 1.        , 0.25194678],\n",
       "       [0.4719764 , 0.40890192, 0.        , 0.97801684, 0.33311084],\n",
       "       [0.50147493, 0.4018122 , 0.58174387, 0.88587465, 0.38317092],\n",
       "       [0.53687316, 0.50897522, 0.35217984, 0.74462114, 0.43518889],\n",
       "       [0.63716814, 0.57669406, 0.32425068, 0.65528531, 0.49508299],\n",
       "       [0.74926254, 0.65027058, 0.36307902, 0.62768943, 0.5712188 ],\n",
       "       [0.820059  , 0.65581323, 0.95742507, 0.55238541, 0.63818805],\n",
       "       [0.87315634, 0.77483196, 0.66178474, 0.51262862, 0.70119699],\n",
       "       [0.92035398, 0.83689275, 0.70197548, 0.494855  , 0.79028167],\n",
       "       [0.96460177, 0.88546342, 1.        , 0.52198316, 0.90081431],\n",
       "       [1.        , 1.        , 0.72786104, 0.64125351, 1.        ]])"
      ]
     },
     "execution_count": 11,
     "metadata": {},
     "output_type": "execute_result"
    }
   ],
   "source": [
    "# 데이터 - 최소값 / (최대값 - 최소값)를 계산해서 각 컬럼의 데이터 범위를 0~1 사이로 일정하게 맞춘 후 변수 X_scaled에 대입\n",
    "X_scaled = scaler.transform(X)\n",
    "X_scaled"
   ]
  },
  {
   "cell_type": "code",
   "execution_count": 12,
   "metadata": {},
   "outputs": [
    {
     "data": {
      "text/html": [
       "<div>\n",
       "<style scoped>\n",
       "    .dataframe tbody tr th:only-of-type {\n",
       "        vertical-align: middle;\n",
       "    }\n",
       "\n",
       "    .dataframe tbody tr th {\n",
       "        vertical-align: top;\n",
       "    }\n",
       "\n",
       "    .dataframe thead th {\n",
       "        text-align: right;\n",
       "    }\n",
       "</style>\n",
       "<table border=\"1\" class=\"dataframe\">\n",
       "  <thead>\n",
       "    <tr style=\"text-align: right;\">\n",
       "      <th></th>\n",
       "      <th>GNPDEFL</th>\n",
       "      <th>GNP</th>\n",
       "      <th>UNEMP</th>\n",
       "      <th>ARMED</th>\n",
       "      <th>POP</th>\n",
       "    </tr>\n",
       "  </thead>\n",
       "  <tbody>\n",
       "    <tr>\n",
       "      <th>0</th>\n",
       "      <td>0.000000</td>\n",
       "      <td>0.000000</td>\n",
       "      <td>0.165531</td>\n",
       "      <td>0.062675</td>\n",
       "      <td>0.000000</td>\n",
       "    </tr>\n",
       "    <tr>\n",
       "      <th>1</th>\n",
       "      <td>0.162242</td>\n",
       "      <td>0.078405</td>\n",
       "      <td>0.154973</td>\n",
       "      <td>0.000000</td>\n",
       "      <td>0.045566</td>\n",
       "    </tr>\n",
       "    <tr>\n",
       "      <th>2</th>\n",
       "      <td>0.153392</td>\n",
       "      <td>0.074125</td>\n",
       "      <td>0.617166</td>\n",
       "      <td>0.074836</td>\n",
       "      <td>0.096338</td>\n",
       "    </tr>\n",
       "    <tr>\n",
       "      <th>3</th>\n",
       "      <td>0.191740</td>\n",
       "      <td>0.156922</td>\n",
       "      <td>0.504428</td>\n",
       "      <td>0.090739</td>\n",
       "      <td>0.147777</td>\n",
       "    </tr>\n",
       "    <tr>\n",
       "      <th>4</th>\n",
       "      <td>0.389381</td>\n",
       "      <td>0.295335</td>\n",
       "      <td>0.077997</td>\n",
       "      <td>0.768475</td>\n",
       "      <td>0.198772</td>\n",
       "    </tr>\n",
       "    <tr>\n",
       "      <th>5</th>\n",
       "      <td>0.445428</td>\n",
       "      <td>0.351554</td>\n",
       "      <td>0.021117</td>\n",
       "      <td>1.000000</td>\n",
       "      <td>0.251947</td>\n",
       "    </tr>\n",
       "    <tr>\n",
       "      <th>6</th>\n",
       "      <td>0.471976</td>\n",
       "      <td>0.408902</td>\n",
       "      <td>0.000000</td>\n",
       "      <td>0.978017</td>\n",
       "      <td>0.333111</td>\n",
       "    </tr>\n",
       "    <tr>\n",
       "      <th>7</th>\n",
       "      <td>0.501475</td>\n",
       "      <td>0.401812</td>\n",
       "      <td>0.581744</td>\n",
       "      <td>0.885875</td>\n",
       "      <td>0.383171</td>\n",
       "    </tr>\n",
       "    <tr>\n",
       "      <th>8</th>\n",
       "      <td>0.536873</td>\n",
       "      <td>0.508975</td>\n",
       "      <td>0.352180</td>\n",
       "      <td>0.744621</td>\n",
       "      <td>0.435189</td>\n",
       "    </tr>\n",
       "    <tr>\n",
       "      <th>9</th>\n",
       "      <td>0.637168</td>\n",
       "      <td>0.576694</td>\n",
       "      <td>0.324251</td>\n",
       "      <td>0.655285</td>\n",
       "      <td>0.495083</td>\n",
       "    </tr>\n",
       "    <tr>\n",
       "      <th>10</th>\n",
       "      <td>0.749263</td>\n",
       "      <td>0.650271</td>\n",
       "      <td>0.363079</td>\n",
       "      <td>0.627689</td>\n",
       "      <td>0.571219</td>\n",
       "    </tr>\n",
       "    <tr>\n",
       "      <th>11</th>\n",
       "      <td>0.820059</td>\n",
       "      <td>0.655813</td>\n",
       "      <td>0.957425</td>\n",
       "      <td>0.552385</td>\n",
       "      <td>0.638188</td>\n",
       "    </tr>\n",
       "    <tr>\n",
       "      <th>12</th>\n",
       "      <td>0.873156</td>\n",
       "      <td>0.774832</td>\n",
       "      <td>0.661785</td>\n",
       "      <td>0.512629</td>\n",
       "      <td>0.701197</td>\n",
       "    </tr>\n",
       "    <tr>\n",
       "      <th>13</th>\n",
       "      <td>0.920354</td>\n",
       "      <td>0.836893</td>\n",
       "      <td>0.701975</td>\n",
       "      <td>0.494855</td>\n",
       "      <td>0.790282</td>\n",
       "    </tr>\n",
       "    <tr>\n",
       "      <th>14</th>\n",
       "      <td>0.964602</td>\n",
       "      <td>0.885463</td>\n",
       "      <td>1.000000</td>\n",
       "      <td>0.521983</td>\n",
       "      <td>0.900814</td>\n",
       "    </tr>\n",
       "    <tr>\n",
       "      <th>15</th>\n",
       "      <td>1.000000</td>\n",
       "      <td>1.000000</td>\n",
       "      <td>0.727861</td>\n",
       "      <td>0.641254</td>\n",
       "      <td>1.000000</td>\n",
       "    </tr>\n",
       "  </tbody>\n",
       "</table>\n",
       "</div>"
      ],
      "text/plain": [
       "     GNPDEFL       GNP     UNEMP     ARMED       POP\n",
       "0   0.000000  0.000000  0.165531  0.062675  0.000000\n",
       "1   0.162242  0.078405  0.154973  0.000000  0.045566\n",
       "2   0.153392  0.074125  0.617166  0.074836  0.096338\n",
       "3   0.191740  0.156922  0.504428  0.090739  0.147777\n",
       "4   0.389381  0.295335  0.077997  0.768475  0.198772\n",
       "5   0.445428  0.351554  0.021117  1.000000  0.251947\n",
       "6   0.471976  0.408902  0.000000  0.978017  0.333111\n",
       "7   0.501475  0.401812  0.581744  0.885875  0.383171\n",
       "8   0.536873  0.508975  0.352180  0.744621  0.435189\n",
       "9   0.637168  0.576694  0.324251  0.655285  0.495083\n",
       "10  0.749263  0.650271  0.363079  0.627689  0.571219\n",
       "11  0.820059  0.655813  0.957425  0.552385  0.638188\n",
       "12  0.873156  0.774832  0.661785  0.512629  0.701197\n",
       "13  0.920354  0.836893  0.701975  0.494855  0.790282\n",
       "14  0.964602  0.885463  1.000000  0.521983  0.900814\n",
       "15  1.000000  1.000000  0.727861  0.641254  1.000000"
      ]
     },
     "execution_count": 12,
     "metadata": {},
     "output_type": "execute_result"
    }
   ],
   "source": [
    "# X_scaled를 DataFrame으로 생성\n",
    "# columns의 이름은 X, columns(X의 컬럼)으로 설정\n",
    "X = pd.DataFrame(X_scaled, columns = X.columns)\n",
    "X"
   ]
  },
  {
   "cell_type": "code",
   "execution_count": 13,
   "metadata": {},
   "outputs": [
    {
     "data": {
      "text/plain": [
       "LinearRegression(copy_X=True, fit_intercept=True, n_jobs=None, normalize=False)"
      ]
     },
     "execution_count": 13,
     "metadata": {},
     "output_type": "execute_result"
    }
   ],
   "source": [
    "# 선형회귀 객체 생성\n",
    "reg = LinearRegression()\n",
    "# 선형회귀 실행\n",
    "reg.fit(X,y)"
   ]
  },
  {
   "cell_type": "code",
   "execution_count": 14,
   "metadata": {},
   "outputs": [
    {
     "name": "stdout",
     "output_type": "stream",
     "text": [
      "[-1642.88987543 23084.79411175 -1185.7654284  -1198.33955478\n",
      " -9068.05060078]\n",
      "60316.520285629886\n"
     ]
    }
   ],
   "source": [
    "# Weight 출력\n",
    "print(reg.coef_)\n",
    "# Bias 출력\n",
    "print(reg.intercept_)"
   ]
  },
  {
   "cell_type": "code",
   "execution_count": 15,
   "metadata": {},
   "outputs": [
    {
     "name": "stdout",
     "output_type": "stream",
     "text": [
      "The linear model is: Y = 60316.520285629886 + -1642.889875430809*GNPDEFL + 23084.794111748724*GNP + -1185.7654284028133*UNEMP + -1198.3395547765765*ARMED + -9068.050600778124*POP\n"
     ]
    }
   ],
   "source": [
    "print(\"The linear model is: Y = {} + {}*GNPDEFL + {}*GNP + {}*UNEMP + {}*ARMED + {}*POP\".format(\n",
    "    reg.intercept_, reg.coef_[0], reg.coef_[1], reg.coef_[2], reg.coef_[3], reg.coef_[4]))"
   ]
  },
  {
   "cell_type": "code",
   "execution_count": 16,
   "metadata": {},
   "outputs": [
    {
     "data": {
      "text/plain": [
       "array([60045.13254307, 61262.98126938, 60080.59511106, 61577.10404942,\n",
       "       63678.7134359 , 64192.23972166, 64787.86941276, 63542.40042971,\n",
       "       65927.85839769, 66923.40975212, 67734.37439117, 66524.21866929,\n",
       "       69011.34237133, 69532.28010289, 69192.6183171 , 71058.86202547])"
      ]
     },
     "execution_count": 16,
     "metadata": {},
     "output_type": "execute_result"
    }
   ],
   "source": [
    "# X의 예측치를 prediction에 대입\n",
    "predictions = reg.predict(X)\n",
    "predictions"
   ]
  },
  {
   "cell_type": "code",
   "execution_count": 17,
   "metadata": {
    "scrolled": true
   },
   "outputs": [
    {
     "data": {
      "text/plain": [
       "count    1.600000e+01\n",
       "mean     3.637979e-12\n",
       "std      3.945662e+02\n",
       "min     -5.532397e+02\n",
       "25%     -3.647828e+02\n",
       "50%      6.106239e+01\n",
       "75%      2.054978e+02\n",
       "max      9.335902e+02\n",
       "Name: TOTEMP, dtype: float64"
      ]
     },
     "execution_count": 17,
     "metadata": {},
     "output_type": "execute_result"
    }
   ],
   "source": [
    "# 실제 데이터 y에서 예측값 predictions를 빼서 잔차를 계산\n",
    "residuals = y - predictions\n",
    "residuals.describe()"
   ]
  },
  {
   "cell_type": "code",
   "execution_count": 18,
   "metadata": {},
   "outputs": [
    {
     "data": {
      "text/plain": [
       "0.9873776967532714"
      ]
     },
     "execution_count": 18,
     "metadata": {},
     "output_type": "execute_result"
    }
   ],
   "source": [
    "SSE = (residuals**2).sum()\n",
    "SST = ((y-y.mean())**2).sum()\n",
    "R_square = 1 - (SSE/SST)\n",
    "R_square"
   ]
  },
  {
   "cell_type": "code",
   "execution_count": 19,
   "metadata": {},
   "outputs": [],
   "source": [
    "exog = X\n",
    "exog_idx = 1"
   ]
  },
  {
   "cell_type": "code",
   "execution_count": 20,
   "metadata": {},
   "outputs": [
    {
     "data": {
      "text/plain": [
       "5"
      ]
     },
     "execution_count": 20,
     "metadata": {},
     "output_type": "execute_result"
    }
   ],
   "source": [
    "# 전체 칸의 수\n",
    "exog.values.shape[1]"
   ]
  },
  {
   "cell_type": "code",
   "execution_count": 21,
   "metadata": {},
   "outputs": [
    {
     "data": {
      "text/plain": [
       "5"
      ]
     },
     "execution_count": 21,
     "metadata": {},
     "output_type": "execute_result"
    }
   ],
   "source": [
    "# 칸 = k / 줄 = n\n",
    "k_vars = exog.values.shape[1]\n",
    "k_vars"
   ]
  },
  {
   "cell_type": "code",
   "execution_count": 22,
   "metadata": {},
   "outputs": [
    {
     "data": {
      "text/plain": [
       "array([0, 1, 2, 3, 4])"
      ]
     },
     "execution_count": 22,
     "metadata": {},
     "output_type": "execute_result"
    }
   ],
   "source": [
    "arr = np.arange(k_vars)\n",
    "arr"
   ]
  },
  {
   "cell_type": "code",
   "execution_count": 23,
   "metadata": {},
   "outputs": [
    {
     "data": {
      "text/plain": [
       "array([ True, False,  True,  True,  True])"
      ]
     },
     "execution_count": 23,
     "metadata": {},
     "output_type": "execute_result"
    }
   ],
   "source": [
    "arr != exog_idx"
   ]
  },
  {
   "cell_type": "code",
   "execution_count": 24,
   "metadata": {},
   "outputs": [
    {
     "data": {
      "text/html": [
       "<div>\n",
       "<style scoped>\n",
       "    .dataframe tbody tr th:only-of-type {\n",
       "        vertical-align: middle;\n",
       "    }\n",
       "\n",
       "    .dataframe tbody tr th {\n",
       "        vertical-align: top;\n",
       "    }\n",
       "\n",
       "    .dataframe thead th {\n",
       "        text-align: right;\n",
       "    }\n",
       "</style>\n",
       "<table border=\"1\" class=\"dataframe\">\n",
       "  <thead>\n",
       "    <tr style=\"text-align: right;\">\n",
       "      <th></th>\n",
       "      <th>GNPDEFL</th>\n",
       "      <th>UNEMP</th>\n",
       "      <th>ARMED</th>\n",
       "      <th>POP</th>\n",
       "    </tr>\n",
       "  </thead>\n",
       "  <tbody>\n",
       "    <tr>\n",
       "      <th>0</th>\n",
       "      <td>0.000000</td>\n",
       "      <td>0.165531</td>\n",
       "      <td>0.062675</td>\n",
       "      <td>0.000000</td>\n",
       "    </tr>\n",
       "    <tr>\n",
       "      <th>1</th>\n",
       "      <td>0.162242</td>\n",
       "      <td>0.154973</td>\n",
       "      <td>0.000000</td>\n",
       "      <td>0.045566</td>\n",
       "    </tr>\n",
       "    <tr>\n",
       "      <th>2</th>\n",
       "      <td>0.153392</td>\n",
       "      <td>0.617166</td>\n",
       "      <td>0.074836</td>\n",
       "      <td>0.096338</td>\n",
       "    </tr>\n",
       "    <tr>\n",
       "      <th>3</th>\n",
       "      <td>0.191740</td>\n",
       "      <td>0.504428</td>\n",
       "      <td>0.090739</td>\n",
       "      <td>0.147777</td>\n",
       "    </tr>\n",
       "    <tr>\n",
       "      <th>4</th>\n",
       "      <td>0.389381</td>\n",
       "      <td>0.077997</td>\n",
       "      <td>0.768475</td>\n",
       "      <td>0.198772</td>\n",
       "    </tr>\n",
       "    <tr>\n",
       "      <th>5</th>\n",
       "      <td>0.445428</td>\n",
       "      <td>0.021117</td>\n",
       "      <td>1.000000</td>\n",
       "      <td>0.251947</td>\n",
       "    </tr>\n",
       "    <tr>\n",
       "      <th>6</th>\n",
       "      <td>0.471976</td>\n",
       "      <td>0.000000</td>\n",
       "      <td>0.978017</td>\n",
       "      <td>0.333111</td>\n",
       "    </tr>\n",
       "    <tr>\n",
       "      <th>7</th>\n",
       "      <td>0.501475</td>\n",
       "      <td>0.581744</td>\n",
       "      <td>0.885875</td>\n",
       "      <td>0.383171</td>\n",
       "    </tr>\n",
       "    <tr>\n",
       "      <th>8</th>\n",
       "      <td>0.536873</td>\n",
       "      <td>0.352180</td>\n",
       "      <td>0.744621</td>\n",
       "      <td>0.435189</td>\n",
       "    </tr>\n",
       "    <tr>\n",
       "      <th>9</th>\n",
       "      <td>0.637168</td>\n",
       "      <td>0.324251</td>\n",
       "      <td>0.655285</td>\n",
       "      <td>0.495083</td>\n",
       "    </tr>\n",
       "    <tr>\n",
       "      <th>10</th>\n",
       "      <td>0.749263</td>\n",
       "      <td>0.363079</td>\n",
       "      <td>0.627689</td>\n",
       "      <td>0.571219</td>\n",
       "    </tr>\n",
       "    <tr>\n",
       "      <th>11</th>\n",
       "      <td>0.820059</td>\n",
       "      <td>0.957425</td>\n",
       "      <td>0.552385</td>\n",
       "      <td>0.638188</td>\n",
       "    </tr>\n",
       "    <tr>\n",
       "      <th>12</th>\n",
       "      <td>0.873156</td>\n",
       "      <td>0.661785</td>\n",
       "      <td>0.512629</td>\n",
       "      <td>0.701197</td>\n",
       "    </tr>\n",
       "    <tr>\n",
       "      <th>13</th>\n",
       "      <td>0.920354</td>\n",
       "      <td>0.701975</td>\n",
       "      <td>0.494855</td>\n",
       "      <td>0.790282</td>\n",
       "    </tr>\n",
       "    <tr>\n",
       "      <th>14</th>\n",
       "      <td>0.964602</td>\n",
       "      <td>1.000000</td>\n",
       "      <td>0.521983</td>\n",
       "      <td>0.900814</td>\n",
       "    </tr>\n",
       "    <tr>\n",
       "      <th>15</th>\n",
       "      <td>1.000000</td>\n",
       "      <td>0.727861</td>\n",
       "      <td>0.641254</td>\n",
       "      <td>1.000000</td>\n",
       "    </tr>\n",
       "  </tbody>\n",
       "</table>\n",
       "</div>"
      ],
      "text/plain": [
       "     GNPDEFL     UNEMP     ARMED       POP\n",
       "0   0.000000  0.165531  0.062675  0.000000\n",
       "1   0.162242  0.154973  0.000000  0.045566\n",
       "2   0.153392  0.617166  0.074836  0.096338\n",
       "3   0.191740  0.504428  0.090739  0.147777\n",
       "4   0.389381  0.077997  0.768475  0.198772\n",
       "5   0.445428  0.021117  1.000000  0.251947\n",
       "6   0.471976  0.000000  0.978017  0.333111\n",
       "7   0.501475  0.581744  0.885875  0.383171\n",
       "8   0.536873  0.352180  0.744621  0.435189\n",
       "9   0.637168  0.324251  0.655285  0.495083\n",
       "10  0.749263  0.363079  0.627689  0.571219\n",
       "11  0.820059  0.957425  0.552385  0.638188\n",
       "12  0.873156  0.661785  0.512629  0.701197\n",
       "13  0.920354  0.701975  0.494855  0.790282\n",
       "14  0.964602  1.000000  0.521983  0.900814\n",
       "15  1.000000  0.727861  0.641254  1.000000"
      ]
     },
     "execution_count": 24,
     "metadata": {},
     "output_type": "execute_result"
    }
   ],
   "source": [
    "# 줄은 전부, 칸은 조건이 True인 칸\n",
    "x_noti = exog.iloc[:,arr != exog_idx]\n",
    "x_noti"
   ]
  },
  {
   "cell_type": "code",
   "execution_count": 25,
   "metadata": {},
   "outputs": [
    {
     "data": {
      "text/plain": [
       "0     0.000000\n",
       "1     0.078405\n",
       "2     0.074125\n",
       "3     0.156922\n",
       "4     0.295335\n",
       "5     0.351554\n",
       "6     0.408902\n",
       "7     0.401812\n",
       "8     0.508975\n",
       "9     0.576694\n",
       "10    0.650271\n",
       "11    0.655813\n",
       "12    0.774832\n",
       "13    0.836893\n",
       "14    0.885463\n",
       "15    1.000000\n",
       "Name: GNP, dtype: float64"
      ]
     },
     "execution_count": 25,
     "metadata": {},
     "output_type": "execute_result"
    }
   ],
   "source": [
    "# 칸 인덱스 // [줄은 전부, exog_idx 칸]\n",
    "x_i = exog.iloc[:, exog_idx]\n",
    "# series 형태임\n",
    "x_i"
   ]
  },
  {
   "cell_type": "code",
   "execution_count": 26,
   "metadata": {},
   "outputs": [],
   "source": [
    "lr = LinearRegression().fit(X = x_noti, y = x_i)"
   ]
  },
  {
   "cell_type": "code",
   "execution_count": 27,
   "metadata": {},
   "outputs": [
    {
     "data": {
      "text/plain": [
       "79.22484355295244"
      ]
     },
     "execution_count": 27,
     "metadata": {},
     "output_type": "execute_result"
    }
   ],
   "source": [
    "lr.score(X = x_noti, y = x_i)\n",
    "vif = 1 / (1-R_square)\n",
    "vif"
   ]
  },
  {
   "cell_type": "code",
   "execution_count": 28,
   "metadata": {},
   "outputs": [],
   "source": [
    "from sklearn.linear_model import LinearRegression\n",
    "# 다중공선성을  계산하는 함수 구현\n",
    "# exog; 데이터프레임\n",
    "# exog_idx: 다중공선성을 계산하고자 하는 컬럼의 인덱스\n",
    "def variance_inflation_factor(exog, exog_idx):\n",
    "    # 독립변수의 개수를 k_vars에 대입\n",
    "    k_vars = exog.values.shape[1]\n",
    "    # VIF를 계산하고자 하는 독립변수를 대입\n",
    "    x_i = exog.iloc[:, exog_idx]\n",
    "    \n",
    "    # VIF를 구하고자 하는 독립변수 인덱스 exog_idx가 아니면 True, 맞으면 False 대입\n",
    "    mask = np.arange(k_vars) != exog_idx\n",
    "    # mask가 True인 열 대입\n",
    "    x_noti = exog.iloc[:, mask]\n",
    "    \n",
    "    # r square 계산\n",
    "    r_squared_i = LinearRegression().fit(X = pd.DataFrame(x_noti), y = pd.Series(x_i)).score(X = pd.DataFrame(x_noti), y = pd.Series(x_i))\n",
    "    vif = 1. / (1. - r_squared_i)\n",
    "    return vif"
   ]
  },
  {
   "cell_type": "code",
   "execution_count": 29,
   "metadata": {},
   "outputs": [
    {
     "data": {
      "text/plain": [
       "130.82920134037101"
      ]
     },
     "execution_count": 29,
     "metadata": {},
     "output_type": "execute_result"
    }
   ],
   "source": [
    "variance_inflation_factor(X, 0)"
   ]
  },
  {
   "cell_type": "code",
   "execution_count": 30,
   "metadata": {
    "scrolled": true
   },
   "outputs": [
    {
     "data": {
      "text/html": [
       "<div>\n",
       "<style scoped>\n",
       "    .dataframe tbody tr th:only-of-type {\n",
       "        vertical-align: middle;\n",
       "    }\n",
       "\n",
       "    .dataframe tbody tr th {\n",
       "        vertical-align: top;\n",
       "    }\n",
       "\n",
       "    .dataframe thead th {\n",
       "        text-align: right;\n",
       "    }\n",
       "</style>\n",
       "<table border=\"1\" class=\"dataframe\">\n",
       "  <thead>\n",
       "    <tr style=\"text-align: right;\">\n",
       "      <th></th>\n",
       "      <th>VIF Factor</th>\n",
       "      <th>features</th>\n",
       "    </tr>\n",
       "  </thead>\n",
       "  <tbody>\n",
       "    <tr>\n",
       "      <th>0</th>\n",
       "      <td>130.829201</td>\n",
       "      <td>GNPDEFL</td>\n",
       "    </tr>\n",
       "    <tr>\n",
       "      <th>1</th>\n",
       "      <td>639.049777</td>\n",
       "      <td>GNP</td>\n",
       "    </tr>\n",
       "    <tr>\n",
       "      <th>2</th>\n",
       "      <td>10.786858</td>\n",
       "      <td>UNEMP</td>\n",
       "    </tr>\n",
       "    <tr>\n",
       "      <th>3</th>\n",
       "      <td>2.505775</td>\n",
       "      <td>ARMED</td>\n",
       "    </tr>\n",
       "    <tr>\n",
       "      <th>4</th>\n",
       "      <td>339.011693</td>\n",
       "      <td>POP</td>\n",
       "    </tr>\n",
       "  </tbody>\n",
       "</table>\n",
       "</div>"
      ],
      "text/plain": [
       "   VIF Factor features\n",
       "0  130.829201  GNPDEFL\n",
       "1  639.049777      GNP\n",
       "2   10.786858    UNEMP\n",
       "3    2.505775    ARMED\n",
       "4  339.011693      POP"
      ]
     },
     "execution_count": 30,
     "metadata": {},
     "output_type": "execute_result"
    }
   ],
   "source": [
    "# 다중공선성을 계산해서 저장할 DataFrame 생성\n",
    "vif = pd.DataFrame()\n",
    "# 다중공선성을 계산해서 VIF Factor 컬럼에 추가\n",
    "vif[\"VIF Factor\"] = [variance_inflation_factor(X, i) for i in range(X.values.shape[1])]\n",
    "# X의 컬럼명을 feature 컬럼에 대입\n",
    "vif[\"features\"] = X.columns\n",
    "vif"
   ]
  },
  {
   "cell_type": "markdown",
   "metadata": {},
   "source": [
    "#### 다중공선성 지수가 10 초과이면\n",
    "#### 다중공선성 값이 가장 높은 컬럼을 삭제하고\n",
    "#### 다중공선성 지수를 다시 계산\n",
    "#### 다중공선성 지수가 10 초과가 없을 때까지 반복"
   ]
  },
  {
   "cell_type": "code",
   "execution_count": 31,
   "metadata": {},
   "outputs": [
    {
     "data": {
      "text/html": [
       "<div>\n",
       "<style scoped>\n",
       "    .dataframe tbody tr th:only-of-type {\n",
       "        vertical-align: middle;\n",
       "    }\n",
       "\n",
       "    .dataframe tbody tr th {\n",
       "        vertical-align: top;\n",
       "    }\n",
       "\n",
       "    .dataframe thead th {\n",
       "        text-align: right;\n",
       "    }\n",
       "</style>\n",
       "<table border=\"1\" class=\"dataframe\">\n",
       "  <thead>\n",
       "    <tr style=\"text-align: right;\">\n",
       "      <th></th>\n",
       "      <th>GNPDEFL</th>\n",
       "      <th>UNEMP</th>\n",
       "      <th>ARMED</th>\n",
       "      <th>POP</th>\n",
       "    </tr>\n",
       "  </thead>\n",
       "  <tbody>\n",
       "    <tr>\n",
       "      <th>0</th>\n",
       "      <td>0.000000</td>\n",
       "      <td>0.165531</td>\n",
       "      <td>0.062675</td>\n",
       "      <td>0.000000</td>\n",
       "    </tr>\n",
       "    <tr>\n",
       "      <th>1</th>\n",
       "      <td>0.162242</td>\n",
       "      <td>0.154973</td>\n",
       "      <td>0.000000</td>\n",
       "      <td>0.045566</td>\n",
       "    </tr>\n",
       "    <tr>\n",
       "      <th>2</th>\n",
       "      <td>0.153392</td>\n",
       "      <td>0.617166</td>\n",
       "      <td>0.074836</td>\n",
       "      <td>0.096338</td>\n",
       "    </tr>\n",
       "    <tr>\n",
       "      <th>3</th>\n",
       "      <td>0.191740</td>\n",
       "      <td>0.504428</td>\n",
       "      <td>0.090739</td>\n",
       "      <td>0.147777</td>\n",
       "    </tr>\n",
       "    <tr>\n",
       "      <th>4</th>\n",
       "      <td>0.389381</td>\n",
       "      <td>0.077997</td>\n",
       "      <td>0.768475</td>\n",
       "      <td>0.198772</td>\n",
       "    </tr>\n",
       "  </tbody>\n",
       "</table>\n",
       "</div>"
      ],
      "text/plain": [
       "    GNPDEFL     UNEMP     ARMED       POP\n",
       "0  0.000000  0.165531  0.062675  0.000000\n",
       "1  0.162242  0.154973  0.000000  0.045566\n",
       "2  0.153392  0.617166  0.074836  0.096338\n",
       "3  0.191740  0.504428  0.090739  0.147777\n",
       "4  0.389381  0.077997  0.768475  0.198772"
      ]
     },
     "execution_count": 31,
     "metadata": {},
     "output_type": "execute_result"
    }
   ],
   "source": [
    "# 다중공선성 지수가 가장 높은 GMP를 삭제\n",
    "X = X.drop(['GNP'], axis = 1)\n",
    "X.head()"
   ]
  },
  {
   "cell_type": "code",
   "execution_count": 32,
   "metadata": {},
   "outputs": [
    {
     "data": {
      "text/html": [
       "<div>\n",
       "<style scoped>\n",
       "    .dataframe tbody tr th:only-of-type {\n",
       "        vertical-align: middle;\n",
       "    }\n",
       "\n",
       "    .dataframe tbody tr th {\n",
       "        vertical-align: top;\n",
       "    }\n",
       "\n",
       "    .dataframe thead th {\n",
       "        text-align: right;\n",
       "    }\n",
       "</style>\n",
       "<table border=\"1\" class=\"dataframe\">\n",
       "  <thead>\n",
       "    <tr style=\"text-align: right;\">\n",
       "      <th></th>\n",
       "      <th>VIF Factor</th>\n",
       "      <th>features</th>\n",
       "    </tr>\n",
       "  </thead>\n",
       "  <tbody>\n",
       "    <tr>\n",
       "      <th>0</th>\n",
       "      <td>35.970754</td>\n",
       "      <td>GNPDEFL</td>\n",
       "    </tr>\n",
       "    <tr>\n",
       "      <th>1</th>\n",
       "      <td>3.147600</td>\n",
       "      <td>UNEMP</td>\n",
       "    </tr>\n",
       "    <tr>\n",
       "      <th>2</th>\n",
       "      <td>2.497795</td>\n",
       "      <td>ARMED</td>\n",
       "    </tr>\n",
       "    <tr>\n",
       "      <th>3</th>\n",
       "      <td>34.588299</td>\n",
       "      <td>POP</td>\n",
       "    </tr>\n",
       "  </tbody>\n",
       "</table>\n",
       "</div>"
      ],
      "text/plain": [
       "   VIF Factor features\n",
       "0   35.970754  GNPDEFL\n",
       "1    3.147600    UNEMP\n",
       "2    2.497795    ARMED\n",
       "3   34.588299      POP"
      ]
     },
     "execution_count": 32,
     "metadata": {},
     "output_type": "execute_result"
    }
   ],
   "source": [
    "# 다중공선성을 계산해서 저장할 DataFrame 생성\n",
    "vif = pd.DataFrame()\n",
    "# 다중공선성을 계산해서 VIF Factor 컬럼에 추가\n",
    "vif[\"VIF Factor\"] = [variance_inflation_factor(X, i) for i in range(X.values.shape[1])]\n",
    "# X의 컬럼명을 feature 컬럼에 대입\n",
    "vif[\"features\"] = X.columns\n",
    "vif"
   ]
  },
  {
   "cell_type": "code",
   "execution_count": 33,
   "metadata": {},
   "outputs": [
    {
     "data": {
      "text/html": [
       "<div>\n",
       "<style scoped>\n",
       "    .dataframe tbody tr th:only-of-type {\n",
       "        vertical-align: middle;\n",
       "    }\n",
       "\n",
       "    .dataframe tbody tr th {\n",
       "        vertical-align: top;\n",
       "    }\n",
       "\n",
       "    .dataframe thead th {\n",
       "        text-align: right;\n",
       "    }\n",
       "</style>\n",
       "<table border=\"1\" class=\"dataframe\">\n",
       "  <thead>\n",
       "    <tr style=\"text-align: right;\">\n",
       "      <th></th>\n",
       "      <th>UNEMP</th>\n",
       "      <th>ARMED</th>\n",
       "      <th>POP</th>\n",
       "    </tr>\n",
       "  </thead>\n",
       "  <tbody>\n",
       "    <tr>\n",
       "      <th>0</th>\n",
       "      <td>0.165531</td>\n",
       "      <td>0.062675</td>\n",
       "      <td>0.000000</td>\n",
       "    </tr>\n",
       "    <tr>\n",
       "      <th>1</th>\n",
       "      <td>0.154973</td>\n",
       "      <td>0.000000</td>\n",
       "      <td>0.045566</td>\n",
       "    </tr>\n",
       "    <tr>\n",
       "      <th>2</th>\n",
       "      <td>0.617166</td>\n",
       "      <td>0.074836</td>\n",
       "      <td>0.096338</td>\n",
       "    </tr>\n",
       "    <tr>\n",
       "      <th>3</th>\n",
       "      <td>0.504428</td>\n",
       "      <td>0.090739</td>\n",
       "      <td>0.147777</td>\n",
       "    </tr>\n",
       "    <tr>\n",
       "      <th>4</th>\n",
       "      <td>0.077997</td>\n",
       "      <td>0.768475</td>\n",
       "      <td>0.198772</td>\n",
       "    </tr>\n",
       "  </tbody>\n",
       "</table>\n",
       "</div>"
      ],
      "text/plain": [
       "      UNEMP     ARMED       POP\n",
       "0  0.165531  0.062675  0.000000\n",
       "1  0.154973  0.000000  0.045566\n",
       "2  0.617166  0.074836  0.096338\n",
       "3  0.504428  0.090739  0.147777\n",
       "4  0.077997  0.768475  0.198772"
      ]
     },
     "execution_count": 33,
     "metadata": {},
     "output_type": "execute_result"
    }
   ],
   "source": [
    "# 다중공선성 지수가 가장 높은 GNPDEFL 컬럼 삭제\n",
    "X = X.drop(['GNPDEFL'], axis = 1)\n",
    "X.head()"
   ]
  },
  {
   "cell_type": "code",
   "execution_count": 34,
   "metadata": {},
   "outputs": [
    {
     "data": {
      "text/html": [
       "<div>\n",
       "<style scoped>\n",
       "    .dataframe tbody tr th:only-of-type {\n",
       "        vertical-align: middle;\n",
       "    }\n",
       "\n",
       "    .dataframe tbody tr th {\n",
       "        vertical-align: top;\n",
       "    }\n",
       "\n",
       "    .dataframe thead th {\n",
       "        text-align: right;\n",
       "    }\n",
       "</style>\n",
       "<table border=\"1\" class=\"dataframe\">\n",
       "  <thead>\n",
       "    <tr style=\"text-align: right;\">\n",
       "      <th></th>\n",
       "      <th>VIF Factor</th>\n",
       "      <th>features</th>\n",
       "    </tr>\n",
       "  </thead>\n",
       "  <tbody>\n",
       "    <tr>\n",
       "      <th>0</th>\n",
       "      <td>3.146686</td>\n",
       "      <td>UNEMP</td>\n",
       "    </tr>\n",
       "    <tr>\n",
       "      <th>1</th>\n",
       "      <td>1.918225</td>\n",
       "      <td>ARMED</td>\n",
       "    </tr>\n",
       "    <tr>\n",
       "      <th>2</th>\n",
       "      <td>3.514335</td>\n",
       "      <td>POP</td>\n",
       "    </tr>\n",
       "  </tbody>\n",
       "</table>\n",
       "</div>"
      ],
      "text/plain": [
       "   VIF Factor features\n",
       "0    3.146686    UNEMP\n",
       "1    1.918225    ARMED\n",
       "2    3.514335      POP"
      ]
     },
     "execution_count": 34,
     "metadata": {},
     "output_type": "execute_result"
    }
   ],
   "source": [
    "# 다중공선성을 계산해서 저장할 DataFrame 생성\n",
    "vif = pd.DataFrame()\n",
    "# 다중공선성을 계산해서 VIF Factor 컬럼에 추가\n",
    "vif[\"VIF Factor\"] = [variance_inflation_factor(X, i) for i in range(X.values.shape[1])]\n",
    "# X의 컬럼명을 feature 컬럼에 대입\n",
    "vif[\"features\"] = X.columns\n",
    "vif"
   ]
  },
  {
   "cell_type": "markdown",
   "metadata": {},
   "source": [
    "#### 다중공선성 지수가 10 초과인 컬럼이 없으므로\n",
    "#### 해당 컬럼을 이용해 회귀분석 실행"
   ]
  },
  {
   "cell_type": "code",
   "execution_count": 35,
   "metadata": {},
   "outputs": [
    {
     "data": {
      "text/plain": [
       "LinearRegression(copy_X=True, fit_intercept=True, n_jobs=None, normalize=False)"
      ]
     },
     "execution_count": 35,
     "metadata": {},
     "output_type": "execute_result"
    }
   ],
   "source": [
    "# 선형회귀 객체 생성\n",
    "reg = LinearRegression()\n",
    "# 선형회귀 실행\n",
    "reg.fit(X, y)"
   ]
  },
  {
   "cell_type": "code",
   "execution_count": 36,
   "metadata": {},
   "outputs": [
    {
     "data": {
      "text/plain": [
       "array([60598.5496127 , 61281.689816  , 60273.87579533, 61373.84752219,\n",
       "       63331.98715502, 64166.70776104, 65355.60064989, 63974.24109266,\n",
       "       65567.29269524, 66518.76815899, 67425.21528931, 66221.51689448,\n",
       "       68161.42309742, 69235.07580447, 69651.74661309, 71934.4620422 ])"
      ]
     },
     "execution_count": 36,
     "metadata": {},
     "output_type": "execute_result"
    }
   ],
   "source": [
    "# X의 예측치를 predictions에 대입\n",
    "predictions = reg.predict(X)\n",
    "predictions"
   ]
  },
  {
   "cell_type": "code",
   "execution_count": 37,
   "metadata": {},
   "outputs": [
    {
     "data": {
      "text/plain": [
       "count    1.600000e+01\n",
       "mean     1.818989e-12\n",
       "std      6.120633e+02\n",
       "min     -1.383462e+03\n",
       "25%     -2.868489e+02\n",
       "50%     -1.353385e+02\n",
       "75%      3.596200e+02\n",
       "max      1.338232e+03\n",
       "Name: TOTEMP, dtype: float64"
      ]
     },
     "execution_count": 37,
     "metadata": {},
     "output_type": "execute_result"
    }
   ],
   "source": [
    "# 실제 데이터 y에서 예측값 predictions를 빼서 잔차를 계산\n",
    "residuals = y - predictions\n",
    "residuals.describe()"
   ]
  },
  {
   "cell_type": "code",
   "execution_count": 38,
   "metadata": {},
   "outputs": [
    {
     "data": {
      "text/plain": [
       "0.9696267343200499"
      ]
     },
     "execution_count": 38,
     "metadata": {},
     "output_type": "execute_result"
    }
   ],
   "source": [
    "SSE = (residuals**2).sum()\n",
    "SST = ((y-y.mean())**2).sum()\n",
    "R_square = 1 - (SSE/SST)\n",
    "R_square"
   ]
  },
  {
   "cell_type": "markdown",
   "metadata": {},
   "source": [
    "#### UNEMP, ARMED, POP 세 개의 컬럼만 이용했을 때와\n",
    "#### 모든 컬럼을 사용했을 때가 R2값이 거의 비슷함"
   ]
  }
 ],
 "metadata": {
  "kernelspec": {
   "display_name": "Python 3",
   "language": "python",
   "name": "python3"
  },
  "language_info": {
   "codemirror_mode": {
    "name": "ipython",
    "version": 3
   },
   "file_extension": ".py",
   "mimetype": "text/x-python",
   "name": "python",
   "nbconvert_exporter": "python",
   "pygments_lexer": "ipython3",
   "version": "3.7.3"
  }
 },
 "nbformat": 4,
 "nbformat_minor": 2
}
