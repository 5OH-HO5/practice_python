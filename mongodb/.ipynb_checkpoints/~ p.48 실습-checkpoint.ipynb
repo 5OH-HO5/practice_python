{
 "cells": [
  {
   "cell_type": "code",
   "execution_count": 1,
   "metadata": {},
   "outputs": [],
   "source": [
    "# 몽고디비를 사용하는데 필요한 3가지\n",
    "from pymongo import MongoClient\n",
    "from gridfs import GridFS, GridFSBucket"
   ]
  },
  {
   "cell_type": "code",
   "execution_count": 2,
   "metadata": {},
   "outputs": [],
   "source": [
    "# 몽고 데이터베이스에 연결하는 과정\n",
    "db = MongoClient().python_test"
   ]
  },
  {
   "cell_type": "code",
   "execution_count": 4,
   "metadata": {},
   "outputs": [],
   "source": [
    "# cursor 역할의 fs\n",
    "fs = GridFS(db)"
   ]
  },
  {
   "cell_type": "code",
   "execution_count": 5,
   "metadata": {},
   "outputs": [],
   "source": [
    "ff = db.fs.files.find()"
   ]
  },
  {
   "cell_type": "code",
   "execution_count": 6,
   "metadata": {},
   "outputs": [
    {
     "data": {
      "text/plain": [
       "[{'_id': ObjectId('5de4cc930a09941695b7c55a'),\n",
       "  'filename': 'test.txt',\n",
       "  'md5': '0b97c2704cfb0e1892bb47a0b62bef96',\n",
       "  'chunkSize': 261120,\n",
       "  'length': 35,\n",
       "  'uploadDate': datetime.datetime(2019, 12, 2, 8, 34, 27, 720000)},\n",
       " {'_id': ObjectId('5de70f8a42679fb1705eab7e'),\n",
       "  'filename': 'test.jpg',\n",
       "  'metadata': ['contentType'],\n",
       "  'chunkSize': 261120,\n",
       "  'md5': 'f7ffa1e1275757bffc2c917916af6b1d',\n",
       "  'length': 185721,\n",
       "  'uploadDate': datetime.datetime(2019, 12, 4, 1, 44, 42, 185000)}]"
      ]
     },
     "execution_count": 6,
     "metadata": {},
     "output_type": "execute_result"
    }
   ],
   "source": [
    "list(ff)"
   ]
  },
  {
   "cell_type": "code",
   "execution_count": 11,
   "metadata": {},
   "outputs": [
    {
     "data": {
      "text/plain": [
       "{'_id': ObjectId('5de70f8a42679fb1705eab7e'),\n",
       " 'filename': 'test.jpg',\n",
       " 'metadata': ['contentType'],\n",
       " 'chunkSize': 261120,\n",
       " 'md5': 'f7ffa1e1275757bffc2c917916af6b1d',\n",
       " 'length': 185721,\n",
       " 'uploadDate': datetime.datetime(2019, 12, 4, 1, 44, 42, 185000)}"
      ]
     },
     "execution_count": 11,
     "metadata": {},
     "output_type": "execute_result"
    }
   ],
   "source": [
    "file_detail = db.fs.files.find()[1]\n",
    "file_detail"
   ]
  },
  {
   "cell_type": "code",
   "execution_count": 13,
   "metadata": {},
   "outputs": [
    {
     "data": {
      "text/plain": [
       "'test.jpg'"
      ]
     },
     "execution_count": 13,
     "metadata": {},
     "output_type": "execute_result"
    }
   ],
   "source": [
    "file_detail[\"filename\"]"
   ]
  },
  {
   "cell_type": "code",
   "execution_count": null,
   "metadata": {},
   "outputs": [],
   "source": [
    "fs.get_last_version"
   ]
  }
 ],
 "metadata": {
  "kernelspec": {
   "display_name": "Python 3",
   "language": "python",
   "name": "python3"
  },
  "language_info": {
   "codemirror_mode": {
    "name": "ipython",
    "version": 3
   },
   "file_extension": ".py",
   "mimetype": "text/x-python",
   "name": "python",
   "nbconvert_exporter": "python",
   "pygments_lexer": "ipython3",
   "version": "3.7.3"
  }
 },
 "nbformat": 4,
 "nbformat_minor": 2
}
