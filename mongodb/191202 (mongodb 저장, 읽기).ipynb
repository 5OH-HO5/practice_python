{
 "cells": [
  {
   "cell_type": "code",
   "execution_count": 1,
   "metadata": {},
   "outputs": [],
   "source": [
    "# python에서 입력한 명령을 mongodb로 전달\n",
    "from pymongo import MongoClient\n",
    "\n",
    "# python과 mongodb 사이에 파일 주고 받음\n",
    "from gridfs import GridFS\n",
    "\n",
    "# mongodb 저장할 때 _id를 생성\n",
    "from bson import objectid"
   ]
  },
  {
   "cell_type": "code",
   "execution_count": 2,
   "metadata": {},
   "outputs": [],
   "source": [
    "# python_test 데이터베이스 사용\n",
    "# use python_test\n",
    "# python_test 데이터베이스 없음: 스스로 만들어서 사용\n",
    "# python_test 데이터베이스 있음: 사용\n",
    "db = MongoClient().python_test\n",
    "# mongodb는 대소문자를 구분함\n",
    "# mongoclient를 만들어서 사용하다가 그만 사용할 때는 db를 씀"
   ]
  },
  {
   "cell_type": "code",
   "execution_count": 3,
   "metadata": {},
   "outputs": [],
   "source": [
    "# fs가 파일을 주거니 받거니 할 예정\n",
    "# python_test에 파일을 저장할 GridFS객체 생성\n",
    "fs = GridFS(db)"
   ]
  },
  {
   "cell_type": "code",
   "execution_count": 4,
   "metadata": {},
   "outputs": [],
   "source": [
    "# 원래 몽고디비는 text(문자)가 아닌 비정형데이터(숫자), 그림을 저장하려고 만들어졌다.\n",
    "# 파일 열기(\"경로\", \"r(읽기)b(문자를 숫자로 바꾸어 저장)\")\n",
    "with open(\"c:/ai/workspace/mongodb/test.txt\", \"rb\") as f:\n",
    "    # f를 통해 데이터를 읽어서 GridFSdp 저장\n",
    "    fs.put(f, filename = \"test.txt\")\n",
    "    # fs.put = mongodb에 저장하는 명령어"
   ]
  },
  {
   "cell_type": "code",
   "execution_count": 6,
   "metadata": {},
   "outputs": [
    {
     "data": {
      "text/plain": [
       "[{'_id': ObjectId('5de4cc930a09941695b7c55a'),\n",
       "  'filename': 'test.txt',\n",
       "  'md5': '0b97c2704cfb0e1892bb47a0b62bef96',\n",
       "  'chunkSize': 261120,\n",
       "  'length': 35,\n",
       "  'uploadDate': datetime.datetime(2019, 12, 2, 8, 34, 27, 720000)}]"
      ]
     },
     "execution_count": 6,
     "metadata": {},
     "output_type": "execute_result"
    }
   ],
   "source": [
    "# db라는 놈이 mongodb 명령어를 사부작사부작 한다\n",
    "list(db.fs.files.find())\n",
    "# list 형태로 바꾸어주면 볼 수 있다."
   ]
  },
  {
   "cell_type": "code",
   "execution_count": 7,
   "metadata": {},
   "outputs": [],
   "source": [
    "# 파일을 읽을 객체 f 생성\n",
    "f = fs.get_last_version(filename = \"test.txt\")"
   ]
  },
  {
   "cell_type": "code",
   "execution_count": 8,
   "metadata": {},
   "outputs": [
    {
     "data": {
      "text/plain": [
       "b'\\xeb\\xaa\\xbd\\xea\\xb3\\xa0DB GRIDFS\\xec\\x97\\x90 \\xec\\xa0\\x80\\xec\\x9e\\xa5\\xed\\x95\\xa0 \\xeb\\x82\\xb4\\xec\\x9a\\xa9'"
      ]
     },
     "execution_count": 8,
     "metadata": {},
     "output_type": "execute_result"
    }
   ],
   "source": [
    "# test.txt 파일의 내용을 읽어서 data에 저장\n",
    "# 저장할 때 숫자형으로 바꿔서 저장했기 때문에 decode 함\n",
    "data = f.read()\n",
    "data"
   ]
  },
  {
   "cell_type": "code",
   "execution_count": 9,
   "metadata": {},
   "outputs": [
    {
     "data": {
      "text/plain": [
       "'몽고DB GRIDFS에 저장할 내용'"
      ]
     },
     "execution_count": 9,
     "metadata": {},
     "output_type": "execute_result"
    }
   ],
   "source": [
    "# data에 저장된 내용을 utf-8로 인코딩하여 출력\n",
    "data.decode('utf-8')"
   ]
  },
  {
   "cell_type": "code",
   "execution_count": null,
   "metadata": {},
   "outputs": [],
   "source": []
  }
 ],
 "metadata": {
  "kernelspec": {
   "display_name": "Python 3",
   "language": "python",
   "name": "python3"
  },
  "language_info": {
   "codemirror_mode": {
    "name": "ipython",
    "version": 3
   },
   "file_extension": ".py",
   "mimetype": "text/x-python",
   "name": "python",
   "nbconvert_exporter": "python",
   "pygments_lexer": "ipython3",
   "version": "3.7.3"
  }
 },
 "nbformat": 4,
 "nbformat_minor": 2
}
