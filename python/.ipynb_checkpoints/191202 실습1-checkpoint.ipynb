{
 "cells": [
  {
   "cell_type": "code",
   "execution_count": 1,
   "metadata": {},
   "outputs": [],
   "source": [
    "import requests"
   ]
  },
  {
   "cell_type": "code",
   "execution_count": 13,
   "metadata": {},
   "outputs": [],
   "source": [
    "client_id = \"htGbu9KOTEU69iArqr2A\"\n",
    "client_secret = \"kUr1gumsmm\""
   ]
  },
  {
   "cell_type": "code",
   "execution_count": 14,
   "metadata": {},
   "outputs": [],
   "source": [
    "headers = {\"X-Naver-Client-Id\":client_id, \"X-Naver-Client-Secret\":client_secret}"
   ]
  },
  {
   "cell_type": "code",
   "execution_count": 15,
   "metadata": {},
   "outputs": [],
   "source": [
    "url1 = \"https://openapi.naver.com/v1/search/blog?query=강남역\""
   ]
  },
  {
   "cell_type": "code",
   "execution_count": 16,
   "metadata": {},
   "outputs": [],
   "source": [
    "result = requests.get(url1, headers=headers)"
   ]
  },
  {
   "cell_type": "code",
   "execution_count": 34,
   "metadata": {},
   "outputs": [
    {
     "data": {
      "text/plain": [
       "{'lastBuildDate': 'Mon, 02 Dec 2019 10:17:46 +0900',\n",
       " 'total': 2021096,\n",
       " 'start': 1,\n",
       " 'display': 10,\n",
       " 'items': [{'title': '푸짐함에 반한 <b>강남역</b> 맛집',\n",
       "   'link': 'https://blog.naver.com/mjpiglet?Redirect=Log&logNo=221720176419',\n",
       "   'description': '가성비 좋다는 후기를 찾다 찾아간 곳이었는데 푸짐하게 제공되는 메뉴들에 반해 여긴 <b>강남역</b> 맛집이다! 싶어 살며시 소개해드립니다^^ 마초쉐프 서울 강남구 강남대로 98길 16 ☎ 02-566-8886 영업시간 오전11:30... ',\n",
       "   'bloggername': '자연美인 민팅이',\n",
       "   'bloggerlink': 'https://blog.naver.com/mjpiglet',\n",
       "   'postdate': '20191127'},\n",
       "  {'title': '가성비 좋은 <b>강남역</b> 맛집 !',\n",
       "   'link': 'https://blog.naver.com/iloveyoumuch?Redirect=Log&logNo=221722522198',\n",
       "   'description': '얼마 전 친구들이랑 점심약속이 있어 강남에 갔다가 정통중화요리를 먹을 수 있는 <b>강남역</b> 맛집에 다녀왔어요. 중국식 마라와 독특한 면요리를 먹을 수 있는 곳이었는데 무엇보다 가격대가 저렴해 가성비 좋게... ',\n",
       "   'bloggername': '슈쉥이의 므흣흐믓DAYZ',\n",
       "   'bloggerlink': 'https://blog.naver.com/iloveyoumuch',\n",
       "   'postdate': '20191130'},\n",
       "  {'title': '호화롭던 <b>강남역</b> 맛집',\n",
       "   'link': 'https://blog.naver.com/llzzinll?Redirect=Log&logNo=221722489878',\n",
       "   'description': '얼마 전 친한 친구와 강남으로 놀러 갔다 왔었는데요. 스테이크는 물론이고 다양한 플레터들을 조합할 수 있었던 <b>강남역</b> 맛집을 다녀왔습니다 편안한 분위기 속에서 마음껏 먹고 와서 소개해드리려고 합니다.... ',\n",
       "   'bloggername': '일상기록',\n",
       "   'bloggerlink': 'https://blog.naver.com/llzzinll',\n",
       "   'postdate': '20191130'},\n",
       "  {'title': '직접 가본 <b>강남역</b> 맛집!',\n",
       "   'link': 'https://blog.naver.com/sirin1004?Redirect=Log&logNo=221714965613',\n",
       "   'description': '빨간 쌀로 유명한 바비레드 강남 본점에 도착했어요 여러군데 다녀봤지만, 역시 집에서는 강남본점이 가장 가깝더라구요 <b>강남역</b> 11번 출구에서 CGV 근처에 뒷골목 두블럭 쯤에 있어서 역에서 도보 10분정도... ',\n",
       "   'bloggername': '뚱레꼬와 함께 하는 시린이의 일상',\n",
       "   'bloggerlink': 'https://blog.naver.com/sirin1004',\n",
       "   'postdate': '20191122'},\n",
       "  {'title': '깔끔했던 <b>강남역</b> 맛집',\n",
       "   'link': 'https://blog.naver.com/jysmilee?Redirect=Log&logNo=221715397249',\n",
       "   'description': '위치는 <b>강남역</b> 주변 랜드마크 중 하나인 CGV 골목에 위치하고 있고요. 대로변에서 골목안으로 5~6분 정도 직진만 하시면 매우 쉽게 찾으실 수 있습니다. 주소는 서울특별시 강남구 강남대로 102길 29 전화번호는 02... ',\n",
       "   'bloggername': '술마시는 블로거 항상웃는',\n",
       "   'bloggerlink': 'https://blog.naver.com/jysmilee',\n",
       "   'postdate': '20191123'},\n",
       "  {'title': '한결같은 <b>강남역</b> 맛집',\n",
       "   'link': 'https://blog.naver.com/luhworld?Redirect=Log&logNo=221715840079',\n",
       "   'description': '<b>강남역</b> 맛집 - 스테이터(STATER) 얼마전에 친구와 함께 강남에 놀러갔었는데, 괜찮은 가격대에 스테이크를 먹을 수 있는 <b>강남역</b> 맛집을 알아냈습니다. 파스타, 덮밥 등 다양한 메뉴들이 많고 구성이 알차서 꼭 한번... ',\n",
       "   'bloggername': '하늘을 날고 세계를 날아',\n",
       "   'bloggerlink': 'https://blog.naver.com/luhworld',\n",
       "   'postdate': '20191123'},\n",
       "  {'title': '제대로 찾아간 <b>강남역</b> 맛집',\n",
       "   'link': 'https://blog.naver.com/djmanul?Redirect=Log&logNo=221718339645',\n",
       "   'description': '얼마 전 지인들과 강남에서 점심 약속을 가졌었는데, 음식 맛은 물론 퀄리티, 가격까지 모두 만족스러웠던 <b>강남역</b> 맛집이라 한번 소개해드릴까 합니다. 제가 다녀온 곳은 바로 여기! 도쿄 스테이크에요. <b>강남역</b>... ',\n",
       "   'bloggername': 'SIMPLE IS BEST',\n",
       "   'bloggerlink': 'https://blog.naver.com/djmanul',\n",
       "   'postdate': '20191126'},\n",
       "  {'title': '<b>강남역</b> 술집 잉화츠탕리 솔직후기♡',\n",
       "   'link': 'https://blog.naver.com/daeunsmile?Redirect=Log&logNo=221718282599',\n",
       "   'description': '그곳은 <b>강남역</b> 술집으로도 유명하지만 잉화츠탕리 라는 매장인데요. 보통 술은 안먹는데 연말에... 서울 서초구 서초대로77길 9 지하 1층 영업시간 : 17:00 ~ 03:00 찾아가는 길은 <b>강남역</b> 10번출구 바로 뒷골목으로... ',\n",
       "   'bloggername': '다니데일리의 데일리기록',\n",
       "   'bloggerlink': 'https://blog.naver.com/daeunsmile',\n",
       "   'postdate': '20191125'},\n",
       "  {'title': '줄서도 가는 유일한 곳 ; <b>강남역</b> 맛집',\n",
       "   'link': 'https://blog.naver.com/ssomerry?Redirect=Log&logNo=221709027462',\n",
       "   'description': '서울 강남구 봉은사로4길 37 전화 : 02-508-6656 영업시간 : 09:00~24:00 <b>강남역</b> 11번 출구로 나와서 CGV 쪽으로 올라오면 언덕에서 찾을 수 있는데 먹자골목에 한번이라도 가본 사람들은 쉽게 찾을 수 있는 곳이당... ',\n",
       "   'bloggername': 'ssomerry',\n",
       "   'bloggerlink': 'https://blog.naver.com/ssomerry',\n",
       "   'postdate': '20191116'},\n",
       "  {'title': '희래식당 역시! <b>강남역</b> 마라탕',\n",
       "   'link': 'https://blog.naver.com/tolai1?Redirect=Log&logNo=221707705167',\n",
       "   'description': '안녕하세요 얼마전 쉬는날 함께 오랜만에 강남으로 바람을 쐬러 갔어요 한가로운 오후를 보내고 든든하게 식사를 하고싶어서 얼마전 지인이 알려주신 <b>강남역</b> 마라탕 맛집으로가기로했어요 이곳에서 고기는... ',\n",
       "   'bloggername': '융이데이 ❤️',\n",
       "   'bloggerlink': 'https://blog.naver.com/tolai1',\n",
       "   'postdate': '20191114'}]}"
      ]
     },
     "execution_count": 34,
     "metadata": {},
     "output_type": "execute_result"
    }
   ],
   "source": [
    "result.json()\n",
    "#for index in in1['items']:\n",
    "#    print(index['title']) #in1['items'][0]\n",
    "    "
   ]
  },
  {
   "cell_type": "code",
   "execution_count": 18,
   "metadata": {},
   "outputs": [
    {
     "data": {
      "text/plain": [
       "'Mon, 02 Dec 2019 10:17:46 +0900'"
      ]
     },
     "execution_count": 18,
     "metadata": {},
     "output_type": "execute_result"
    }
   ],
   "source": [
    "result.json()['lastBuildDate']"
   ]
  },
  {
   "cell_type": "code",
   "execution_count": 23,
   "metadata": {},
   "outputs": [
    {
     "data": {
      "text/plain": [
       "2021096"
      ]
     },
     "execution_count": 23,
     "metadata": {},
     "output_type": "execute_result"
    }
   ],
   "source": [
    "result.json()['total']"
   ]
  },
  {
   "cell_type": "code",
   "execution_count": 24,
   "metadata": {},
   "outputs": [
    {
     "data": {
      "text/plain": [
       "1"
      ]
     },
     "execution_count": 24,
     "metadata": {},
     "output_type": "execute_result"
    }
   ],
   "source": [
    "result.json()['start']"
   ]
  },
  {
   "cell_type": "code",
   "execution_count": 25,
   "metadata": {},
   "outputs": [
    {
     "data": {
      "text/plain": [
       "10"
      ]
     },
     "execution_count": 25,
     "metadata": {},
     "output_type": "execute_result"
    }
   ],
   "source": [
    "result.json()['display']"
   ]
  },
  {
   "cell_type": "code",
   "execution_count": 33,
   "metadata": {},
   "outputs": [],
   "source": [
    "in1 = result.json()"
   ]
  },
  {
   "cell_type": "code",
   "execution_count": 49,
   "metadata": {},
   "outputs": [
    {
     "name": "stdout",
     "output_type": "stream",
     "text": [
      "푸짐함에 반한 <b>강남역</b> 맛집\n",
      "가성비 좋은 <b>강남역</b> 맛집 !\n",
      "호화롭던 <b>강남역</b> 맛집\n",
      "직접 가본 <b>강남역</b> 맛집!\n",
      "깔끔했던 <b>강남역</b> 맛집\n",
      "한결같은 <b>강남역</b> 맛집\n",
      "제대로 찾아간 <b>강남역</b> 맛집\n",
      "<b>강남역</b> 술집 잉화츠탕리 솔직후기♡\n",
      "줄서도 가는 유일한 곳 ; <b>강남역</b> 맛집\n"
     ]
    }
   ],
   "source": [
    "print(in1['items'][0]['title'])\n",
    "print(in1['items'][1]['title'])\n",
    "print(in1['items'][2]['title'])\n",
    "print(in1['items'][3]['title'])\n",
    "print(in1['items'][4]['title'])\n",
    "print(in1['items'][5]['title'])\n",
    "print(in1['items'][6]['title'])\n",
    "print(in1['items'][7]['title'])\n",
    "print(in1['items'][8]['title'])\n"
   ]
  },
  {
   "cell_type": "code",
   "execution_count": 51,
   "metadata": {},
   "outputs": [
    {
     "name": "stdout",
     "output_type": "stream",
     "text": [
      "푸짐함에 반한 <b>강남역</b> 맛집\n",
      "가성비 좋은 <b>강남역</b> 맛집 !\n",
      "호화롭던 <b>강남역</b> 맛집\n",
      "직접 가본 <b>강남역</b> 맛집!\n",
      "깔끔했던 <b>강남역</b> 맛집\n",
      "한결같은 <b>강남역</b> 맛집\n",
      "제대로 찾아간 <b>강남역</b> 맛집\n",
      "<b>강남역</b> 술집 잉화츠탕리 솔직후기♡\n",
      "줄서도 가는 유일한 곳 ; <b>강남역</b> 맛집\n",
      "희래식당 역시! <b>강남역</b> 마라탕\n"
     ]
    }
   ],
   "source": [
    "for index in in1['items']:\n",
    "    print(index['title'])"
   ]
  },
  {
   "cell_type": "code",
   "execution_count": null,
   "metadata": {},
   "outputs": [],
   "source": []
  }
 ],
 "metadata": {
  "kernelspec": {
   "display_name": "Python 3",
   "language": "python",
   "name": "python3"
  },
  "language_info": {
   "codemirror_mode": {
    "name": "ipython",
    "version": 3
   },
   "file_extension": ".py",
   "mimetype": "text/x-python",
   "name": "python",
   "nbconvert_exporter": "python",
   "pygments_lexer": "ipython3",
   "version": "3.7.3"
  }
 },
 "nbformat": 4,
 "nbformat_minor": 2
}
