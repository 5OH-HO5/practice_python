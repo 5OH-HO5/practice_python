{
 "cells": [
  {
   "cell_type": "code",
   "execution_count": 3,
   "metadata": {},
   "outputs": [],
   "source": [
    "import pandas as pd\n",
    "persions_dict = {'Name' : ['김성필','양은희','이재은','신춘호'],\n",
    "                 'Gender':['남자','여자','모두','남자'],\n",
    "                'Age' : [46, 24, 25, 33],\n",
    "                'Job' : ['개발자', '개발자','학생','개발자']\n",
    "                }"
   ]
  },
  {
   "cell_type": "code",
   "execution_count": 4,
   "metadata": {},
   "outputs": [
    {
     "data": {
      "text/html": [
       "<div>\n",
       "<style scoped>\n",
       "    .dataframe tbody tr th:only-of-type {\n",
       "        vertical-align: middle;\n",
       "    }\n",
       "\n",
       "    .dataframe tbody tr th {\n",
       "        vertical-align: top;\n",
       "    }\n",
       "\n",
       "    .dataframe thead th {\n",
       "        text-align: right;\n",
       "    }\n",
       "</style>\n",
       "<table border=\"1\" class=\"dataframe\">\n",
       "  <thead>\n",
       "    <tr style=\"text-align: right;\">\n",
       "      <th></th>\n",
       "      <th>Name</th>\n",
       "      <th>Gender</th>\n",
       "      <th>Age</th>\n",
       "      <th>Job</th>\n",
       "    </tr>\n",
       "  </thead>\n",
       "  <tbody>\n",
       "    <tr>\n",
       "      <th>0</th>\n",
       "      <td>김성필</td>\n",
       "      <td>남자</td>\n",
       "      <td>46</td>\n",
       "      <td>개발자</td>\n",
       "    </tr>\n",
       "    <tr>\n",
       "      <th>1</th>\n",
       "      <td>양은희</td>\n",
       "      <td>여자</td>\n",
       "      <td>24</td>\n",
       "      <td>개발자</td>\n",
       "    </tr>\n",
       "    <tr>\n",
       "      <th>2</th>\n",
       "      <td>이재은</td>\n",
       "      <td>모두</td>\n",
       "      <td>25</td>\n",
       "      <td>학생</td>\n",
       "    </tr>\n",
       "    <tr>\n",
       "      <th>3</th>\n",
       "      <td>신춘호</td>\n",
       "      <td>남자</td>\n",
       "      <td>33</td>\n",
       "      <td>개발자</td>\n",
       "    </tr>\n",
       "  </tbody>\n",
       "</table>\n",
       "</div>"
      ],
      "text/plain": [
       "  Name Gender  Age  Job\n",
       "0  김성필     남자   46  개발자\n",
       "1  양은희     여자   24  개발자\n",
       "2  이재은     모두   25   학생\n",
       "3  신춘호     남자   33  개발자"
      ]
     },
     "execution_count": 4,
     "metadata": {},
     "output_type": "execute_result"
    }
   ],
   "source": [
    "df = pd.DataFrame(persions_dict)\n",
    "df.head()"
   ]
  },
  {
   "cell_type": "code",
   "execution_count": 6,
   "metadata": {},
   "outputs": [
    {
     "data": {
      "text/html": [
       "<div>\n",
       "<style scoped>\n",
       "    .dataframe tbody tr th:only-of-type {\n",
       "        vertical-align: middle;\n",
       "    }\n",
       "\n",
       "    .dataframe tbody tr th {\n",
       "        vertical-align: top;\n",
       "    }\n",
       "\n",
       "    .dataframe thead th {\n",
       "        text-align: right;\n",
       "    }\n",
       "</style>\n",
       "<table border=\"1\" class=\"dataframe\">\n",
       "  <thead>\n",
       "    <tr style=\"text-align: right;\">\n",
       "      <th></th>\n",
       "      <th>Name</th>\n",
       "      <th>Job</th>\n",
       "      <th>Age</th>\n",
       "      <th>Gender</th>\n",
       "    </tr>\n",
       "  </thead>\n",
       "  <tbody>\n",
       "    <tr>\n",
       "      <th>0</th>\n",
       "      <td>김성필</td>\n",
       "      <td>개발자</td>\n",
       "      <td>46</td>\n",
       "      <td>남자</td>\n",
       "    </tr>\n",
       "    <tr>\n",
       "      <th>1</th>\n",
       "      <td>양은희</td>\n",
       "      <td>개발자</td>\n",
       "      <td>24</td>\n",
       "      <td>여자</td>\n",
       "    </tr>\n",
       "    <tr>\n",
       "      <th>2</th>\n",
       "      <td>이재은</td>\n",
       "      <td>학생</td>\n",
       "      <td>25</td>\n",
       "      <td>모두</td>\n",
       "    </tr>\n",
       "    <tr>\n",
       "      <th>3</th>\n",
       "      <td>신춘호</td>\n",
       "      <td>개발자</td>\n",
       "      <td>33</td>\n",
       "      <td>남자</td>\n",
       "    </tr>\n",
       "  </tbody>\n",
       "</table>\n",
       "</div>"
      ],
      "text/plain": [
       "  Name  Job  Age Gender\n",
       "0  김성필  개발자   46     남자\n",
       "1  양은희  개발자   24     여자\n",
       "2  이재은   학생   25     모두\n",
       "3  신춘호  개발자   33     남자"
      ]
     },
     "execution_count": 6,
     "metadata": {},
     "output_type": "execute_result"
    }
   ],
   "source": [
    "df = pd.DataFrame(persions_dict, columns = ['Name','Job','Age','Gender'])\n",
    "df.head()"
   ]
  },
  {
   "cell_type": "code",
   "execution_count": 7,
   "metadata": {},
   "outputs": [
    {
     "data": {
      "text/plain": [
       "Name      object\n",
       "Job       object\n",
       "Age        int64\n",
       "Gender    object\n",
       "dtype: object"
      ]
     },
     "execution_count": 7,
     "metadata": {},
     "output_type": "execute_result"
    }
   ],
   "source": [
    "df.dtypes"
   ]
  },
  {
   "cell_type": "code",
   "execution_count": 23,
   "metadata": {},
   "outputs": [
    {
     "data": {
      "text/plain": [
       "array([['김성필', '개발자', 46, '남자'],\n",
       "       ['양은희', '개발자', 24, '여자'],\n",
       "       ['이재은', '학생', 25, '모두'],\n",
       "       ['신춘호', '개발자', 33, '남자']], dtype=object)"
      ]
     },
     "execution_count": 23,
     "metadata": {},
     "output_type": "execute_result"
    }
   ],
   "source": [
    "df.values"
   ]
  },
  {
   "cell_type": "code",
   "execution_count": 9,
   "metadata": {},
   "outputs": [
    {
     "data": {
      "text/plain": [
       "array(['김성필', '개발자', 46, '남자'], dtype=object)"
      ]
     },
     "execution_count": 9,
     "metadata": {},
     "output_type": "execute_result"
    }
   ],
   "source": [
    "df.values[0]"
   ]
  },
  {
   "cell_type": "code",
   "execution_count": 10,
   "metadata": {},
   "outputs": [
    {
     "data": {
      "text/plain": [
       "['김성필', '개발자', 46, '남자']"
      ]
     },
     "execution_count": 10,
     "metadata": {},
     "output_type": "execute_result"
    }
   ],
   "source": [
    "persion = list(df.values[0])\n",
    "persion"
   ]
  },
  {
   "cell_type": "code",
   "execution_count": 11,
   "metadata": {},
   "outputs": [
    {
     "data": {
      "text/plain": [
       "array([['김성필', '개발자', 46, '남자'],\n",
       "       ['양은희', '개발자', 24, '여자'],\n",
       "       ['이재은', '학생', 25, '모두'],\n",
       "       ['신춘호', '개발자', 33, '남자']], dtype=object)"
      ]
     },
     "execution_count": 11,
     "metadata": {},
     "output_type": "execute_result"
    }
   ],
   "source": [
    "df.values"
   ]
  },
  {
   "cell_type": "code",
   "execution_count": 12,
   "metadata": {},
   "outputs": [
    {
     "data": {
      "text/plain": [
       "array(['신춘호', '개발자', 33, '남자'], dtype=object)"
      ]
     },
     "execution_count": 12,
     "metadata": {},
     "output_type": "execute_result"
    }
   ],
   "source": [
    "df.values[3]"
   ]
  },
  {
   "cell_type": "code",
   "execution_count": 13,
   "metadata": {},
   "outputs": [
    {
     "data": {
      "text/plain": [
       "['이재은', '학생', 25, '모두']"
      ]
     },
     "execution_count": 13,
     "metadata": {},
     "output_type": "execute_result"
    }
   ],
   "source": [
    "persion = list(df.values[2])\n",
    "persion"
   ]
  },
  {
   "cell_type": "code",
   "execution_count": 14,
   "metadata": {},
   "outputs": [
    {
     "data": {
      "text/plain": [
       "list"
      ]
     },
     "execution_count": 14,
     "metadata": {},
     "output_type": "execute_result"
    }
   ],
   "source": [
    "type(persion)"
   ]
  },
  {
   "cell_type": "code",
   "execution_count": 15,
   "metadata": {},
   "outputs": [],
   "source": [
    "import numpy as np"
   ]
  },
  {
   "cell_type": "code",
   "execution_count": 21,
   "metadata": {},
   "outputs": [
    {
     "ename": "SyntaxError",
     "evalue": "keyword can't be an expression (<ipython-input-21-faf071b3351b>, line 1)",
     "output_type": "error",
     "traceback": [
      "\u001b[1;36m  File \u001b[1;32m\"<ipython-input-21-faf071b3351b>\"\u001b[1;36m, line \u001b[1;32m1\u001b[0m\n\u001b[1;33m    person_arr = np.array(persion.dtype = np.object)\u001b[0m\n\u001b[1;37m                         ^\u001b[0m\n\u001b[1;31mSyntaxError\u001b[0m\u001b[1;31m:\u001b[0m keyword can't be an expression\n"
     ]
    }
   ],
   "source": [
    "person_arr = np.array(persion.dtype = np.object)\n",
    "person_arr"
   ]
  },
  {
   "cell_type": "code",
   "execution_count": 24,
   "metadata": {},
   "outputs": [
    {
     "data": {
      "text/plain": [
       "[array(['김성필', '개발자', 46, '남자'], dtype=object),\n",
       " array(['양은희', '개발자', 24, '여자'], dtype=object),\n",
       " array(['이재은', '학생', 25, '모두'], dtype=object),\n",
       " array(['신춘호', '개발자', 33, '남자'], dtype=object)]"
      ]
     },
     "execution_count": 24,
     "metadata": {},
     "output_type": "execute_result"
    }
   ],
   "source": [
    "list(df.values)"
   ]
  },
  {
   "cell_type": "code",
   "execution_count": 25,
   "metadata": {},
   "outputs": [
    {
     "data": {
      "text/plain": [
       "array([['김성필', '개발자', 46, '남자'],\n",
       "       ['양은희', '개발자', 24, '여자'],\n",
       "       ['이재은', '학생', 25, '모두'],\n",
       "       ['신춘호', '개발자', 33, '남자']], dtype=object)"
      ]
     },
     "execution_count": 25,
     "metadata": {},
     "output_type": "execute_result"
    }
   ],
   "source": [
    "df.values"
   ]
  },
  {
   "cell_type": "code",
   "execution_count": 28,
   "metadata": {},
   "outputs": [
    {
     "data": {
      "text/plain": [
       "[<function ndarray.tolist>,\n",
       " <function ndarray.tolist>,\n",
       " <function ndarray.tolist>,\n",
       " <function ndarray.tolist>]"
      ]
     },
     "execution_count": 28,
     "metadata": {},
     "output_type": "execute_result"
    }
   ],
   "source": [
    "list=[data.tolist for data in df.values]\n",
    "list"
   ]
  },
  {
   "cell_type": "code",
   "execution_count": 29,
   "metadata": {},
   "outputs": [
    {
     "data": {
      "text/html": [
       "<div>\n",
       "<style scoped>\n",
       "    .dataframe tbody tr th:only-of-type {\n",
       "        vertical-align: middle;\n",
       "    }\n",
       "\n",
       "    .dataframe tbody tr th {\n",
       "        vertical-align: top;\n",
       "    }\n",
       "\n",
       "    .dataframe thead th {\n",
       "        text-align: right;\n",
       "    }\n",
       "</style>\n",
       "<table border=\"1\" class=\"dataframe\">\n",
       "  <thead>\n",
       "    <tr style=\"text-align: right;\">\n",
       "      <th></th>\n",
       "      <th>이름</th>\n",
       "      <th>성별</th>\n",
       "      <th>키[cm]</th>\n",
       "      <th>몸무게[Kg]</th>\n",
       "    </tr>\n",
       "  </thead>\n",
       "  <tbody>\n",
       "    <tr>\n",
       "      <th>0</th>\n",
       "      <td>김성필</td>\n",
       "      <td>남</td>\n",
       "      <td>176.5</td>\n",
       "      <td>71.5</td>\n",
       "    </tr>\n",
       "    <tr>\n",
       "      <th>1</th>\n",
       "      <td>김민재</td>\n",
       "      <td>남</td>\n",
       "      <td>180.0</td>\n",
       "      <td>78.0</td>\n",
       "    </tr>\n",
       "    <tr>\n",
       "      <th>2</th>\n",
       "      <td>박은미</td>\n",
       "      <td>여</td>\n",
       "      <td>164.0</td>\n",
       "      <td>64.0</td>\n",
       "    </tr>\n",
       "    <tr>\n",
       "      <th>3</th>\n",
       "      <td>박성희</td>\n",
       "      <td>여</td>\n",
       "      <td>164.0</td>\n",
       "      <td>64.0</td>\n",
       "    </tr>\n",
       "    <tr>\n",
       "      <th>4</th>\n",
       "      <td>김이동</td>\n",
       "      <td>남</td>\n",
       "      <td>164.0</td>\n",
       "      <td>58.0</td>\n",
       "    </tr>\n",
       "    <tr>\n",
       "      <th>5</th>\n",
       "      <td>최점심</td>\n",
       "      <td>여</td>\n",
       "      <td>164.0</td>\n",
       "      <td>58.0</td>\n",
       "    </tr>\n",
       "    <tr>\n",
       "      <th>6</th>\n",
       "      <td>양은희</td>\n",
       "      <td>여</td>\n",
       "      <td>160.0</td>\n",
       "      <td>50.0</td>\n",
       "    </tr>\n",
       "    <tr>\n",
       "      <th>7</th>\n",
       "      <td>오종갑</td>\n",
       "      <td>남</td>\n",
       "      <td>175.0</td>\n",
       "      <td>76.0</td>\n",
       "    </tr>\n",
       "    <tr>\n",
       "      <th>8</th>\n",
       "      <td>남중구</td>\n",
       "      <td>남</td>\n",
       "      <td>170.0</td>\n",
       "      <td>80.0</td>\n",
       "    </tr>\n",
       "    <tr>\n",
       "      <th>9</th>\n",
       "      <td>한주연</td>\n",
       "      <td>여</td>\n",
       "      <td>168.0</td>\n",
       "      <td>56.0</td>\n",
       "    </tr>\n",
       "    <tr>\n",
       "      <th>10</th>\n",
       "      <td>김원경</td>\n",
       "      <td>여</td>\n",
       "      <td>162.0</td>\n",
       "      <td>58.0</td>\n",
       "    </tr>\n",
       "    <tr>\n",
       "      <th>11</th>\n",
       "      <td>김영철</td>\n",
       "      <td>남</td>\n",
       "      <td>174.0</td>\n",
       "      <td>70.0</td>\n",
       "    </tr>\n",
       "    <tr>\n",
       "      <th>12</th>\n",
       "      <td>최도환</td>\n",
       "      <td>남</td>\n",
       "      <td>162.0</td>\n",
       "      <td>56.0</td>\n",
       "    </tr>\n",
       "    <tr>\n",
       "      <th>13</th>\n",
       "      <td>김상유</td>\n",
       "      <td>남</td>\n",
       "      <td>180.0</td>\n",
       "      <td>89.0</td>\n",
       "    </tr>\n",
       "    <tr>\n",
       "      <th>14</th>\n",
       "      <td>이재은</td>\n",
       "      <td>여</td>\n",
       "      <td>160.0</td>\n",
       "      <td>66.0</td>\n",
       "    </tr>\n",
       "    <tr>\n",
       "      <th>15</th>\n",
       "      <td>강진숙</td>\n",
       "      <td>여</td>\n",
       "      <td>164.0</td>\n",
       "      <td>59.0</td>\n",
       "    </tr>\n",
       "    <tr>\n",
       "      <th>16</th>\n",
       "      <td>조혜진</td>\n",
       "      <td>여</td>\n",
       "      <td>165.0</td>\n",
       "      <td>60.0</td>\n",
       "    </tr>\n",
       "    <tr>\n",
       "      <th>17</th>\n",
       "      <td>최희열</td>\n",
       "      <td>남</td>\n",
       "      <td>177.0</td>\n",
       "      <td>78.0</td>\n",
       "    </tr>\n",
       "    <tr>\n",
       "      <th>18</th>\n",
       "      <td>양영걸</td>\n",
       "      <td>남</td>\n",
       "      <td>178.0</td>\n",
       "      <td>71.0</td>\n",
       "    </tr>\n",
       "    <tr>\n",
       "      <th>19</th>\n",
       "      <td>박보경</td>\n",
       "      <td>남</td>\n",
       "      <td>163.0</td>\n",
       "      <td>54.0</td>\n",
       "    </tr>\n",
       "    <tr>\n",
       "      <th>20</th>\n",
       "      <td>낸시</td>\n",
       "      <td>여</td>\n",
       "      <td>163.0</td>\n",
       "      <td>56.0</td>\n",
       "    </tr>\n",
       "    <tr>\n",
       "      <th>21</th>\n",
       "      <td>조현</td>\n",
       "      <td>여</td>\n",
       "      <td>168.0</td>\n",
       "      <td>62.0</td>\n",
       "    </tr>\n",
       "    <tr>\n",
       "      <th>22</th>\n",
       "      <td>수지</td>\n",
       "      <td>여</td>\n",
       "      <td>168.0</td>\n",
       "      <td>61.0</td>\n",
       "    </tr>\n",
       "  </tbody>\n",
       "</table>\n",
       "</div>"
      ],
      "text/plain": [
       "     이름 성별  키[cm]  몸무게[Kg]\n",
       "0   김성필  남  176.5     71.5\n",
       "1   김민재  남  180.0     78.0\n",
       "2   박은미  여  164.0     64.0\n",
       "3   박성희  여  164.0     64.0\n",
       "4   김이동  남  164.0     58.0\n",
       "5   최점심  여  164.0     58.0\n",
       "6   양은희  여  160.0     50.0\n",
       "7   오종갑  남  175.0     76.0\n",
       "8   남중구  남  170.0     80.0\n",
       "9   한주연  여  168.0     56.0\n",
       "10  김원경  여  162.0     58.0\n",
       "11  김영철  남  174.0     70.0\n",
       "12  최도환  남  162.0     56.0\n",
       "13  김상유  남  180.0     89.0\n",
       "14  이재은  여  160.0     66.0\n",
       "15  강진숙  여  164.0     59.0\n",
       "16  조혜진  여  165.0     60.0\n",
       "17  최희열  남  177.0     78.0\n",
       "18  양영걸  남  178.0     71.0\n",
       "19  박보경  남  163.0     54.0\n",
       "20   낸시  여  163.0     56.0\n",
       "21   조현  여  168.0     62.0\n",
       "22   수지  여  168.0     61.0"
      ]
     },
     "execution_count": 29,
     "metadata": {},
     "output_type": "execute_result"
    }
   ],
   "source": [
    "df= pd.read_excel(\"c:/ai/workspace/data/peoples.xlsx\", encoding=\"utf-8\")\n",
    "df"
   ]
  },
  {
   "cell_type": "code",
   "execution_count": 30,
   "metadata": {},
   "outputs": [
    {
     "data": {
      "text/plain": [
       "0     김성필\n",
       "1     김민재\n",
       "2     박은미\n",
       "3     박성희\n",
       "4     김이동\n",
       "5     최점심\n",
       "6     양은희\n",
       "7     오종갑\n",
       "8     남중구\n",
       "9     한주연\n",
       "10    김원경\n",
       "11    김영철\n",
       "12    최도환\n",
       "13    김상유\n",
       "14    이재은\n",
       "15    강진숙\n",
       "16    조혜진\n",
       "17    최희열\n",
       "18    양영걸\n",
       "19    박보경\n",
       "20     낸시\n",
       "21     조현\n",
       "22     수지\n",
       "Name: 이름, dtype: object"
      ]
     },
     "execution_count": 30,
     "metadata": {},
     "output_type": "execute_result"
    }
   ],
   "source": [
    "df['이름']"
   ]
  },
  {
   "cell_type": "code",
   "execution_count": 34,
   "metadata": {},
   "outputs": [
    {
     "data": {
      "text/plain": [
       "0     김성필\n",
       "1     김민재\n",
       "2     박은미\n",
       "3     박성희\n",
       "4     김이동\n",
       "5     최점심\n",
       "6     양은희\n",
       "7     오종갑\n",
       "8     남중구\n",
       "9     한주연\n",
       "10    김원경\n",
       "Name: 이름, dtype: object"
      ]
     },
     "execution_count": 34,
     "metadata": {},
     "output_type": "execute_result"
    }
   ],
   "source": [
    "df[\"이름\"][0:11]"
   ]
  },
  {
   "cell_type": "code",
   "execution_count": 37,
   "metadata": {},
   "outputs": [
    {
     "data": {
      "text/plain": [
       "168.2391304347826"
      ]
     },
     "execution_count": 37,
     "metadata": {},
     "output_type": "execute_result"
    }
   ],
   "source": [
    "df['키[cm]'].mean()"
   ]
  },
  {
   "cell_type": "code",
   "execution_count": 38,
   "metadata": {},
   "outputs": [
    {
     "data": {
      "text/plain": [
       "180.0"
      ]
     },
     "execution_count": 38,
     "metadata": {},
     "output_type": "execute_result"
    }
   ],
   "source": [
    "df['키[cm]'].max()"
   ]
  },
  {
   "cell_type": "code",
   "execution_count": 39,
   "metadata": {},
   "outputs": [
    {
     "data": {
      "text/plain": [
       "160.0"
      ]
     },
     "execution_count": 39,
     "metadata": {},
     "output_type": "execute_result"
    }
   ],
   "source": [
    "df['키[cm]'].min()"
   ]
  },
  {
   "cell_type": "code",
   "execution_count": 40,
   "metadata": {},
   "outputs": [
    {
     "data": {
      "text/html": [
       "<div>\n",
       "<style scoped>\n",
       "    .dataframe tbody tr th:only-of-type {\n",
       "        vertical-align: middle;\n",
       "    }\n",
       "\n",
       "    .dataframe tbody tr th {\n",
       "        vertical-align: top;\n",
       "    }\n",
       "\n",
       "    .dataframe thead th {\n",
       "        text-align: right;\n",
       "    }\n",
       "</style>\n",
       "<table border=\"1\" class=\"dataframe\">\n",
       "  <thead>\n",
       "    <tr style=\"text-align: right;\">\n",
       "      <th></th>\n",
       "      <th>이름</th>\n",
       "      <th>성별</th>\n",
       "      <th>키[cm]</th>\n",
       "      <th>몸무게[Kg]</th>\n",
       "    </tr>\n",
       "  </thead>\n",
       "  <tbody>\n",
       "    <tr>\n",
       "      <th>6</th>\n",
       "      <td>양은희</td>\n",
       "      <td>여</td>\n",
       "      <td>160.0</td>\n",
       "      <td>50.0</td>\n",
       "    </tr>\n",
       "    <tr>\n",
       "      <th>14</th>\n",
       "      <td>이재은</td>\n",
       "      <td>여</td>\n",
       "      <td>160.0</td>\n",
       "      <td>66.0</td>\n",
       "    </tr>\n",
       "    <tr>\n",
       "      <th>10</th>\n",
       "      <td>김원경</td>\n",
       "      <td>여</td>\n",
       "      <td>162.0</td>\n",
       "      <td>58.0</td>\n",
       "    </tr>\n",
       "    <tr>\n",
       "      <th>12</th>\n",
       "      <td>최도환</td>\n",
       "      <td>남</td>\n",
       "      <td>162.0</td>\n",
       "      <td>56.0</td>\n",
       "    </tr>\n",
       "    <tr>\n",
       "      <th>20</th>\n",
       "      <td>낸시</td>\n",
       "      <td>여</td>\n",
       "      <td>163.0</td>\n",
       "      <td>56.0</td>\n",
       "    </tr>\n",
       "    <tr>\n",
       "      <th>19</th>\n",
       "      <td>박보경</td>\n",
       "      <td>남</td>\n",
       "      <td>163.0</td>\n",
       "      <td>54.0</td>\n",
       "    </tr>\n",
       "    <tr>\n",
       "      <th>2</th>\n",
       "      <td>박은미</td>\n",
       "      <td>여</td>\n",
       "      <td>164.0</td>\n",
       "      <td>64.0</td>\n",
       "    </tr>\n",
       "    <tr>\n",
       "      <th>3</th>\n",
       "      <td>박성희</td>\n",
       "      <td>여</td>\n",
       "      <td>164.0</td>\n",
       "      <td>64.0</td>\n",
       "    </tr>\n",
       "    <tr>\n",
       "      <th>4</th>\n",
       "      <td>김이동</td>\n",
       "      <td>남</td>\n",
       "      <td>164.0</td>\n",
       "      <td>58.0</td>\n",
       "    </tr>\n",
       "    <tr>\n",
       "      <th>5</th>\n",
       "      <td>최점심</td>\n",
       "      <td>여</td>\n",
       "      <td>164.0</td>\n",
       "      <td>58.0</td>\n",
       "    </tr>\n",
       "    <tr>\n",
       "      <th>15</th>\n",
       "      <td>강진숙</td>\n",
       "      <td>여</td>\n",
       "      <td>164.0</td>\n",
       "      <td>59.0</td>\n",
       "    </tr>\n",
       "    <tr>\n",
       "      <th>16</th>\n",
       "      <td>조혜진</td>\n",
       "      <td>여</td>\n",
       "      <td>165.0</td>\n",
       "      <td>60.0</td>\n",
       "    </tr>\n",
       "    <tr>\n",
       "      <th>22</th>\n",
       "      <td>수지</td>\n",
       "      <td>여</td>\n",
       "      <td>168.0</td>\n",
       "      <td>61.0</td>\n",
       "    </tr>\n",
       "    <tr>\n",
       "      <th>9</th>\n",
       "      <td>한주연</td>\n",
       "      <td>여</td>\n",
       "      <td>168.0</td>\n",
       "      <td>56.0</td>\n",
       "    </tr>\n",
       "    <tr>\n",
       "      <th>21</th>\n",
       "      <td>조현</td>\n",
       "      <td>여</td>\n",
       "      <td>168.0</td>\n",
       "      <td>62.0</td>\n",
       "    </tr>\n",
       "    <tr>\n",
       "      <th>8</th>\n",
       "      <td>남중구</td>\n",
       "      <td>남</td>\n",
       "      <td>170.0</td>\n",
       "      <td>80.0</td>\n",
       "    </tr>\n",
       "    <tr>\n",
       "      <th>11</th>\n",
       "      <td>김영철</td>\n",
       "      <td>남</td>\n",
       "      <td>174.0</td>\n",
       "      <td>70.0</td>\n",
       "    </tr>\n",
       "    <tr>\n",
       "      <th>7</th>\n",
       "      <td>오종갑</td>\n",
       "      <td>남</td>\n",
       "      <td>175.0</td>\n",
       "      <td>76.0</td>\n",
       "    </tr>\n",
       "    <tr>\n",
       "      <th>0</th>\n",
       "      <td>김성필</td>\n",
       "      <td>남</td>\n",
       "      <td>176.5</td>\n",
       "      <td>71.5</td>\n",
       "    </tr>\n",
       "    <tr>\n",
       "      <th>17</th>\n",
       "      <td>최희열</td>\n",
       "      <td>남</td>\n",
       "      <td>177.0</td>\n",
       "      <td>78.0</td>\n",
       "    </tr>\n",
       "    <tr>\n",
       "      <th>18</th>\n",
       "      <td>양영걸</td>\n",
       "      <td>남</td>\n",
       "      <td>178.0</td>\n",
       "      <td>71.0</td>\n",
       "    </tr>\n",
       "    <tr>\n",
       "      <th>1</th>\n",
       "      <td>김민재</td>\n",
       "      <td>남</td>\n",
       "      <td>180.0</td>\n",
       "      <td>78.0</td>\n",
       "    </tr>\n",
       "    <tr>\n",
       "      <th>13</th>\n",
       "      <td>김상유</td>\n",
       "      <td>남</td>\n",
       "      <td>180.0</td>\n",
       "      <td>89.0</td>\n",
       "    </tr>\n",
       "  </tbody>\n",
       "</table>\n",
       "</div>"
      ],
      "text/plain": [
       "     이름 성별  키[cm]  몸무게[Kg]\n",
       "6   양은희  여  160.0     50.0\n",
       "14  이재은  여  160.0     66.0\n",
       "10  김원경  여  162.0     58.0\n",
       "12  최도환  남  162.0     56.0\n",
       "20   낸시  여  163.0     56.0\n",
       "19  박보경  남  163.0     54.0\n",
       "2   박은미  여  164.0     64.0\n",
       "3   박성희  여  164.0     64.0\n",
       "4   김이동  남  164.0     58.0\n",
       "5   최점심  여  164.0     58.0\n",
       "15  강진숙  여  164.0     59.0\n",
       "16  조혜진  여  165.0     60.0\n",
       "22   수지  여  168.0     61.0\n",
       "9   한주연  여  168.0     56.0\n",
       "21   조현  여  168.0     62.0\n",
       "8   남중구  남  170.0     80.0\n",
       "11  김영철  남  174.0     70.0\n",
       "7   오종갑  남  175.0     76.0\n",
       "0   김성필  남  176.5     71.5\n",
       "17  최희열  남  177.0     78.0\n",
       "18  양영걸  남  178.0     71.0\n",
       "1   김민재  남  180.0     78.0\n",
       "13  김상유  남  180.0     89.0"
      ]
     },
     "execution_count": 40,
     "metadata": {},
     "output_type": "execute_result"
    }
   ],
   "source": [
    "df.sort_values(by=\"키[cm]\")"
   ]
  },
  {
   "cell_type": "code",
   "execution_count": 41,
   "metadata": {},
   "outputs": [
    {
     "data": {
      "text/plain": [
       "이름         23\n",
       "성별         23\n",
       "키[cm]      23\n",
       "몸무게[Kg]    23\n",
       "dtype: int64"
      ]
     },
     "execution_count": 41,
     "metadata": {},
     "output_type": "execute_result"
    }
   ],
   "source": [
    "df.count()"
   ]
  },
  {
   "cell_type": "code",
   "execution_count": 43,
   "metadata": {},
   "outputs": [
    {
     "data": {
      "text/plain": [
       "165.0"
      ]
     },
     "execution_count": 43,
     "metadata": {},
     "output_type": "execute_result"
    }
   ],
   "source": [
    "df[\"키[cm]\"].median()"
   ]
  },
  {
   "cell_type": "code",
   "execution_count": 47,
   "metadata": {},
   "outputs": [
    {
     "data": {
      "text/html": [
       "<div>\n",
       "<style scoped>\n",
       "    .dataframe tbody tr th:only-of-type {\n",
       "        vertical-align: middle;\n",
       "    }\n",
       "\n",
       "    .dataframe tbody tr th {\n",
       "        vertical-align: top;\n",
       "    }\n",
       "\n",
       "    .dataframe thead th {\n",
       "        text-align: right;\n",
       "    }\n",
       "</style>\n",
       "<table border=\"1\" class=\"dataframe\">\n",
       "  <thead>\n",
       "    <tr style=\"text-align: right;\">\n",
       "      <th></th>\n",
       "      <th>이름</th>\n",
       "      <th>성별</th>\n",
       "      <th>키[cm]</th>\n",
       "      <th>몸무게[Kg]</th>\n",
       "    </tr>\n",
       "  </thead>\n",
       "  <tbody>\n",
       "    <tr>\n",
       "      <th>6</th>\n",
       "      <td>양은희</td>\n",
       "      <td>여</td>\n",
       "      <td>160.0</td>\n",
       "      <td>50.0</td>\n",
       "    </tr>\n",
       "    <tr>\n",
       "      <th>14</th>\n",
       "      <td>이재은</td>\n",
       "      <td>여</td>\n",
       "      <td>160.0</td>\n",
       "      <td>66.0</td>\n",
       "    </tr>\n",
       "    <tr>\n",
       "      <th>10</th>\n",
       "      <td>김원경</td>\n",
       "      <td>여</td>\n",
       "      <td>162.0</td>\n",
       "      <td>58.0</td>\n",
       "    </tr>\n",
       "    <tr>\n",
       "      <th>12</th>\n",
       "      <td>최도환</td>\n",
       "      <td>남</td>\n",
       "      <td>162.0</td>\n",
       "      <td>56.0</td>\n",
       "    </tr>\n",
       "    <tr>\n",
       "      <th>20</th>\n",
       "      <td>낸시</td>\n",
       "      <td>여</td>\n",
       "      <td>163.0</td>\n",
       "      <td>56.0</td>\n",
       "    </tr>\n",
       "    <tr>\n",
       "      <th>19</th>\n",
       "      <td>박보경</td>\n",
       "      <td>남</td>\n",
       "      <td>163.0</td>\n",
       "      <td>54.0</td>\n",
       "    </tr>\n",
       "    <tr>\n",
       "      <th>2</th>\n",
       "      <td>박은미</td>\n",
       "      <td>여</td>\n",
       "      <td>164.0</td>\n",
       "      <td>64.0</td>\n",
       "    </tr>\n",
       "    <tr>\n",
       "      <th>3</th>\n",
       "      <td>박성희</td>\n",
       "      <td>여</td>\n",
       "      <td>164.0</td>\n",
       "      <td>64.0</td>\n",
       "    </tr>\n",
       "    <tr>\n",
       "      <th>4</th>\n",
       "      <td>김이동</td>\n",
       "      <td>남</td>\n",
       "      <td>164.0</td>\n",
       "      <td>58.0</td>\n",
       "    </tr>\n",
       "    <tr>\n",
       "      <th>5</th>\n",
       "      <td>최점심</td>\n",
       "      <td>여</td>\n",
       "      <td>164.0</td>\n",
       "      <td>58.0</td>\n",
       "    </tr>\n",
       "    <tr>\n",
       "      <th>15</th>\n",
       "      <td>강진숙</td>\n",
       "      <td>여</td>\n",
       "      <td>164.0</td>\n",
       "      <td>59.0</td>\n",
       "    </tr>\n",
       "    <tr>\n",
       "      <th>16</th>\n",
       "      <td>조혜진</td>\n",
       "      <td>여</td>\n",
       "      <td>165.0</td>\n",
       "      <td>60.0</td>\n",
       "    </tr>\n",
       "    <tr>\n",
       "      <th>22</th>\n",
       "      <td>수지</td>\n",
       "      <td>여</td>\n",
       "      <td>168.0</td>\n",
       "      <td>61.0</td>\n",
       "    </tr>\n",
       "    <tr>\n",
       "      <th>9</th>\n",
       "      <td>한주연</td>\n",
       "      <td>여</td>\n",
       "      <td>168.0</td>\n",
       "      <td>56.0</td>\n",
       "    </tr>\n",
       "  </tbody>\n",
       "</table>\n",
       "</div>"
      ],
      "text/plain": [
       "     이름 성별  키[cm]  몸무게[Kg]\n",
       "6   양은희  여  160.0     50.0\n",
       "14  이재은  여  160.0     66.0\n",
       "10  김원경  여  162.0     58.0\n",
       "12  최도환  남  162.0     56.0\n",
       "20   낸시  여  163.0     56.0\n",
       "19  박보경  남  163.0     54.0\n",
       "2   박은미  여  164.0     64.0\n",
       "3   박성희  여  164.0     64.0\n",
       "4   김이동  남  164.0     58.0\n",
       "5   최점심  여  164.0     58.0\n",
       "15  강진숙  여  164.0     59.0\n",
       "16  조혜진  여  165.0     60.0\n",
       "22   수지  여  168.0     61.0\n",
       "9   한주연  여  168.0     56.0"
      ]
     },
     "execution_count": 47,
     "metadata": {},
     "output_type": "execute_result"
    }
   ],
   "source": [
    "df.sort_values(by=\"키[cm]\")[0:14]"
   ]
  },
  {
   "cell_type": "code",
   "execution_count": 48,
   "metadata": {},
   "outputs": [],
   "source": [
    "newdf = df.sort_values(by=\"키[cm]\",ascending=False)"
   ]
  },
  {
   "cell_type": "code",
   "execution_count": 49,
   "metadata": {},
   "outputs": [
    {
     "data": {
      "text/html": [
       "<div>\n",
       "<style scoped>\n",
       "    .dataframe tbody tr th:only-of-type {\n",
       "        vertical-align: middle;\n",
       "    }\n",
       "\n",
       "    .dataframe tbody tr th {\n",
       "        vertical-align: top;\n",
       "    }\n",
       "\n",
       "    .dataframe thead th {\n",
       "        text-align: right;\n",
       "    }\n",
       "</style>\n",
       "<table border=\"1\" class=\"dataframe\">\n",
       "  <thead>\n",
       "    <tr style=\"text-align: right;\">\n",
       "      <th></th>\n",
       "      <th>이름</th>\n",
       "      <th>성별</th>\n",
       "      <th>키[cm]</th>\n",
       "      <th>몸무게[Kg]</th>\n",
       "    </tr>\n",
       "  </thead>\n",
       "  <tbody>\n",
       "    <tr>\n",
       "      <th>13</th>\n",
       "      <td>김상유</td>\n",
       "      <td>남</td>\n",
       "      <td>180.0</td>\n",
       "      <td>89.0</td>\n",
       "    </tr>\n",
       "    <tr>\n",
       "      <th>1</th>\n",
       "      <td>김민재</td>\n",
       "      <td>남</td>\n",
       "      <td>180.0</td>\n",
       "      <td>78.0</td>\n",
       "    </tr>\n",
       "    <tr>\n",
       "      <th>18</th>\n",
       "      <td>양영걸</td>\n",
       "      <td>남</td>\n",
       "      <td>178.0</td>\n",
       "      <td>71.0</td>\n",
       "    </tr>\n",
       "    <tr>\n",
       "      <th>17</th>\n",
       "      <td>최희열</td>\n",
       "      <td>남</td>\n",
       "      <td>177.0</td>\n",
       "      <td>78.0</td>\n",
       "    </tr>\n",
       "    <tr>\n",
       "      <th>0</th>\n",
       "      <td>김성필</td>\n",
       "      <td>남</td>\n",
       "      <td>176.5</td>\n",
       "      <td>71.5</td>\n",
       "    </tr>\n",
       "    <tr>\n",
       "      <th>7</th>\n",
       "      <td>오종갑</td>\n",
       "      <td>남</td>\n",
       "      <td>175.0</td>\n",
       "      <td>76.0</td>\n",
       "    </tr>\n",
       "    <tr>\n",
       "      <th>11</th>\n",
       "      <td>김영철</td>\n",
       "      <td>남</td>\n",
       "      <td>174.0</td>\n",
       "      <td>70.0</td>\n",
       "    </tr>\n",
       "    <tr>\n",
       "      <th>8</th>\n",
       "      <td>남중구</td>\n",
       "      <td>남</td>\n",
       "      <td>170.0</td>\n",
       "      <td>80.0</td>\n",
       "    </tr>\n",
       "    <tr>\n",
       "      <th>9</th>\n",
       "      <td>한주연</td>\n",
       "      <td>여</td>\n",
       "      <td>168.0</td>\n",
       "      <td>56.0</td>\n",
       "    </tr>\n",
       "    <tr>\n",
       "      <th>21</th>\n",
       "      <td>조현</td>\n",
       "      <td>여</td>\n",
       "      <td>168.0</td>\n",
       "      <td>62.0</td>\n",
       "    </tr>\n",
       "    <tr>\n",
       "      <th>22</th>\n",
       "      <td>수지</td>\n",
       "      <td>여</td>\n",
       "      <td>168.0</td>\n",
       "      <td>61.0</td>\n",
       "    </tr>\n",
       "    <tr>\n",
       "      <th>16</th>\n",
       "      <td>조혜진</td>\n",
       "      <td>여</td>\n",
       "      <td>165.0</td>\n",
       "      <td>60.0</td>\n",
       "    </tr>\n",
       "    <tr>\n",
       "      <th>5</th>\n",
       "      <td>최점심</td>\n",
       "      <td>여</td>\n",
       "      <td>164.0</td>\n",
       "      <td>58.0</td>\n",
       "    </tr>\n",
       "    <tr>\n",
       "      <th>4</th>\n",
       "      <td>김이동</td>\n",
       "      <td>남</td>\n",
       "      <td>164.0</td>\n",
       "      <td>58.0</td>\n",
       "    </tr>\n",
       "    <tr>\n",
       "      <th>15</th>\n",
       "      <td>강진숙</td>\n",
       "      <td>여</td>\n",
       "      <td>164.0</td>\n",
       "      <td>59.0</td>\n",
       "    </tr>\n",
       "    <tr>\n",
       "      <th>3</th>\n",
       "      <td>박성희</td>\n",
       "      <td>여</td>\n",
       "      <td>164.0</td>\n",
       "      <td>64.0</td>\n",
       "    </tr>\n",
       "    <tr>\n",
       "      <th>2</th>\n",
       "      <td>박은미</td>\n",
       "      <td>여</td>\n",
       "      <td>164.0</td>\n",
       "      <td>64.0</td>\n",
       "    </tr>\n",
       "    <tr>\n",
       "      <th>19</th>\n",
       "      <td>박보경</td>\n",
       "      <td>남</td>\n",
       "      <td>163.0</td>\n",
       "      <td>54.0</td>\n",
       "    </tr>\n",
       "    <tr>\n",
       "      <th>20</th>\n",
       "      <td>낸시</td>\n",
       "      <td>여</td>\n",
       "      <td>163.0</td>\n",
       "      <td>56.0</td>\n",
       "    </tr>\n",
       "    <tr>\n",
       "      <th>10</th>\n",
       "      <td>김원경</td>\n",
       "      <td>여</td>\n",
       "      <td>162.0</td>\n",
       "      <td>58.0</td>\n",
       "    </tr>\n",
       "    <tr>\n",
       "      <th>12</th>\n",
       "      <td>최도환</td>\n",
       "      <td>남</td>\n",
       "      <td>162.0</td>\n",
       "      <td>56.0</td>\n",
       "    </tr>\n",
       "    <tr>\n",
       "      <th>6</th>\n",
       "      <td>양은희</td>\n",
       "      <td>여</td>\n",
       "      <td>160.0</td>\n",
       "      <td>50.0</td>\n",
       "    </tr>\n",
       "    <tr>\n",
       "      <th>14</th>\n",
       "      <td>이재은</td>\n",
       "      <td>여</td>\n",
       "      <td>160.0</td>\n",
       "      <td>66.0</td>\n",
       "    </tr>\n",
       "  </tbody>\n",
       "</table>\n",
       "</div>"
      ],
      "text/plain": [
       "     이름 성별  키[cm]  몸무게[Kg]\n",
       "13  김상유  남  180.0     89.0\n",
       "1   김민재  남  180.0     78.0\n",
       "18  양영걸  남  178.0     71.0\n",
       "17  최희열  남  177.0     78.0\n",
       "0   김성필  남  176.5     71.5\n",
       "7   오종갑  남  175.0     76.0\n",
       "11  김영철  남  174.0     70.0\n",
       "8   남중구  남  170.0     80.0\n",
       "9   한주연  여  168.0     56.0\n",
       "21   조현  여  168.0     62.0\n",
       "22   수지  여  168.0     61.0\n",
       "16  조혜진  여  165.0     60.0\n",
       "5   최점심  여  164.0     58.0\n",
       "4   김이동  남  164.0     58.0\n",
       "15  강진숙  여  164.0     59.0\n",
       "3   박성희  여  164.0     64.0\n",
       "2   박은미  여  164.0     64.0\n",
       "19  박보경  남  163.0     54.0\n",
       "20   낸시  여  163.0     56.0\n",
       "10  김원경  여  162.0     58.0\n",
       "12  최도환  남  162.0     56.0\n",
       "6   양은희  여  160.0     50.0\n",
       "14  이재은  여  160.0     66.0"
      ]
     },
     "execution_count": 49,
     "metadata": {},
     "output_type": "execute_result"
    }
   ],
   "source": [
    "newdf"
   ]
  },
  {
   "cell_type": "code",
   "execution_count": 52,
   "metadata": {},
   "outputs": [
    {
     "data": {
      "text/html": [
       "<div>\n",
       "<style scoped>\n",
       "    .dataframe tbody tr th:only-of-type {\n",
       "        vertical-align: middle;\n",
       "    }\n",
       "\n",
       "    .dataframe tbody tr th {\n",
       "        vertical-align: top;\n",
       "    }\n",
       "\n",
       "    .dataframe thead th {\n",
       "        text-align: right;\n",
       "    }\n",
       "</style>\n",
       "<table border=\"1\" class=\"dataframe\">\n",
       "  <thead>\n",
       "    <tr style=\"text-align: right;\">\n",
       "      <th></th>\n",
       "      <th>이름</th>\n",
       "      <th>성별</th>\n",
       "      <th>키[cm]</th>\n",
       "      <th>몸무게[Kg]</th>\n",
       "    </tr>\n",
       "  </thead>\n",
       "  <tbody>\n",
       "    <tr>\n",
       "      <th>0</th>\n",
       "      <td>김성필</td>\n",
       "      <td>남</td>\n",
       "      <td>176.5</td>\n",
       "      <td>71.5</td>\n",
       "    </tr>\n",
       "    <tr>\n",
       "      <th>1</th>\n",
       "      <td>김민재</td>\n",
       "      <td>남</td>\n",
       "      <td>180.0</td>\n",
       "      <td>78.0</td>\n",
       "    </tr>\n",
       "    <tr>\n",
       "      <th>2</th>\n",
       "      <td>박은미</td>\n",
       "      <td>여</td>\n",
       "      <td>164.0</td>\n",
       "      <td>64.0</td>\n",
       "    </tr>\n",
       "    <tr>\n",
       "      <th>3</th>\n",
       "      <td>박성희</td>\n",
       "      <td>여</td>\n",
       "      <td>164.0</td>\n",
       "      <td>64.0</td>\n",
       "    </tr>\n",
       "    <tr>\n",
       "      <th>4</th>\n",
       "      <td>김이동</td>\n",
       "      <td>남</td>\n",
       "      <td>164.0</td>\n",
       "      <td>58.0</td>\n",
       "    </tr>\n",
       "    <tr>\n",
       "      <th>5</th>\n",
       "      <td>최점심</td>\n",
       "      <td>여</td>\n",
       "      <td>164.0</td>\n",
       "      <td>58.0</td>\n",
       "    </tr>\n",
       "    <tr>\n",
       "      <th>6</th>\n",
       "      <td>양은희</td>\n",
       "      <td>여</td>\n",
       "      <td>160.0</td>\n",
       "      <td>50.0</td>\n",
       "    </tr>\n",
       "    <tr>\n",
       "      <th>7</th>\n",
       "      <td>오종갑</td>\n",
       "      <td>남</td>\n",
       "      <td>175.0</td>\n",
       "      <td>76.0</td>\n",
       "    </tr>\n",
       "    <tr>\n",
       "      <th>8</th>\n",
       "      <td>남중구</td>\n",
       "      <td>남</td>\n",
       "      <td>170.0</td>\n",
       "      <td>80.0</td>\n",
       "    </tr>\n",
       "    <tr>\n",
       "      <th>9</th>\n",
       "      <td>한주연</td>\n",
       "      <td>여</td>\n",
       "      <td>168.0</td>\n",
       "      <td>56.0</td>\n",
       "    </tr>\n",
       "    <tr>\n",
       "      <th>10</th>\n",
       "      <td>김원경</td>\n",
       "      <td>여</td>\n",
       "      <td>162.0</td>\n",
       "      <td>58.0</td>\n",
       "    </tr>\n",
       "    <tr>\n",
       "      <th>11</th>\n",
       "      <td>김영철</td>\n",
       "      <td>남</td>\n",
       "      <td>174.0</td>\n",
       "      <td>70.0</td>\n",
       "    </tr>\n",
       "    <tr>\n",
       "      <th>12</th>\n",
       "      <td>최도환</td>\n",
       "      <td>남</td>\n",
       "      <td>162.0</td>\n",
       "      <td>56.0</td>\n",
       "    </tr>\n",
       "    <tr>\n",
       "      <th>13</th>\n",
       "      <td>김상유</td>\n",
       "      <td>남</td>\n",
       "      <td>180.0</td>\n",
       "      <td>89.0</td>\n",
       "    </tr>\n",
       "    <tr>\n",
       "      <th>14</th>\n",
       "      <td>이재은</td>\n",
       "      <td>여</td>\n",
       "      <td>160.0</td>\n",
       "      <td>66.0</td>\n",
       "    </tr>\n",
       "    <tr>\n",
       "      <th>15</th>\n",
       "      <td>강진숙</td>\n",
       "      <td>여</td>\n",
       "      <td>164.0</td>\n",
       "      <td>59.0</td>\n",
       "    </tr>\n",
       "    <tr>\n",
       "      <th>16</th>\n",
       "      <td>조혜진</td>\n",
       "      <td>여</td>\n",
       "      <td>165.0</td>\n",
       "      <td>60.0</td>\n",
       "    </tr>\n",
       "    <tr>\n",
       "      <th>17</th>\n",
       "      <td>최희열</td>\n",
       "      <td>남</td>\n",
       "      <td>177.0</td>\n",
       "      <td>78.0</td>\n",
       "    </tr>\n",
       "    <tr>\n",
       "      <th>18</th>\n",
       "      <td>양영걸</td>\n",
       "      <td>남</td>\n",
       "      <td>178.0</td>\n",
       "      <td>71.0</td>\n",
       "    </tr>\n",
       "    <tr>\n",
       "      <th>19</th>\n",
       "      <td>박보경</td>\n",
       "      <td>남</td>\n",
       "      <td>163.0</td>\n",
       "      <td>54.0</td>\n",
       "    </tr>\n",
       "    <tr>\n",
       "      <th>20</th>\n",
       "      <td>낸시</td>\n",
       "      <td>여</td>\n",
       "      <td>163.0</td>\n",
       "      <td>56.0</td>\n",
       "    </tr>\n",
       "    <tr>\n",
       "      <th>21</th>\n",
       "      <td>조현</td>\n",
       "      <td>여</td>\n",
       "      <td>168.0</td>\n",
       "      <td>62.0</td>\n",
       "    </tr>\n",
       "    <tr>\n",
       "      <th>22</th>\n",
       "      <td>수지</td>\n",
       "      <td>여</td>\n",
       "      <td>168.0</td>\n",
       "      <td>61.0</td>\n",
       "    </tr>\n",
       "  </tbody>\n",
       "</table>\n",
       "</div>"
      ],
      "text/plain": [
       "     이름 성별  키[cm]  몸무게[Kg]\n",
       "0   김성필  남  176.5     71.5\n",
       "1   김민재  남  180.0     78.0\n",
       "2   박은미  여  164.0     64.0\n",
       "3   박성희  여  164.0     64.0\n",
       "4   김이동  남  164.0     58.0\n",
       "5   최점심  여  164.0     58.0\n",
       "6   양은희  여  160.0     50.0\n",
       "7   오종갑  남  175.0     76.0\n",
       "8   남중구  남  170.0     80.0\n",
       "9   한주연  여  168.0     56.0\n",
       "10  김원경  여  162.0     58.0\n",
       "11  김영철  남  174.0     70.0\n",
       "12  최도환  남  162.0     56.0\n",
       "13  김상유  남  180.0     89.0\n",
       "14  이재은  여  160.0     66.0\n",
       "15  강진숙  여  164.0     59.0\n",
       "16  조혜진  여  165.0     60.0\n",
       "17  최희열  남  177.0     78.0\n",
       "18  양영걸  남  178.0     71.0\n",
       "19  박보경  남  163.0     54.0\n",
       "20   낸시  여  163.0     56.0\n",
       "21   조현  여  168.0     62.0\n",
       "22   수지  여  168.0     61.0"
      ]
     },
     "execution_count": 52,
     "metadata": {},
     "output_type": "execute_result"
    }
   ],
   "source": [
    "df"
   ]
  },
  {
   "cell_type": "code",
   "execution_count": 53,
   "metadata": {},
   "outputs": [
    {
     "data": {
      "text/plain": [
       "0      True\n",
       "1      True\n",
       "2     False\n",
       "3     False\n",
       "4     False\n",
       "5     False\n",
       "6     False\n",
       "7     False\n",
       "8     False\n",
       "9     False\n",
       "10    False\n",
       "11    False\n",
       "12    False\n",
       "13     True\n",
       "14    False\n",
       "15    False\n",
       "16    False\n",
       "17     True\n",
       "18     True\n",
       "19    False\n",
       "20    False\n",
       "21    False\n",
       "22    False\n",
       "Name: 키[cm], dtype: bool"
      ]
     },
     "execution_count": 53,
     "metadata": {},
     "output_type": "execute_result"
    }
   ],
   "source": [
    "df[\"키[cm]\"]>=176"
   ]
  },
  {
   "cell_type": "code",
   "execution_count": 55,
   "metadata": {},
   "outputs": [],
   "source": [
    "#파이썬 주석"
   ]
  },
  {
   "cell_type": "code",
   "execution_count": 56,
   "metadata": {},
   "outputs": [
    {
     "data": {
      "text/html": [
       "<div>\n",
       "<style scoped>\n",
       "    .dataframe tbody tr th:only-of-type {\n",
       "        vertical-align: middle;\n",
       "    }\n",
       "\n",
       "    .dataframe tbody tr th {\n",
       "        vertical-align: top;\n",
       "    }\n",
       "\n",
       "    .dataframe thead th {\n",
       "        text-align: right;\n",
       "    }\n",
       "</style>\n",
       "<table border=\"1\" class=\"dataframe\">\n",
       "  <thead>\n",
       "    <tr style=\"text-align: right;\">\n",
       "      <th></th>\n",
       "      <th>이름</th>\n",
       "      <th>성별</th>\n",
       "      <th>키[cm]</th>\n",
       "      <th>몸무게[Kg]</th>\n",
       "    </tr>\n",
       "  </thead>\n",
       "  <tbody>\n",
       "    <tr>\n",
       "      <th>0</th>\n",
       "      <td>김성필</td>\n",
       "      <td>남</td>\n",
       "      <td>176.5</td>\n",
       "      <td>71.5</td>\n",
       "    </tr>\n",
       "    <tr>\n",
       "      <th>1</th>\n",
       "      <td>김민재</td>\n",
       "      <td>남</td>\n",
       "      <td>180.0</td>\n",
       "      <td>78.0</td>\n",
       "    </tr>\n",
       "    <tr>\n",
       "      <th>13</th>\n",
       "      <td>김상유</td>\n",
       "      <td>남</td>\n",
       "      <td>180.0</td>\n",
       "      <td>89.0</td>\n",
       "    </tr>\n",
       "    <tr>\n",
       "      <th>17</th>\n",
       "      <td>최희열</td>\n",
       "      <td>남</td>\n",
       "      <td>177.0</td>\n",
       "      <td>78.0</td>\n",
       "    </tr>\n",
       "    <tr>\n",
       "      <th>18</th>\n",
       "      <td>양영걸</td>\n",
       "      <td>남</td>\n",
       "      <td>178.0</td>\n",
       "      <td>71.0</td>\n",
       "    </tr>\n",
       "  </tbody>\n",
       "</table>\n",
       "</div>"
      ],
      "text/plain": [
       "     이름 성별  키[cm]  몸무게[Kg]\n",
       "0   김성필  남  176.5     71.5\n",
       "1   김민재  남  180.0     78.0\n",
       "13  김상유  남  180.0     89.0\n",
       "17  최희열  남  177.0     78.0\n",
       "18  양영걸  남  178.0     71.0"
      ]
     },
     "execution_count": 56,
     "metadata": {},
     "output_type": "execute_result"
    }
   ],
   "source": [
    "#df[조건] -> 조건이 참인 결과 조회\n",
    "df[df[\"키[cm]\"]>=176]"
   ]
  },
  {
   "cell_type": "code",
   "execution_count": 59,
   "metadata": {},
   "outputs": [
    {
     "data": {
      "text/html": [
       "<div>\n",
       "<style scoped>\n",
       "    .dataframe tbody tr th:only-of-type {\n",
       "        vertical-align: middle;\n",
       "    }\n",
       "\n",
       "    .dataframe tbody tr th {\n",
       "        vertical-align: top;\n",
       "    }\n",
       "\n",
       "    .dataframe thead th {\n",
       "        text-align: right;\n",
       "    }\n",
       "</style>\n",
       "<table border=\"1\" class=\"dataframe\">\n",
       "  <thead>\n",
       "    <tr style=\"text-align: right;\">\n",
       "      <th></th>\n",
       "      <th>이름</th>\n",
       "      <th>성별</th>\n",
       "      <th>키[cm]</th>\n",
       "      <th>몸무게[Kg]</th>\n",
       "    </tr>\n",
       "  </thead>\n",
       "  <tbody>\n",
       "    <tr>\n",
       "      <th>9</th>\n",
       "      <td>한주연</td>\n",
       "      <td>여</td>\n",
       "      <td>168.0</td>\n",
       "      <td>56.0</td>\n",
       "    </tr>\n",
       "    <tr>\n",
       "      <th>21</th>\n",
       "      <td>조현</td>\n",
       "      <td>여</td>\n",
       "      <td>168.0</td>\n",
       "      <td>62.0</td>\n",
       "    </tr>\n",
       "    <tr>\n",
       "      <th>22</th>\n",
       "      <td>수지</td>\n",
       "      <td>여</td>\n",
       "      <td>168.0</td>\n",
       "      <td>61.0</td>\n",
       "    </tr>\n",
       "  </tbody>\n",
       "</table>\n",
       "</div>"
      ],
      "text/plain": [
       "     이름 성별  키[cm]  몸무게[Kg]\n",
       "9   한주연  여  168.0     56.0\n",
       "21   조현  여  168.0     62.0\n",
       "22   수지  여  168.0     61.0"
      ]
     },
     "execution_count": 59,
     "metadata": {},
     "output_type": "execute_result"
    }
   ],
   "source": [
    "df[(df[\"키[cm]\"]>=167) & (df[\"성별\"]==\"여\")]"
   ]
  },
  {
   "cell_type": "code",
   "execution_count": 60,
   "metadata": {},
   "outputs": [
    {
     "data": {
      "text/plain": [
       "0     False\n",
       "1     False\n",
       "2     False\n",
       "3     False\n",
       "4     False\n",
       "5     False\n",
       "6     False\n",
       "7     False\n",
       "8     False\n",
       "9      True\n",
       "10    False\n",
       "11    False\n",
       "12    False\n",
       "13    False\n",
       "14    False\n",
       "15    False\n",
       "16    False\n",
       "17    False\n",
       "18    False\n",
       "19    False\n",
       "20    False\n",
       "21     True\n",
       "22     True\n",
       "dtype: bool"
      ]
     },
     "execution_count": 60,
     "metadata": {},
     "output_type": "execute_result"
    }
   ],
   "source": [
    "(df[\"키[cm]\"]>=167) & (df[\"성별\"]==\"여\")"
   ]
  },
  {
   "cell_type": "code",
   "execution_count": 63,
   "metadata": {},
   "outputs": [
    {
     "data": {
      "text/plain": [
       "0      True\n",
       "1      True\n",
       "2      True\n",
       "3      True\n",
       "4     False\n",
       "5      True\n",
       "6      True\n",
       "7     False\n",
       "8     False\n",
       "9      True\n",
       "10     True\n",
       "11    False\n",
       "12    False\n",
       "13     True\n",
       "14     True\n",
       "15     True\n",
       "16     True\n",
       "17     True\n",
       "18     True\n",
       "19    False\n",
       "20     True\n",
       "21     True\n",
       "22     True\n",
       "dtype: bool"
      ]
     },
     "execution_count": 63,
     "metadata": {},
     "output_type": "execute_result"
    }
   ],
   "source": [
    "(df[\"키[cm]\"]>=176) | (df[\"성별\"]==\"여\")"
   ]
  },
  {
   "cell_type": "code",
   "execution_count": 64,
   "metadata": {},
   "outputs": [
    {
     "data": {
      "text/html": [
       "<div>\n",
       "<style scoped>\n",
       "    .dataframe tbody tr th:only-of-type {\n",
       "        vertical-align: middle;\n",
       "    }\n",
       "\n",
       "    .dataframe tbody tr th {\n",
       "        vertical-align: top;\n",
       "    }\n",
       "\n",
       "    .dataframe thead th {\n",
       "        text-align: right;\n",
       "    }\n",
       "</style>\n",
       "<table border=\"1\" class=\"dataframe\">\n",
       "  <thead>\n",
       "    <tr style=\"text-align: right;\">\n",
       "      <th></th>\n",
       "      <th>이름</th>\n",
       "      <th>성별</th>\n",
       "      <th>키[cm]</th>\n",
       "      <th>몸무게[Kg]</th>\n",
       "    </tr>\n",
       "  </thead>\n",
       "  <tbody>\n",
       "    <tr>\n",
       "      <th>0</th>\n",
       "      <td>김성필</td>\n",
       "      <td>남</td>\n",
       "      <td>176.5</td>\n",
       "      <td>71.5</td>\n",
       "    </tr>\n",
       "    <tr>\n",
       "      <th>1</th>\n",
       "      <td>김민재</td>\n",
       "      <td>남</td>\n",
       "      <td>180.0</td>\n",
       "      <td>78.0</td>\n",
       "    </tr>\n",
       "    <tr>\n",
       "      <th>2</th>\n",
       "      <td>박은미</td>\n",
       "      <td>여</td>\n",
       "      <td>164.0</td>\n",
       "      <td>64.0</td>\n",
       "    </tr>\n",
       "    <tr>\n",
       "      <th>3</th>\n",
       "      <td>박성희</td>\n",
       "      <td>여</td>\n",
       "      <td>164.0</td>\n",
       "      <td>64.0</td>\n",
       "    </tr>\n",
       "    <tr>\n",
       "      <th>5</th>\n",
       "      <td>최점심</td>\n",
       "      <td>여</td>\n",
       "      <td>164.0</td>\n",
       "      <td>58.0</td>\n",
       "    </tr>\n",
       "    <tr>\n",
       "      <th>6</th>\n",
       "      <td>양은희</td>\n",
       "      <td>여</td>\n",
       "      <td>160.0</td>\n",
       "      <td>50.0</td>\n",
       "    </tr>\n",
       "    <tr>\n",
       "      <th>9</th>\n",
       "      <td>한주연</td>\n",
       "      <td>여</td>\n",
       "      <td>168.0</td>\n",
       "      <td>56.0</td>\n",
       "    </tr>\n",
       "    <tr>\n",
       "      <th>10</th>\n",
       "      <td>김원경</td>\n",
       "      <td>여</td>\n",
       "      <td>162.0</td>\n",
       "      <td>58.0</td>\n",
       "    </tr>\n",
       "    <tr>\n",
       "      <th>13</th>\n",
       "      <td>김상유</td>\n",
       "      <td>남</td>\n",
       "      <td>180.0</td>\n",
       "      <td>89.0</td>\n",
       "    </tr>\n",
       "    <tr>\n",
       "      <th>14</th>\n",
       "      <td>이재은</td>\n",
       "      <td>여</td>\n",
       "      <td>160.0</td>\n",
       "      <td>66.0</td>\n",
       "    </tr>\n",
       "    <tr>\n",
       "      <th>15</th>\n",
       "      <td>강진숙</td>\n",
       "      <td>여</td>\n",
       "      <td>164.0</td>\n",
       "      <td>59.0</td>\n",
       "    </tr>\n",
       "    <tr>\n",
       "      <th>16</th>\n",
       "      <td>조혜진</td>\n",
       "      <td>여</td>\n",
       "      <td>165.0</td>\n",
       "      <td>60.0</td>\n",
       "    </tr>\n",
       "    <tr>\n",
       "      <th>17</th>\n",
       "      <td>최희열</td>\n",
       "      <td>남</td>\n",
       "      <td>177.0</td>\n",
       "      <td>78.0</td>\n",
       "    </tr>\n",
       "    <tr>\n",
       "      <th>18</th>\n",
       "      <td>양영걸</td>\n",
       "      <td>남</td>\n",
       "      <td>178.0</td>\n",
       "      <td>71.0</td>\n",
       "    </tr>\n",
       "    <tr>\n",
       "      <th>20</th>\n",
       "      <td>낸시</td>\n",
       "      <td>여</td>\n",
       "      <td>163.0</td>\n",
       "      <td>56.0</td>\n",
       "    </tr>\n",
       "    <tr>\n",
       "      <th>21</th>\n",
       "      <td>조현</td>\n",
       "      <td>여</td>\n",
       "      <td>168.0</td>\n",
       "      <td>62.0</td>\n",
       "    </tr>\n",
       "    <tr>\n",
       "      <th>22</th>\n",
       "      <td>수지</td>\n",
       "      <td>여</td>\n",
       "      <td>168.0</td>\n",
       "      <td>61.0</td>\n",
       "    </tr>\n",
       "  </tbody>\n",
       "</table>\n",
       "</div>"
      ],
      "text/plain": [
       "     이름 성별  키[cm]  몸무게[Kg]\n",
       "0   김성필  남  176.5     71.5\n",
       "1   김민재  남  180.0     78.0\n",
       "2   박은미  여  164.0     64.0\n",
       "3   박성희  여  164.0     64.0\n",
       "5   최점심  여  164.0     58.0\n",
       "6   양은희  여  160.0     50.0\n",
       "9   한주연  여  168.0     56.0\n",
       "10  김원경  여  162.0     58.0\n",
       "13  김상유  남  180.0     89.0\n",
       "14  이재은  여  160.0     66.0\n",
       "15  강진숙  여  164.0     59.0\n",
       "16  조혜진  여  165.0     60.0\n",
       "17  최희열  남  177.0     78.0\n",
       "18  양영걸  남  178.0     71.0\n",
       "20   낸시  여  163.0     56.0\n",
       "21   조현  여  168.0     62.0\n",
       "22   수지  여  168.0     61.0"
      ]
     },
     "execution_count": 64,
     "metadata": {},
     "output_type": "execute_result"
    }
   ],
   "source": [
    "df[(df[\"키[cm]\"]>=176) | (df[\"성별\"]==\"여\")]"
   ]
  },
  {
   "cell_type": "code",
   "execution_count": 65,
   "metadata": {},
   "outputs": [
    {
     "data": {
      "text/plain": [
       "이름         17\n",
       "성별         17\n",
       "키[cm]      17\n",
       "몸무게[Kg]    17\n",
       "dtype: int64"
      ]
     },
     "execution_count": 65,
     "metadata": {},
     "output_type": "execute_result"
    }
   ],
   "source": [
    "df[(df[\"키[cm]\"]>=176) | (df[\"성별\"]==\"여\")].count()"
   ]
  },
  {
   "cell_type": "code",
   "execution_count": 66,
   "metadata": {},
   "outputs": [
    {
     "data": {
      "text/plain": [
       "키[cm]      165.0\n",
       "몸무게[Kg]     62.0\n",
       "dtype: float64"
      ]
     },
     "execution_count": 66,
     "metadata": {},
     "output_type": "execute_result"
    }
   ],
   "source": [
    "df[(df[\"키[cm]\"]>=176) | (df[\"성별\"]==\"여\")].median()"
   ]
  },
  {
   "cell_type": "code",
   "execution_count": 67,
   "metadata": {},
   "outputs": [
    {
     "data": {
      "text/html": [
       "<div>\n",
       "<style scoped>\n",
       "    .dataframe tbody tr th:only-of-type {\n",
       "        vertical-align: middle;\n",
       "    }\n",
       "\n",
       "    .dataframe tbody tr th {\n",
       "        vertical-align: top;\n",
       "    }\n",
       "\n",
       "    .dataframe thead th {\n",
       "        text-align: right;\n",
       "    }\n",
       "</style>\n",
       "<table border=\"1\" class=\"dataframe\">\n",
       "  <thead>\n",
       "    <tr style=\"text-align: right;\">\n",
       "      <th></th>\n",
       "      <th>이름</th>\n",
       "      <th>성별</th>\n",
       "      <th>키[cm]</th>\n",
       "      <th>몸무게[Kg]</th>\n",
       "    </tr>\n",
       "  </thead>\n",
       "  <tbody>\n",
       "    <tr>\n",
       "      <th>9</th>\n",
       "      <td>한주연</td>\n",
       "      <td>여</td>\n",
       "      <td>168.0</td>\n",
       "      <td>56.0</td>\n",
       "    </tr>\n",
       "    <tr>\n",
       "      <th>17</th>\n",
       "      <td>최희열</td>\n",
       "      <td>남</td>\n",
       "      <td>177.0</td>\n",
       "      <td>78.0</td>\n",
       "    </tr>\n",
       "    <tr>\n",
       "      <th>5</th>\n",
       "      <td>최점심</td>\n",
       "      <td>여</td>\n",
       "      <td>164.0</td>\n",
       "      <td>58.0</td>\n",
       "    </tr>\n",
       "    <tr>\n",
       "      <th>16</th>\n",
       "      <td>조혜진</td>\n",
       "      <td>여</td>\n",
       "      <td>165.0</td>\n",
       "      <td>60.0</td>\n",
       "    </tr>\n",
       "    <tr>\n",
       "      <th>21</th>\n",
       "      <td>조현</td>\n",
       "      <td>여</td>\n",
       "      <td>168.0</td>\n",
       "      <td>62.0</td>\n",
       "    </tr>\n",
       "    <tr>\n",
       "      <th>14</th>\n",
       "      <td>이재은</td>\n",
       "      <td>여</td>\n",
       "      <td>160.0</td>\n",
       "      <td>66.0</td>\n",
       "    </tr>\n",
       "    <tr>\n",
       "      <th>6</th>\n",
       "      <td>양은희</td>\n",
       "      <td>여</td>\n",
       "      <td>160.0</td>\n",
       "      <td>50.0</td>\n",
       "    </tr>\n",
       "    <tr>\n",
       "      <th>18</th>\n",
       "      <td>양영걸</td>\n",
       "      <td>남</td>\n",
       "      <td>178.0</td>\n",
       "      <td>71.0</td>\n",
       "    </tr>\n",
       "    <tr>\n",
       "      <th>22</th>\n",
       "      <td>수지</td>\n",
       "      <td>여</td>\n",
       "      <td>168.0</td>\n",
       "      <td>61.0</td>\n",
       "    </tr>\n",
       "    <tr>\n",
       "      <th>2</th>\n",
       "      <td>박은미</td>\n",
       "      <td>여</td>\n",
       "      <td>164.0</td>\n",
       "      <td>64.0</td>\n",
       "    </tr>\n",
       "    <tr>\n",
       "      <th>3</th>\n",
       "      <td>박성희</td>\n",
       "      <td>여</td>\n",
       "      <td>164.0</td>\n",
       "      <td>64.0</td>\n",
       "    </tr>\n",
       "    <tr>\n",
       "      <th>20</th>\n",
       "      <td>낸시</td>\n",
       "      <td>여</td>\n",
       "      <td>163.0</td>\n",
       "      <td>56.0</td>\n",
       "    </tr>\n",
       "    <tr>\n",
       "      <th>10</th>\n",
       "      <td>김원경</td>\n",
       "      <td>여</td>\n",
       "      <td>162.0</td>\n",
       "      <td>58.0</td>\n",
       "    </tr>\n",
       "    <tr>\n",
       "      <th>0</th>\n",
       "      <td>김성필</td>\n",
       "      <td>남</td>\n",
       "      <td>176.5</td>\n",
       "      <td>71.5</td>\n",
       "    </tr>\n",
       "    <tr>\n",
       "      <th>13</th>\n",
       "      <td>김상유</td>\n",
       "      <td>남</td>\n",
       "      <td>180.0</td>\n",
       "      <td>89.0</td>\n",
       "    </tr>\n",
       "    <tr>\n",
       "      <th>1</th>\n",
       "      <td>김민재</td>\n",
       "      <td>남</td>\n",
       "      <td>180.0</td>\n",
       "      <td>78.0</td>\n",
       "    </tr>\n",
       "    <tr>\n",
       "      <th>15</th>\n",
       "      <td>강진숙</td>\n",
       "      <td>여</td>\n",
       "      <td>164.0</td>\n",
       "      <td>59.0</td>\n",
       "    </tr>\n",
       "  </tbody>\n",
       "</table>\n",
       "</div>"
      ],
      "text/plain": [
       "     이름 성별  키[cm]  몸무게[Kg]\n",
       "9   한주연  여  168.0     56.0\n",
       "17  최희열  남  177.0     78.0\n",
       "5   최점심  여  164.0     58.0\n",
       "16  조혜진  여  165.0     60.0\n",
       "21   조현  여  168.0     62.0\n",
       "14  이재은  여  160.0     66.0\n",
       "6   양은희  여  160.0     50.0\n",
       "18  양영걸  남  178.0     71.0\n",
       "22   수지  여  168.0     61.0\n",
       "2   박은미  여  164.0     64.0\n",
       "3   박성희  여  164.0     64.0\n",
       "20   낸시  여  163.0     56.0\n",
       "10  김원경  여  162.0     58.0\n",
       "0   김성필  남  176.5     71.5\n",
       "13  김상유  남  180.0     89.0\n",
       "1   김민재  남  180.0     78.0\n",
       "15  강진숙  여  164.0     59.0"
      ]
     },
     "execution_count": 67,
     "metadata": {},
     "output_type": "execute_result"
    }
   ],
   "source": [
    "a = df[(df[\"키[cm]\"]>=176) | (df[\"성별\"]==\"여\")]\n",
    "a.sort_values(by='이름', ascending = False)"
   ]
  },
  {
   "cell_type": "code",
   "execution_count": 71,
   "metadata": {},
   "outputs": [],
   "source": [
    "import matplotlib.pyplot as plt"
   ]
  },
  {
   "cell_type": "code",
   "execution_count": 73,
   "metadata": {},
   "outputs": [
    {
     "data": {
      "text/plain": [
       "<StemContainer object of 3 artists>"
      ]
     },
     "execution_count": 73,
     "metadata": {},
     "output_type": "execute_result"
    },
    {
     "data": {
      "image/png": "[encoded data removed]",
      "text/plain": [
       "<Figure size 432x288 with 1 Axes>"
      ]
     },
     "metadata": {
      "needs_background": "light"
     },
     "output_type": "display_data"
    }
   ],
   "source": [
    "plt.stem(df['키[cm]'])"
   ]
  },
  {
   "cell_type": "code",
   "execution_count": 81,
   "metadata": {},
   "outputs": [
    {
     "data": {
      "text/plain": [
       "'????'"
      ]
     },
     "execution_count": 81,
     "metadata": {},
     "output_type": "execute_result"
    }
   ],
   "source": [
    "import matplotlib.font_manager as fm\n",
    "fl = fm.FontProperties(fname=\"c:/Windows/Fonts/HMKMM.ttf\").get_name()\n",
    "fl"
   ]
  },
  {
   "cell_type": "code",
   "execution_count": 78,
   "metadata": {},
   "outputs": [],
   "source": [
    "plt.rc('font',family = fl)"
   ]
  },
  {
   "cell_type": "code",
   "execution_count": 84,
   "metadata": {},
   "outputs": [
    {
     "data": {
      "text/plain": [
       "<StemContainer object of 3 artists>"
      ]
     },
     "execution_count": 84,
     "metadata": {},
     "output_type": "execute_result"
    },
    {
     "data": {
      "image/png": "[encoded data removed]",
      "text/plain": [
       "<Figure size 432x288 with 1 Axes>"
      ]
     },
     "metadata": {
      "needs_background": "light"
     },
     "output_type": "display_data"
    }
   ],
   "source": [
    "plt.stem(df['이름'][0:10], df['키[cm]'][0:10])"
   ]
  },
  {
   "cell_type": "code",
   "execution_count": 94,
   "metadata": {},
   "outputs": [
    {
     "data": {
      "text/plain": [
       "<StemContainer object of 3 artists>"
      ]
     },
     "execution_count": 94,
     "metadata": {},
     "output_type": "execute_result"
    },
    {
     "data": {
      "image/png": "[encoded data removed]",
      "text/plain": [
       "<Figure size 720x720 with 1 Axes>"
      ]
     },
     "metadata": {
      "needs_background": "light"
     },
     "output_type": "display_data"
    }
   ],
   "source": [
    "plt.figure(figsize=(10,10))\n",
    "\n",
    "font_dic={\"family\": fl, \"size\": 10}\n",
    "plt.rc(\"font\", **font_dic)\n",
    "\n",
    "plt.stem(df['이름'], df['키[cm]'])"
   ]
  },
  {
   "cell_type": "code",
   "execution_count": null,
   "metadata": {},
   "outputs": [],
   "source": []
  }
 ],
 "metadata": {
  "kernelspec": {
   "display_name": "Python 3",
   "language": "python",
   "name": "python3"
  },
  "language_info": {
   "codemirror_mode": {
    "name": "ipython",
    "version": 3
   },
   "file_extension": ".py",
   "mimetype": "text/x-python",
   "name": "python",
   "nbconvert_exporter": "python",
   "pygments_lexer": "ipython3",
   "version": "3.7.3"
  }
 },
 "nbformat": 4,
 "nbformat_minor": 2
}
