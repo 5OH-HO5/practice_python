{
 "cells": [
  {
   "cell_type": "code",
   "execution_count": 1,
   "metadata": {},
   "outputs": [],
   "source": [
    "from selenium import webdriver as wd"
   ]
  },
  {
   "cell_type": "code",
   "execution_count": 2,
   "metadata": {},
   "outputs": [],
   "source": [
    "import cx_Oracle\n",
    "import os  # 컴퓨터 운영체제 자체의 설정\n",
    "os.putenv('NLS_LANG', '.UTF8')\n",
    "connection = cx_Oracle.connect('hr','1234','localhost/xe')\n",
    "cursor = connection.cursor()"
   ]
  },
  {
   "cell_type": "code",
   "execution_count": 3,
   "metadata": {},
   "outputs": [],
   "source": [
    "url=\"http://tour.interpark.com\""
   ]
  },
  {
   "cell_type": "code",
   "execution_count": 4,
   "metadata": {},
   "outputs": [],
   "source": [
    "driver=wd.Chrome(executable_path=\"chromedriver.exe\")"
   ]
  },
  {
   "cell_type": "code",
   "execution_count": 5,
   "metadata": {},
   "outputs": [],
   "source": [
    "driver.implicitly_wait(10)"
   ]
  },
  {
   "cell_type": "code",
   "execution_count": 6,
   "metadata": {},
   "outputs": [],
   "source": [
    "driver.get(url)"
   ]
  },
  {
   "cell_type": "code",
   "execution_count": 7,
   "metadata": {},
   "outputs": [],
   "source": [
    "searchbar=driver.find_element_by_id(\"SearchGNBText\")"
   ]
  },
  {
   "cell_type": "code",
   "execution_count": 8,
   "metadata": {},
   "outputs": [],
   "source": [
    "searchbar.send_keys(\"상하이\")"
   ]
  },
  {
   "cell_type": "code",
   "execution_count": 9,
   "metadata": {},
   "outputs": [
    {
     "data": {
      "text/plain": [
       "<selenium.webdriver.remote.webelement.WebElement (session=\"009c32e2331bb753f52e92881748befb\", element=\"0.07035821216872318-2\")>"
      ]
     },
     "execution_count": 9,
     "metadata": {},
     "output_type": "execute_result"
    }
   ],
   "source": [
    "driver.find_element_by_class_name(\"search-btn\")"
   ]
  },
  {
   "cell_type": "code",
   "execution_count": 10,
   "metadata": {},
   "outputs": [],
   "source": [
    "driver.find_element_by_class_name(\"search-btn\").click()"
   ]
  },
  {
   "cell_type": "code",
   "execution_count": 11,
   "metadata": {},
   "outputs": [],
   "source": [
    "driver.find_element_by_id(\"li_R\").click()"
   ]
  },
  {
   "cell_type": "code",
   "execution_count": 12,
   "metadata": {},
   "outputs": [
    {
     "name": "stdout",
     "output_type": "stream",
     "text": [
      "insert_sql insert into tourinfo (num, title, price) values(num_seq.nextval, '[NS홈쇼핑★상해4일] 언제나 가고싶은 상해/항주/주가각 4일',299000 )\n",
      "insert_sql insert into tourinfo (num, title, price) values(num_seq.nextval, '[상해4일] 여유만만 상해타파/디즈니랜드 1일(자유이용권 포함)',399200 )\n",
      "insert_sql insert into tourinfo (num, title, price) values(num_seq.nextval, '[1+1★한정특가 상해4일] 상해/항주/주가각 4일',349000 )\n",
      "insert_sql insert into tourinfo (num, title, price) values(num_seq.nextval, '[부산출발_상해 4일]NS홈쇼핑★항주+주가각 관광 포함_아시아나항공',299000 )\n",
      "insert_sql insert into tourinfo (num, title, price) values(num_seq.nextval, '[부산출발_상해 4일] 아시아나연합 ! 느낌있게 上하이!! 항주+주가각 관광 포함',353000 )\n",
      "insert_sql insert into tourinfo (num, title, price) values(num_seq.nextval, '[부산출발_상해 4일] ♥디즈니랜드 1일 자유♥ 여유로운 상해+까르푸+스타벅스 자유시간포함',549000 )\n",
      "insert_sql insert into tourinfo (num, title, price) values(num_seq.nextval, '[상해4일] 불만제로-다포함/노팁/노옵션/노쇼핑-상해+항주+소주_VIP리무진',686000 )\n",
      "insert_sql insert into tourinfo (num, title, price) values(num_seq.nextval, '[아동반값♥디즈니랜드]◆준5성/3연박◆상해/주가각 4일',419000 )\n",
      "insert_sql insert into tourinfo (num, title, price) values(num_seq.nextval, '[상해4일] 상해초보자-상해/항주/주가각 4일',236000 )\n",
      "insert_sql insert into tourinfo (num, title, price) values(num_seq.nextval, '[부산출발_상해 4일] 가성비최고 항주+주가각 관광 포함_상해항공',229000 )\n",
      "insert_sql insert into tourinfo (num, title, price) values(num_seq.nextval, '[상해에어텔_단체비자비 포함]★갓/성/비★매그니피션트 호텔(준4성) 4일',394200 )\n",
      "insert_sql insert into tourinfo (num, title, price) values(num_seq.nextval, '[상해4일] 정성가득★노팁풀옵션/상해/항주/주가각+송성가무쇼',451200 )\n",
      "insert_sql insert into tourinfo (num, title, price) values(num_seq.nextval, '★준5성호텔 1박★ [가성비최고] 상해/주가각/항주 4일',293000 )\n",
      "insert_sql insert into tourinfo (num, title, price) values(num_seq.nextval, '[상해♥하루자유일정]★준5성/3연박★상해/주가각 4일',299000 )\n",
      "insert_sql insert into tourinfo (num, title, price) values(num_seq.nextval, '천하제일 ★황산+쉐라톤1박★ 태평+운곡 황산/항주/상해 4일',369000 )\n",
      "insert_sql insert into tourinfo (num, title, price) values(num_seq.nextval, '[월드체인★쉐라톤3박] 상해/항주+주가각 4일',309600 )\n",
      "insert_sql insert into tourinfo (num, title, price) values(num_seq.nextval, '[부산출발_장가계 직항 4/5일] 오후출발! 품격 it gets! 원가계+천문산_상해항공',749000 )\n",
      "insert_sql insert into tourinfo (num, title, price) values(num_seq.nextval, '[부산출발_장가계 직항 4/5일] 오후출발! 정통 it gets! 원가계+천문산_상해항공',399000 )\n",
      "insert_sql insert into tourinfo (num, title, price) values(num_seq.nextval, '[부산출발_장가계 5일] 정통같은실속!! 효도관광 1등 상품!! 상해+장가계 _중국동방항공',799000 )\n",
      "insert_sql insert into tourinfo (num, title, price) values(num_seq.nextval, '[국제여행바우처프로그램] 상해 3박4일',850000 )\n",
      "insert_sql insert into tourinfo (num, title, price) values(num_seq.nextval, '[연합★장(원)가계 5일] 두 지역을 한번에! 상해/장가계+원가계 5일_동방항공',599000 )\n",
      "insert_sql insert into tourinfo (num, title, price) values(num_seq.nextval, '<아동반값♥디즈니랜드>상해/주가각 4일-MINI머리띠증정',399000 )\n",
      "insert_sql insert into tourinfo (num, title, price) values(num_seq.nextval, '[비자FREE찬스]<슬림특가>상해 항주 난쉰 4일',199000 )\n",
      "insert_sql insert into tourinfo (num, title, price) values(num_seq.nextval, '[상해에어텔_단체비자비 포함]★디즈니랜드 자유이용권★라마다이스트 [복층룸] 호텔(준5성) 2박3일',499000 )\n",
      "insert_sql insert into tourinfo (num, title, price) values(num_seq.nextval, '[상해에어텔_단체비자비 포함][남경동로] 진장 메트로폴로 호텔 클래식 난징로드 이스트(준5성) 2박3일',489000 )\n",
      "insert_sql insert into tourinfo (num, title, price) values(num_seq.nextval, '[상해에어텔_단체비자비 포함][상해에어텔][외탄♥동방명주 도보5분] 오리엔탈 리버사이드 호텔(정5성) 2박3일',549000 )\n",
      "insert_sql insert into tourinfo (num, title, price) values(num_seq.nextval, '[상해에어텔_단체비자비 포함][신천지/화이하이루]★갓/성/비★매그니피션트 호텔(준4성) 2박3일',399000 )\n",
      "insert_sql insert into tourinfo (num, title, price) values(num_seq.nextval, '[상해에어텔_단체비자비 포함][외탄위치/외탄뷰룸] 레 스위트 오리엔트 번드 상하이 호텔(준5성) 2박3일',629000 )\n",
      "insert_sql insert into tourinfo (num, title, price) values(num_seq.nextval, '[상해에어텔_단체비자비 포함][상해기차역/푸토] 홀리데이인 익스프레스 상하이 푸토 호텔(준4성) 2박3일',399000 )\n",
      "insert_sql insert into tourinfo (num, title, price) values(num_seq.nextval, '[상해에어텔_단체비자비 포함][남경동로] 그랜드센트럴 호텔(정5성) 2박3일',589000 )\n"
     ]
    }
   ],
   "source": [
    "import time\n",
    "import re\n",
    "\n",
    "isScore=re.compile(\"평점\")\n",
    "isComment=re.compile(\"상품평\")\n",
    "\n",
    "tac=int(driver.find_element_by_id(\"totalAllCnt\").text)\n",
    "count=0\n",
    "if tac%10 == 0:\n",
    "    count=tac//10\n",
    "else:\n",
    "    count=(tac//10)+1\n",
    "    \n",
    "# myList=[]\n",
    "for page in range(1,count+1):\n",
    "    driver.execute_script(\"searchModule.SetCategoryList({},'')\".format(page))\n",
    "    time.sleep(2)\n",
    "    boxitems=driver.find_elements_by_css_selector(\".panelZone>.oTravelBox>.boxList>li\")\n",
    "    for li in boxitems:\n",
    "        # 교안 p.378 참조\n",
    "        # 여행제목\n",
    "        title = li.find_element_by_css_selector('h5.proTit').text\n",
    "        # 여행 가격\n",
    "        price = li.find_element_by_css_selector('.proPrice').text\n",
    "        # 가격의 ,와 원~ 삭제\n",
    "        price = price.replace(\",\",\"\").replace(\" 원~\",\"\")\n",
    "        # insert 쿼리 생성\n",
    "        insert_sql = \"insert into tourinfo (num, title, price) values(num_seq.nextval, '{}',{})\".format(title, price)\n",
    "        print(\"insert_sql\", insert_sql)\n",
    "        # insert 쿼리 실행\n",
    "        cursor.execute(insert_sql)\n",
    "        # 커밋\n",
    "        connection.commit()"
   ]
  },
  {
   "cell_type": "code",
   "execution_count": 14,
   "metadata": {},
   "outputs": [],
   "source": [
    "connection.close()"
   ]
  }
 ],
 "metadata": {
  "kernelspec": {
   "display_name": "Python 3",
   "language": "python",
   "name": "python3"
  },
  "language_info": {
   "codemirror_mode": {
    "name": "ipython",
    "version": 3
   },
   "file_extension": ".py",
   "mimetype": "text/x-python",
   "name": "python",
   "nbconvert_exporter": "python",
   "pygments_lexer": "ipython3",
   "version": "3.7.3"
  }
 },
 "nbformat": 4,
 "nbformat_minor": 2
}
