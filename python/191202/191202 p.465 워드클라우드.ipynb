{
 "cells": [
  {
   "cell_type": "code",
   "execution_count": 1,
   "metadata": {},
   "outputs": [
    {
     "ename": "ModuleNotFoundError",
     "evalue": "No module named 'cx_Oracle'",
     "output_type": "error",
     "traceback": [
      "\u001b[1;31m---------------------------------------------------------------------------\u001b[0m",
      "\u001b[1;31mModuleNotFoundError\u001b[0m                       Traceback (most recent call last)",
      "\u001b[1;32m<ipython-input-1-ff1521013889>\u001b[0m in \u001b[0;36m<module>\u001b[1;34m\u001b[0m\n\u001b[1;32m----> 1\u001b[1;33m \u001b[1;32mimport\u001b[0m \u001b[0mcx_Oracle\u001b[0m\u001b[1;33m\u001b[0m\u001b[1;33m\u001b[0m\u001b[0m\n\u001b[0m",
      "\u001b[1;31mModuleNotFoundError\u001b[0m: No module named 'cx_Oracle'"
     ]
    }
   ],
   "source": [
    "import cx_Oracle"
   ]
  },
  {
   "cell_type": "code",
   "execution_count": null,
   "metadata": {},
   "outputs": [],
   "source": [
    "import os\n",
    "os.putenv('NLS_LANG','.UTF8')\n",
    "\n",
    "connection = cx_Oracle.connect('hr','1234','localhost/xe')\n",
    "cursor = connection.cursor()"
   ]
  },
  {
   "cell_type": "code",
   "execution_count": null,
   "metadata": {},
   "outputs": [],
   "source": [
    "import requests\n",
    "\n",
    "# API 인증 정보\n",
    "client_id = \"htGbu9KOTEU69iArqr2A\"\n",
    "client_secret = \"kUr1gumsmm\"\n",
    "\n",
    "# header에 추가될 내용\n",
    "headers = {'X-Naver-Client-Id':client_id, 'X-Naver-Client-Secret':client_secret}"
   ]
  },
  {
   "cell_type": "code",
   "execution_count": null,
   "metadata": {},
   "outputs": [],
   "source": [
    "url1 = \"https://openapi.naver.com/v1/search/blog?query=강남역\""
   ]
  },
  {
   "cell_type": "code",
   "execution_count": null,
   "metadata": {},
   "outputs": [],
   "source": [
    "# url 주소에 header를 포함한 GET 요청을 보냄\n",
    "result = requests.get(url1, headers=headers)"
   ]
  },
  {
   "cell_type": "code",
   "execution_count": null,
   "metadata": {},
   "outputs": [],
   "source": [
    "# 검색결과 information 변수에 넣기\n",
    "information = result.json()"
   ]
  },
  {
   "cell_type": "code",
   "execution_count": null,
   "metadata": {},
   "outputs": [],
   "source": [
    "total = information[\"total\"]\n",
    "print(\"총 검색 결과: \", total)"
   ]
  },
  {
   "cell_type": "code",
   "execution_count": null,
   "metadata": {},
   "outputs": [],
   "source": [
    "total_page = 0\n",
    "if total % 20 == 0:\n",
    "    total_page = total // 20\n",
    "else:\n",
    "    total_page = total // 20+1"
   ]
  },
  {
   "cell_type": "code",
   "execution_count": null,
   "metadata": {},
   "outputs": [],
   "source": [
    "print(\"전체 페이지: \", total_page)"
   ]
  },
  {
   "cell_type": "code",
   "execution_count": null,
   "metadata": {},
   "outputs": [],
   "source": [
    "def get_api_result(keyword, display, start):\n",
    "    url = \"https://openapi.naver.com/v1/search/blog?query=\" + keyword + \"&display=\" + str(display) + \"&start=\" + str(start)\n",
    "    print(\"url\", url)\n",
    "    result = requests.get(url,headers=headers)\n",
    "    return result.json()"
   ]
  },
  {
   "cell_type": "code",
   "execution_count": null,
   "metadata": {},
   "outputs": [],
   "source": [
    "get_api_result(\"강남역\",20,21)"
   ]
  },
  {
   "cell_type": "code",
   "execution_count": null,
   "metadata": {},
   "outputs": [],
   "source": [
    "get_api_result(\"강남역\",20,41)"
   ]
  },
  {
   "cell_type": "code",
   "execution_count": null,
   "metadata": {},
   "outputs": [],
   "source": [
    "def call_and_print(keyword, page):\n",
    "    json_object = get_api_result(keyword, 20, (page-1)*20+1)\n",
    "    for item in json_object[\"items\"]:\n",
    "        # <title 다음 '<b>' 지워줌>\n",
    "        title = item['title'].replace(\"<b>\",\"\").replace(\"'\", \"&quot;\")\n",
    "        description = item['description'].replace(\"<b>\",\"\").replace(\"</b>\",\"\").replace(\"'\",\"&quot;\")\n",
    "        bloggername = item['bloggername'].replace(\"'\", \"&quot;\").replace(\"</b>\",\"\")\n",
    "        link = item['link']\n",
    "        print('title:',title, ':description:',description,\":bloggername:\",bloggername,\":link:\",link)\n",
    "        # insert_sql 쿼리 생성\n",
    "        insert_sql = \"insert into blog_info values(blog_sql.nextval,'{}','{}','{}','{}')\".format(title, description, bloggername, link)\n",
    "        print(\"insert_sql\", insert_sql)\n",
    "        # insert 쿼리 실행\n",
    "        cursor.execute(insert_sql)\n",
    "        # 커밋\n",
    "        connection.commit()"
   ]
  },
  {
   "cell_type": "code",
   "execution_count": null,
   "metadata": {},
   "outputs": [],
   "source": [
    "import time"
   ]
  },
  {
   "cell_type": "code",
   "execution_count": null,
   "metadata": {},
   "outputs": [],
   "source": [
    "keyword = \"강남역\"\n",
    "\n",
    "for page in range(1, 1000):\n",
    "    print(page, 'page')\n",
    "    call_and_print(keyword, page)\n",
    "    time.sleep(0.5)"
   ]
  },
  {
   "cell_type": "code",
   "execution_count": null,
   "metadata": {},
   "outputs": [],
   "source": [
    "import cx_Oracle\n",
    "\n",
    "import os\n",
    "os.putenv('NLS_LANG', '.UTF8')\n",
    "\n",
    "connection = cx_Oracle.connect('hr','1234','localhost/xe')\n",
    "cursor = connection.cursor()"
   ]
  },
  {
   "cell_type": "code",
   "execution_count": null,
   "metadata": {},
   "outputs": [],
   "source": [
    "import pandas as pd"
   ]
  },
  {
   "cell_type": "code",
   "execution_count": null,
   "metadata": {},
   "outputs": [],
   "source": [
    "blog_df = pd.read_sql(\"select * from blog_info\",connection)"
   ]
  },
  {
   "cell_type": "code",
   "execution_count": null,
   "metadata": {},
   "outputs": [],
   "source": [
    "blog_df.head()"
   ]
  },
  {
   "cell_type": "code",
   "execution_count": null,
   "metadata": {},
   "outputs": [],
   "source": [
    "import matplotlib.pyplot as plt\n",
    "\n",
    "% matplotlib inline\n",
    "\n",
    "from matplotlib import font_manager, rc\n",
    "font_name = font_manager.FontProperties(fname = \"c:/Windows/Fonts/malgun.ttf\").get_name()\n",
    "rc('font', family = font_name)"
   ]
  },
  {
   "cell_type": "code",
   "execution_count": 2,
   "metadata": {},
   "outputs": [
    {
     "ename": "NameError",
     "evalue": "name 'blog_df' is not defined",
     "output_type": "error",
     "traceback": [
      "\u001b[1;31m---------------------------------------------------------------------------\u001b[0m",
      "\u001b[1;31mNameError\u001b[0m                                 Traceback (most recent call last)",
      "\u001b[1;32m<ipython-input-2-00e789c22e1a>\u001b[0m in \u001b[0;36m<module>\u001b[1;34m\u001b[0m\n\u001b[0;32m      5\u001b[0m \u001b[0mpattern\u001b[0m \u001b[1;33m=\u001b[0m \u001b[1;34m\"[^\\w\\s]\"\u001b[0m\u001b[1;33m\u001b[0m\u001b[1;33m\u001b[0m\u001b[0m\n\u001b[0;32m      6\u001b[0m \u001b[1;31m# re.sub(pattern, repl: 패턴이 아닐 시 바꿀 값, 원본)\u001b[0m\u001b[1;33m\u001b[0m\u001b[1;33m\u001b[0m\u001b[1;33m\u001b[0m\u001b[0m\n\u001b[1;32m----> 7\u001b[1;33m \u001b[0mblog_text\u001b[0m \u001b[1;33m=\u001b[0m \u001b[1;33m[\u001b[0m\u001b[0mre\u001b[0m\u001b[1;33m.\u001b[0m\u001b[0msub\u001b[0m\u001b[1;33m(\u001b[0m\u001b[0mpattern\u001b[0m \u001b[1;33m=\u001b[0m \u001b[0mpattern\u001b[0m\u001b[1;33m,\u001b[0m \u001b[0mrepl\u001b[0m\u001b[1;33m=\u001b[0m \u001b[1;34m\"\"\u001b[0m\u001b[1;33m,\u001b[0m \u001b[0mstring\u001b[0m \u001b[1;33m=\u001b[0m \u001b[0mtext\u001b[0m\u001b[1;33m)\u001b[0m\u001b[1;33m.\u001b[0m\u001b[0mreplace\u001b[0m\u001b[1;33m(\u001b[0m\u001b[1;34m\"강남\"\u001b[0m\u001b[1;33m,\u001b[0m\u001b[1;34m\"\"\u001b[0m\u001b[1;33m)\u001b[0m\u001b[1;33m.\u001b[0m\u001b[0mreplace\u001b[0m\u001b[1;33m(\u001b[0m\u001b[1;34m\"역\"\u001b[0m\u001b[1;33m,\u001b[0m\u001b[1;34m\"\"\u001b[0m\u001b[1;33m)\u001b[0m \u001b[1;32mfor\u001b[0m \u001b[0mtext\u001b[0m \u001b[1;32min\u001b[0m \u001b[0mblog_df\u001b[0m\u001b[1;33m[\u001b[0m\u001b[1;34m\"DESCRIPTION\"\u001b[0m\u001b[1;33m]\u001b[0m\u001b[1;33m]\u001b[0m\u001b[1;33m\u001b[0m\u001b[1;33m\u001b[0m\u001b[0m\n\u001b[0m\u001b[0;32m      8\u001b[0m \u001b[0mblog_text\u001b[0m\u001b[1;33m\u001b[0m\u001b[1;33m\u001b[0m\u001b[0m\n",
      "\u001b[1;31mNameError\u001b[0m: name 'blog_df' is not defined"
     ]
    }
   ],
   "source": [
    "import re\n",
    "# ^ 패턴에 맞는 문자만 리턴\n",
    "# \\w : 숫자, 영어, 한글\n",
    "# \\s : 공백\n",
    "pattern = \"[^\\w\\s]\"\n",
    "# re.sub(pattern, repl: 패턴이 아닐 시 바꿀 값, 원본)\n",
    "blog_text = [re.sub(pattern = pattern, repl= \"\", string = text).replace(\"강남\",\"\").replace(\"역\",\"\") for text in blog_df[\"DESCRIPTION\"]]\n",
    "blog_text"
   ]
  },
  {
   "cell_type": "code",
   "execution_count": null,
   "metadata": {},
   "outputs": [],
   "source": [
    "!pip install konlpy"
   ]
  },
  {
   "cell_type": "code",
   "execution_count": null,
   "metadata": {},
   "outputs": [],
   "source": [
    "# 단어와 단어끼리 분리\n",
    "import nltk\n",
    "from konlpy.tag import Twitter\n",
    "twitter = Twitter()\n",
    "\n",
    "tag_list = []\n",
    "for text in blog_text:\n",
    "    tagged = twitter.pos(text, stem = True)\n",
    "    print(\"tagged:\", tagged)\n",
    "    for tag in tagged:\n",
    "        print(\"tag:\",tag[0])\n",
    "        print(\"tag:\",tag[1])\n",
    "        if(tag[1] == \"Noun\")|(tag[1] == \"Adjective\"):\n",
    "            tag_list.append(tag[0])\n",
    "            \n",
    "    print(\"=\"*100)"
   ]
  },
  {
   "cell_type": "code",
   "execution_count": null,
   "metadata": {},
   "outputs": [],
   "source": []
  }
 ],
 "metadata": {
  "kernelspec": {
   "display_name": "Python 3",
   "language": "python",
   "name": "python3"
  },
  "language_info": {
   "codemirror_mode": {
    "name": "ipython",
    "version": 3
   },
   "file_extension": ".py",
   "mimetype": "text/x-python",
   "name": "python",
   "nbconvert_exporter": "python",
   "pygments_lexer": "ipython3",
   "version": "3.7.3"
  }
 },
 "nbformat": 4,
 "nbformat_minor": 2
}
