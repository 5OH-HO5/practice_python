{
 "cells": [
  {
   "cell_type": "code",
   "execution_count": 1,
   "metadata": {},
   "outputs": [],
   "source": [
    "from bs4 import BeautifulSoup\n",
    "import requests\n",
    "\n",
    "url = \"http://www.weather.go.kr/weather/observation/currentweather.jsp\"\n",
    "res = requests.get(url)\n",
    "res.text\n",
    "soup = BeautifulSoup(res.text, \"html.parser\")"
   ]
  },
  {
   "cell_type": "code",
   "execution_count": 2,
   "metadata": {},
   "outputs": [],
   "source": [
    "table = soup.find(\"table\", {\"class\" : \"table_develop3\"})\n",
    "data = []\n",
    "data.append([\"지점\" , \"현재기온\" , \"체감온도\" , \"습도\" , \"풍향\"])\n",
    "for tr in table.find_all('tr'):\n",
    "    tds = list(tr.find_all('td'))\n",
    "    for td in tds:\n",
    "        if(td.find('a')):\n",
    "            point = td.find('a').string\n",
    "            temperature = tds[5].string\n",
    "            feelingtemperature = tds[7].string\n",
    "            humidity = tds[10].string\n",
    "            winddirection = tds[11].string\n",
    "\n",
    "            data.append([point, temperature, feelingtemperature, humidity, winddirection])"
   ]
  },
  {
   "cell_type": "code",
   "execution_count": 3,
   "metadata": {},
   "outputs": [],
   "source": [
    "with open(\"weather.csv\", 'w') as flie:\n",
    "    for i in data:\n",
    "        flie.write(\"{0} , {1} , {2} , {3} , {4}\\n\".format(i[0] , i[1] , i[2] , i[3] , i[4]))"
   ]
  }
 ],
 "metadata": {
  "kernelspec": {
   "display_name": "Python 3",
   "language": "python",
   "name": "python3"
  },
  "language_info": {
   "codemirror_mode": {
    "name": "ipython",
    "version": 3
   },
   "file_extension": ".py",
   "mimetype": "text/x-python",
   "name": "python",
   "nbconvert_exporter": "python",
   "pygments_lexer": "ipython3",
   "version": "3.7.3"
  }
 },
 "nbformat": 4,
 "nbformat_minor": 2
}
