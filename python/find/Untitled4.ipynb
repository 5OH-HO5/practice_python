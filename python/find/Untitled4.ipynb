{
 "cells": [
  {
   "cell_type": "code",
   "execution_count": null,
   "metadata": {},
   "outputs": [],
   "source": [
    "data = []\n",
    "for data1 in table.find_all('tr'):\n",
    "    #print('data1',data1)\n",
    "    tds = data1.find_all('td')\n",
    "    #print('tds',tds)\n",
    "    for td in tds:\n",
    "        #print(\"td\",td)\n",
    "        if td.find('a'):\n",
    "            #print(\"td.find('a'):\", td.find('a'))\n",
    "            print(\"td.find('a').text:\", td.find('a').text)\n",
    "            print('tds[5].text:',tds[5].text)\n",
    "            point = td.find('a').text\n",
    "            temperature = tds[5].text\n",
    "            humidity= tds[10].text\n",
    "            data.append([point,temperature,humidity])\n",
    "            #print('tds[10].text:',tds[10].text)\n",
    "    #print('-'*100)"
   ]
  }
 ],
 "metadata": {
  "kernelspec": {
   "display_name": "Python 3",
   "language": "python",
   "name": "python3"
  },
  "language_info": {
   "codemirror_mode": {
    "name": "ipython",
    "version": 3
   },
   "file_extension": ".py",
   "mimetype": "text/x-python",
   "name": "python",
   "nbconvert_exporter": "python",
   "pygments_lexer": "ipython3",
   "version": "3.7.3"
  }
 },
 "nbformat": 4,
 "nbformat_minor": 2
}
