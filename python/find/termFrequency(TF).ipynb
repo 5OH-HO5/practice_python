{
 "cells": [
  {
   "cell_type": "code",
   "execution_count": 7,
   "metadata": {},
   "outputs": [],
   "source": [
    "word_list=[\n",
    "    \"남자 남자 남자 밥을 먹는다\",\n",
    "    \"남자 남자 걷는다\",\n",
    "    \"남자 남자 남자\",\n",
    "    \"남자 남자 남자 남자\",\n",
    "    \"남자 남자 남자 여자 여자\",\n",
    "    \"남자 남자 남자 밥 밥 먹는다\"\n",
    "]"
   ]
  },
  {
   "cell_type": "code",
   "execution_count": 8,
   "metadata": {},
   "outputs": [],
   "source": [
    "n = 6 # 전체 문장의 수"
   ]
  },
  {
   "cell_type": "code",
   "execution_count": 72,
   "metadata": {},
   "outputs": [],
   "source": [
    "import math\n",
    "import pandas as pd"
   ]
  },
  {
   "cell_type": "code",
   "execution_count": 17,
   "metadata": {},
   "outputs": [
    {
     "data": {
      "text/plain": [
       "1.0"
      ]
     },
     "execution_count": 17,
     "metadata": {},
     "output_type": "execute_result"
    }
   ],
   "source": [
    "#남자 IDF\n",
    "idf1 = math.log((1+n)/(1+6))+1\n",
    "idf1"
   ]
  },
  {
   "cell_type": "code",
   "execution_count": 16,
   "metadata": {},
   "outputs": [
    {
     "data": {
      "text/plain": [
       "2.252762968495368"
      ]
     },
     "execution_count": 16,
     "metadata": {},
     "output_type": "execute_result"
    }
   ],
   "source": [
    "#여자 IDF\n",
    "idf2 = math.log((1+n)/(1+1))+1\n",
    "idf2"
   ]
  },
  {
   "cell_type": "code",
   "execution_count": 19,
   "metadata": {},
   "outputs": [
    {
     "data": {
      "text/plain": [
       "1.8472978603872037"
      ]
     },
     "execution_count": 19,
     "metadata": {},
     "output_type": "execute_result"
    }
   ],
   "source": [
    "#밥 IDF\n",
    "idf3 = math.log((1+n)/(1+2))+1\n",
    "idf3"
   ]
  },
  {
   "cell_type": "code",
   "execution_count": 20,
   "metadata": {},
   "outputs": [
    {
     "data": {
      "text/plain": [
       "'남자 남자 남자 밥을 먹는다'"
      ]
     },
     "execution_count": 20,
     "metadata": {},
     "output_type": "execute_result"
    }
   ],
   "source": [
    "word_list[0]"
   ]
  },
  {
   "cell_type": "code",
   "execution_count": 22,
   "metadata": {},
   "outputs": [
    {
     "data": {
      "text/plain": [
       "3.0"
      ]
     },
     "execution_count": 22,
     "metadata": {},
     "output_type": "execute_result"
    }
   ],
   "source": [
    "# 첫번째 문장에서 남자 // TF-IDF 구하기 숫자값 TF*IDF\n",
    "# log(1) = 0\n",
    "tfidf11= 3*idf1\n",
    "tfidf11"
   ]
  },
  {
   "cell_type": "code",
   "execution_count": 26,
   "metadata": {},
   "outputs": [
    {
     "data": {
      "text/plain": [
       "1.8473"
      ]
     },
     "execution_count": 26,
     "metadata": {},
     "output_type": "execute_result"
    }
   ],
   "source": [
    "# 첫번째 문장에서 밥 숫자값 -> TF*IDF\n",
    "tfidf13 = 1*idf3\n",
    "round(tfidf13,4)"
   ]
  },
  {
   "cell_type": "code",
   "execution_count": 37,
   "metadata": {},
   "outputs": [],
   "source": [
    "import numpy as np"
   ]
  },
  {
   "cell_type": "code",
   "execution_count": 38,
   "metadata": {},
   "outputs": [
    {
     "data": {
      "text/plain": [
       "array([0.85151308, 0.        , 0.52433337])"
      ]
     },
     "execution_count": 38,
     "metadata": {},
     "output_type": "execute_result"
    }
   ],
   "source": [
    "np.array([3, 0, 1.8473])/np.sqrt(3*3 + 1.8473*1.8473)"
   ]
  },
  {
   "cell_type": "code",
   "execution_count": 27,
   "metadata": {},
   "outputs": [
    {
     "data": {
      "text/plain": [
       "'남자 남자 남자 여자 여자'"
      ]
     },
     "execution_count": 27,
     "metadata": {},
     "output_type": "execute_result"
    }
   ],
   "source": [
    "word_list[4]\n",
    "# 남자 여자 normailize"
   ]
  },
  {
   "cell_type": "code",
   "execution_count": 45,
   "metadata": {},
   "outputs": [
    {
     "name": "stdout",
     "output_type": "stream",
     "text": [
      "[0.55427376 0.83233443 0.        ]\n"
     ]
    }
   ],
   "source": [
    "print(\n",
    "    np.array([3, 4.505, 0])/np.sqrt(math.pow(3,2) + math.pow(4.505, 2))\n",
    ")"
   ]
  },
  {
   "cell_type": "code",
   "execution_count": 30,
   "metadata": {},
   "outputs": [
    {
     "data": {
      "text/plain": [
       "3.0"
      ]
     },
     "execution_count": 30,
     "metadata": {},
     "output_type": "execute_result"
    }
   ],
   "source": [
    "tfidf21 = 3*idf1\n",
    "tfidf21"
   ]
  },
  {
   "cell_type": "code",
   "execution_count": 35,
   "metadata": {},
   "outputs": [
    {
     "data": {
      "text/plain": [
       "4.505525936990736"
      ]
     },
     "execution_count": 35,
     "metadata": {},
     "output_type": "execute_result"
    }
   ],
   "source": [
    "tfidf22 = 2*idf2\n",
    "tfidf22"
   ]
  },
  {
   "cell_type": "code",
   "execution_count": 32,
   "metadata": {},
   "outputs": [
    {
     "data": {
      "text/plain": [
       "'남자 남자 남자 밥 밥 먹는다'"
      ]
     },
     "execution_count": 32,
     "metadata": {},
     "output_type": "execute_result"
    }
   ],
   "source": [
    "#TFIDF\n",
    "#여자 TFIDF 0\n",
    "#남자 TFIDF\n",
    "#밥 TFIDF\n",
    "word_list[5]\n",
    "# 남자 밥 normailize"
   ]
  },
  {
   "cell_type": "code",
   "execution_count": 46,
   "metadata": {},
   "outputs": [
    {
     "name": "stdout",
     "output_type": "stream",
     "text": [
      "[0.63041856 0.         0.77625539]\n"
     ]
    }
   ],
   "source": [
    "print(\n",
    "    np.array([3, 0, 3.694])/np.sqrt(math.pow(3,2) + math.pow(3.694, 2))\n",
    ")"
   ]
  },
  {
   "cell_type": "code",
   "execution_count": 33,
   "metadata": {},
   "outputs": [
    {
     "data": {
      "text/plain": [
       "3.0"
      ]
     },
     "execution_count": 33,
     "metadata": {},
     "output_type": "execute_result"
    }
   ],
   "source": [
    "tfidf31 = 3*idf1\n",
    "tfidf31"
   ]
  },
  {
   "cell_type": "code",
   "execution_count": 34,
   "metadata": {},
   "outputs": [
    {
     "data": {
      "text/plain": [
       "3.6945957207744073"
      ]
     },
     "execution_count": 34,
     "metadata": {},
     "output_type": "execute_result"
    }
   ],
   "source": [
    "tfidf32 = 2*idf3\n",
    "tfidf32"
   ]
  },
  {
   "cell_type": "code",
   "execution_count": 41,
   "metadata": {},
   "outputs": [
    {
     "name": "stdout",
     "output_type": "stream",
     "text": [
      "Help on built-in function pow in module builtins:\n",
      "\n",
      "pow(x, y, z=None, /)\n",
      "    Equivalent to x**y (with two arguments) or x**y % z (with three arguments)\n",
      "    \n",
      "    Some types, such as ints, are able to use a more efficient algorithm when\n",
      "    invoked using the three argument form.\n",
      "\n"
     ]
    }
   ],
   "source": []
  },
  {
   "cell_type": "code",
   "execution_count": 42,
   "metadata": {},
   "outputs": [
    {
     "data": {
      "text/plain": [
       "9.0"
      ]
     },
     "execution_count": 42,
     "metadata": {},
     "output_type": "execute_result"
    }
   ],
   "source": [
    "math.pow(3,2)"
   ]
  },
  {
   "cell_type": "code",
   "execution_count": 58,
   "metadata": {},
   "outputs": [],
   "source": [
    "from sklearn.feature_extraction.text import TfidfVectorizer"
   ]
  },
  {
   "cell_type": "code",
   "execution_count": 107,
   "metadata": {},
   "outputs": [],
   "source": [
    "vectorizer = TfidfVectorizer()"
   ]
  },
  {
   "cell_type": "code",
   "execution_count": 108,
   "metadata": {},
   "outputs": [],
   "source": [
    "X_train_vector = vectorizer.fit_transform(word_list)"
   ]
  },
  {
   "cell_type": "code",
   "execution_count": 64,
   "metadata": {},
   "outputs": [
    {
     "data": {
      "text/plain": [
       "array([[0.        , 0.71739444, 0.44174707, 0.53870654, 0.        ],\n",
       "       [0.747814  , 0.66390829, 0.        , 0.        , 0.        ],\n",
       "       [0.        , 1.        , 0.        , 0.        , 0.        ],\n",
       "       [0.        , 1.        , 0.        , 0.        , 0.        ],\n",
       "       [0.        , 0.55422893, 0.        , 0.        , 0.83236428],\n",
       "       [0.        , 0.85151335, 0.52433293, 0.        , 0.        ]])"
      ]
     },
     "execution_count": 64,
     "metadata": {},
     "output_type": "execute_result"
    }
   ],
   "source": [
    "# 계산된 내용 들어있는 곳\n",
    "X_train_vector.A"
   ]
  },
  {
   "cell_type": "code",
   "execution_count": 109,
   "metadata": {},
   "outputs": [
    {
     "data": {
      "text/plain": [
       "['걷는다', '남자', '먹는다', '밥을', '여자']"
      ]
     },
     "execution_count": 109,
     "metadata": {},
     "output_type": "execute_result"
    }
   ],
   "source": [
    "vectorizer.get_feature_names()"
   ]
  },
  {
   "cell_type": "code",
   "execution_count": 110,
   "metadata": {
    "scrolled": false
   },
   "outputs": [
    {
     "data": {
      "text/html": [
       "<div>\n",
       "<style scoped>\n",
       "    .dataframe tbody tr th:only-of-type {\n",
       "        vertical-align: middle;\n",
       "    }\n",
       "\n",
       "    .dataframe tbody tr th {\n",
       "        vertical-align: top;\n",
       "    }\n",
       "\n",
       "    .dataframe thead th {\n",
       "        text-align: right;\n",
       "    }\n",
       "</style>\n",
       "<table border=\"1\" class=\"dataframe\">\n",
       "  <thead>\n",
       "    <tr style=\"text-align: right;\">\n",
       "      <th></th>\n",
       "      <th>걷는다</th>\n",
       "      <th>남자</th>\n",
       "      <th>먹는다</th>\n",
       "      <th>밥을</th>\n",
       "      <th>여자</th>\n",
       "    </tr>\n",
       "  </thead>\n",
       "  <tbody>\n",
       "    <tr>\n",
       "      <th>0</th>\n",
       "      <td>0.000000</td>\n",
       "      <td>0.717394</td>\n",
       "      <td>0.441747</td>\n",
       "      <td>0.538707</td>\n",
       "      <td>0.000000</td>\n",
       "    </tr>\n",
       "    <tr>\n",
       "      <th>1</th>\n",
       "      <td>0.747814</td>\n",
       "      <td>0.663908</td>\n",
       "      <td>0.000000</td>\n",
       "      <td>0.000000</td>\n",
       "      <td>0.000000</td>\n",
       "    </tr>\n",
       "    <tr>\n",
       "      <th>2</th>\n",
       "      <td>0.000000</td>\n",
       "      <td>1.000000</td>\n",
       "      <td>0.000000</td>\n",
       "      <td>0.000000</td>\n",
       "      <td>0.000000</td>\n",
       "    </tr>\n",
       "    <tr>\n",
       "      <th>3</th>\n",
       "      <td>0.000000</td>\n",
       "      <td>1.000000</td>\n",
       "      <td>0.000000</td>\n",
       "      <td>0.000000</td>\n",
       "      <td>0.000000</td>\n",
       "    </tr>\n",
       "    <tr>\n",
       "      <th>4</th>\n",
       "      <td>0.000000</td>\n",
       "      <td>0.554229</td>\n",
       "      <td>0.000000</td>\n",
       "      <td>0.000000</td>\n",
       "      <td>0.832364</td>\n",
       "    </tr>\n",
       "    <tr>\n",
       "      <th>5</th>\n",
       "      <td>0.000000</td>\n",
       "      <td>0.851513</td>\n",
       "      <td>0.524333</td>\n",
       "      <td>0.000000</td>\n",
       "      <td>0.000000</td>\n",
       "    </tr>\n",
       "  </tbody>\n",
       "</table>\n",
       "</div>"
      ],
      "text/plain": [
       "        걷는다        남자       먹는다        밥을        여자\n",
       "0  0.000000  0.717394  0.441747  0.538707  0.000000\n",
       "1  0.747814  0.663908  0.000000  0.000000  0.000000\n",
       "2  0.000000  1.000000  0.000000  0.000000  0.000000\n",
       "3  0.000000  1.000000  0.000000  0.000000  0.000000\n",
       "4  0.000000  0.554229  0.000000  0.000000  0.832364\n",
       "5  0.000000  0.851513  0.524333  0.000000  0.000000"
      ]
     },
     "execution_count": 110,
     "metadata": {},
     "output_type": "execute_result"
    }
   ],
   "source": [
    "pd.DataFrame(\n",
    "    X_train_vector.A,\n",
    "    columns = vectorizer.get_feature_names())"
   ]
  },
  {
   "cell_type": "code",
   "execution_count": 74,
   "metadata": {
    "scrolled": true
   },
   "outputs": [
    {
     "name": "stderr",
     "output_type": "stream",
     "text": [
      "C:\\ai\\python\\anaconda3\\lib\\site-packages\\konlpy\\tag\\_okt.py:16: UserWarning: \"Twitter\" has changed to \"Okt\" since KoNLPy v0.4.5.\n",
      "  warn('\"Twitter\" has changed to \"Okt\" since KoNLPy v0.4.5.')\n",
      "C:\\ai\\python\\anaconda3\\lib\\site-packages\\jpype\\_core.py:210: UserWarning: \n",
      "-------------------------------------------------------------------------------\n",
      "Deprecated: convertStrings was not specified when starting the JVM. The default\n",
      "behavior in JPype will be False starting in JPype 0.8. The recommended setting\n",
      "for new code is convertStrings=False.  The legacy value of True was assumed for\n",
      "this session. If you are a user of an application that reported this warning,\n",
      "please file a ticket with the developer.\n",
      "-------------------------------------------------------------------------------\n",
      "\n",
      "  \"\"\")\n"
     ]
    }
   ],
   "source": [
    "from konlpy.tag import Twitter\n",
    "twitter = Twitter()"
   ]
  },
  {
   "cell_type": "code",
   "execution_count": 117,
   "metadata": {},
   "outputs": [],
   "source": [
    "def getNounAndAdjective(text):\n",
    "    stems = []\n",
    "    tagged = twitter.pos(text, stem = True)\n",
    "    print('tagged:',tagged)\n",
    "    for i in range(0, len(tagged)):\n",
    "        print(\"i = \", i, \":tagged[i]:\", tagged[i])\n",
    "        if(tagged[i][1] == 'Noun'):\n",
    "            stems.append(tagged[i][0])\n",
    "    \n",
    "    return stems"
   ]
  },
  {
   "cell_type": "code",
   "execution_count": 112,
   "metadata": {},
   "outputs": [
    {
     "name": "stdout",
     "output_type": "stream",
     "text": [
      "tagged: [('아버지', 'Noun'), ('가', 'Josa'), ('방', 'Noun'), ('에', 'Josa'), ('들다', 'Verb'), ('가다', 'Verb'), ('그래서', 'Adverb'), ('슬프다', 'Adjective')]\n",
      "i =  0 :tagged[i]: ('아버지', 'Noun')\n",
      "i =  1 :tagged[i]: ('가', 'Josa')\n",
      "i =  2 :tagged[i]: ('방', 'Noun')\n",
      "i =  3 :tagged[i]: ('에', 'Josa')\n",
      "i =  4 :tagged[i]: ('들다', 'Verb')\n",
      "i =  5 :tagged[i]: ('가다', 'Verb')\n",
      "i =  6 :tagged[i]: ('그래서', 'Adverb')\n",
      "i =  7 :tagged[i]: ('슬프다', 'Adjective')\n"
     ]
    },
    {
     "data": {
      "text/plain": [
       "['아버지', '방', '슬프다']"
      ]
     },
     "execution_count": 112,
     "metadata": {},
     "output_type": "execute_result"
    }
   ],
   "source": [
    "getNounAndAdjective(\n",
    "    \"아버지가 방에 들어 가신다 그래서 슬프다\")"
   ]
  },
  {
   "cell_type": "code",
   "execution_count": 118,
   "metadata": {},
   "outputs": [
    {
     "name": "stdout",
     "output_type": "stream",
     "text": [
      "tagged: [('남자', 'Noun'), ('남자', 'Noun'), ('남자', 'Noun'), ('밥', 'Noun'), ('을', 'Josa'), ('먹다', 'Verb')]\n",
      "i =  0 :tagged[i]: ('남자', 'Noun')\n",
      "i =  1 :tagged[i]: ('남자', 'Noun')\n",
      "i =  2 :tagged[i]: ('남자', 'Noun')\n",
      "i =  3 :tagged[i]: ('밥', 'Noun')\n",
      "i =  4 :tagged[i]: ('을', 'Josa')\n",
      "i =  5 :tagged[i]: ('먹다', 'Verb')\n",
      "tagged: [('남자', 'Noun'), ('남자', 'Noun'), ('걷다', 'Verb')]\n",
      "i =  0 :tagged[i]: ('남자', 'Noun')\n",
      "i =  1 :tagged[i]: ('남자', 'Noun')\n",
      "i =  2 :tagged[i]: ('걷다', 'Verb')\n",
      "tagged: [('남자', 'Noun'), ('남자', 'Noun'), ('남자', 'Noun')]\n",
      "i =  0 :tagged[i]: ('남자', 'Noun')\n",
      "i =  1 :tagged[i]: ('남자', 'Noun')\n",
      "i =  2 :tagged[i]: ('남자', 'Noun')\n",
      "tagged: [('남자', 'Noun'), ('남자', 'Noun'), ('남자', 'Noun'), ('남자', 'Noun')]\n",
      "i =  0 :tagged[i]: ('남자', 'Noun')\n",
      "i =  1 :tagged[i]: ('남자', 'Noun')\n",
      "i =  2 :tagged[i]: ('남자', 'Noun')\n",
      "i =  3 :tagged[i]: ('남자', 'Noun')\n",
      "tagged: [('남자', 'Noun'), ('남자', 'Noun'), ('남자', 'Noun'), ('여자', 'Noun'), ('여자', 'Noun')]\n",
      "i =  0 :tagged[i]: ('남자', 'Noun')\n",
      "i =  1 :tagged[i]: ('남자', 'Noun')\n",
      "i =  2 :tagged[i]: ('남자', 'Noun')\n",
      "i =  3 :tagged[i]: ('여자', 'Noun')\n",
      "i =  4 :tagged[i]: ('여자', 'Noun')\n",
      "tagged: [('남자', 'Noun'), ('남자', 'Noun'), ('남자', 'Noun'), ('밥', 'Noun'), ('밥', 'Noun'), ('먹다', 'Verb')]\n",
      "i =  0 :tagged[i]: ('남자', 'Noun')\n",
      "i =  1 :tagged[i]: ('남자', 'Noun')\n",
      "i =  2 :tagged[i]: ('남자', 'Noun')\n",
      "i =  3 :tagged[i]: ('밥', 'Noun')\n",
      "i =  4 :tagged[i]: ('밥', 'Noun')\n",
      "i =  5 :tagged[i]: ('먹다', 'Verb')\n"
     ]
    }
   ],
   "source": [
    "vectorizer = TfidfVectorizer(\n",
    "    tokenizer = getNounAndAdjective)\n",
    "\n",
    "X_train_vector = vectorizer.fit_transform(word_list)"
   ]
  },
  {
   "cell_type": "code",
   "execution_count": 119,
   "metadata": {},
   "outputs": [
    {
     "data": {
      "text/html": [
       "<div>\n",
       "<style scoped>\n",
       "    .dataframe tbody tr th:only-of-type {\n",
       "        vertical-align: middle;\n",
       "    }\n",
       "\n",
       "    .dataframe tbody tr th {\n",
       "        vertical-align: top;\n",
       "    }\n",
       "\n",
       "    .dataframe thead th {\n",
       "        text-align: right;\n",
       "    }\n",
       "</style>\n",
       "<table border=\"1\" class=\"dataframe\">\n",
       "  <thead>\n",
       "    <tr style=\"text-align: right;\">\n",
       "      <th></th>\n",
       "      <th>남자</th>\n",
       "      <th>밥</th>\n",
       "      <th>여자</th>\n",
       "    </tr>\n",
       "  </thead>\n",
       "  <tbody>\n",
       "    <tr>\n",
       "      <th>0</th>\n",
       "      <td>0.851513</td>\n",
       "      <td>0.524333</td>\n",
       "      <td>0.000000</td>\n",
       "    </tr>\n",
       "    <tr>\n",
       "      <th>1</th>\n",
       "      <td>1.000000</td>\n",
       "      <td>0.000000</td>\n",
       "      <td>0.000000</td>\n",
       "    </tr>\n",
       "    <tr>\n",
       "      <th>2</th>\n",
       "      <td>1.000000</td>\n",
       "      <td>0.000000</td>\n",
       "      <td>0.000000</td>\n",
       "    </tr>\n",
       "    <tr>\n",
       "      <th>3</th>\n",
       "      <td>1.000000</td>\n",
       "      <td>0.000000</td>\n",
       "      <td>0.000000</td>\n",
       "    </tr>\n",
       "    <tr>\n",
       "      <th>4</th>\n",
       "      <td>0.554229</td>\n",
       "      <td>0.000000</td>\n",
       "      <td>0.832364</td>\n",
       "    </tr>\n",
       "    <tr>\n",
       "      <th>5</th>\n",
       "      <td>0.630357</td>\n",
       "      <td>0.776305</td>\n",
       "      <td>0.000000</td>\n",
       "    </tr>\n",
       "  </tbody>\n",
       "</table>\n",
       "</div>"
      ],
      "text/plain": [
       "         남자         밥        여자\n",
       "0  0.851513  0.524333  0.000000\n",
       "1  1.000000  0.000000  0.000000\n",
       "2  1.000000  0.000000  0.000000\n",
       "3  1.000000  0.000000  0.000000\n",
       "4  0.554229  0.000000  0.832364\n",
       "5  0.630357  0.776305  0.000000"
      ]
     },
     "execution_count": 119,
     "metadata": {},
     "output_type": "execute_result"
    }
   ],
   "source": [
    "pd.DataFrame(X_train_vector.A,\n",
    "            columns = vectorizer.get_feature_names())"
   ]
  },
  {
   "cell_type": "code",
   "execution_count": 126,
   "metadata": {},
   "outputs": [
    {
     "name": "stdout",
     "output_type": "stream",
     "text": [
      "tagged: [('남자', 'Noun'), ('남자', 'Noun'), ('남자', 'Noun'), ('밥', 'Noun'), ('을', 'Josa'), ('먹다', 'Verb')]\n",
      "i =  0 :tagged[i]: ('남자', 'Noun')\n",
      "i =  1 :tagged[i]: ('남자', 'Noun')\n",
      "i =  2 :tagged[i]: ('남자', 'Noun')\n",
      "i =  3 :tagged[i]: ('밥', 'Noun')\n",
      "i =  4 :tagged[i]: ('을', 'Josa')\n",
      "i =  5 :tagged[i]: ('먹다', 'Verb')\n",
      "tagged: [('남자', 'Noun'), ('남자', 'Noun'), ('걷다', 'Verb')]\n",
      "i =  0 :tagged[i]: ('남자', 'Noun')\n",
      "i =  1 :tagged[i]: ('남자', 'Noun')\n",
      "i =  2 :tagged[i]: ('걷다', 'Verb')\n",
      "tagged: [('남자', 'Noun'), ('남자', 'Noun'), ('남자', 'Noun')]\n",
      "i =  0 :tagged[i]: ('남자', 'Noun')\n",
      "i =  1 :tagged[i]: ('남자', 'Noun')\n",
      "i =  2 :tagged[i]: ('남자', 'Noun')\n",
      "tagged: [('남자', 'Noun'), ('남자', 'Noun'), ('남자', 'Noun'), ('남자', 'Noun')]\n",
      "i =  0 :tagged[i]: ('남자', 'Noun')\n",
      "i =  1 :tagged[i]: ('남자', 'Noun')\n",
      "i =  2 :tagged[i]: ('남자', 'Noun')\n",
      "i =  3 :tagged[i]: ('남자', 'Noun')\n",
      "tagged: [('남자', 'Noun'), ('남자', 'Noun'), ('남자', 'Noun'), ('여자', 'Noun'), ('여자', 'Noun')]\n",
      "i =  0 :tagged[i]: ('남자', 'Noun')\n",
      "i =  1 :tagged[i]: ('남자', 'Noun')\n",
      "i =  2 :tagged[i]: ('남자', 'Noun')\n",
      "i =  3 :tagged[i]: ('여자', 'Noun')\n",
      "i =  4 :tagged[i]: ('여자', 'Noun')\n",
      "tagged: [('남자', 'Noun'), ('남자', 'Noun'), ('남자', 'Noun'), ('밥', 'Noun'), ('밥', 'Noun'), ('먹다', 'Verb')]\n",
      "i =  0 :tagged[i]: ('남자', 'Noun')\n",
      "i =  1 :tagged[i]: ('남자', 'Noun')\n",
      "i =  2 :tagged[i]: ('남자', 'Noun')\n",
      "i =  3 :tagged[i]: ('밥', 'Noun')\n",
      "i =  4 :tagged[i]: ('밥', 'Noun')\n",
      "i =  5 :tagged[i]: ('먹다', 'Verb')\n"
     ]
    },
    {
     "data": {
      "text/html": [
       "<div>\n",
       "<style scoped>\n",
       "    .dataframe tbody tr th:only-of-type {\n",
       "        vertical-align: middle;\n",
       "    }\n",
       "\n",
       "    .dataframe tbody tr th {\n",
       "        vertical-align: top;\n",
       "    }\n",
       "\n",
       "    .dataframe thead th {\n",
       "        text-align: right;\n",
       "    }\n",
       "</style>\n",
       "<table border=\"1\" class=\"dataframe\">\n",
       "  <thead>\n",
       "    <tr style=\"text-align: right;\">\n",
       "      <th></th>\n",
       "      <th>남자</th>\n",
       "      <th>밥</th>\n",
       "    </tr>\n",
       "  </thead>\n",
       "  <tbody>\n",
       "    <tr>\n",
       "      <th>0</th>\n",
       "      <td>0.851513</td>\n",
       "      <td>0.524333</td>\n",
       "    </tr>\n",
       "    <tr>\n",
       "      <th>1</th>\n",
       "      <td>1.000000</td>\n",
       "      <td>0.000000</td>\n",
       "    </tr>\n",
       "    <tr>\n",
       "      <th>2</th>\n",
       "      <td>1.000000</td>\n",
       "      <td>0.000000</td>\n",
       "    </tr>\n",
       "    <tr>\n",
       "      <th>3</th>\n",
       "      <td>1.000000</td>\n",
       "      <td>0.000000</td>\n",
       "    </tr>\n",
       "    <tr>\n",
       "      <th>4</th>\n",
       "      <td>1.000000</td>\n",
       "      <td>0.000000</td>\n",
       "    </tr>\n",
       "    <tr>\n",
       "      <th>5</th>\n",
       "      <td>0.630357</td>\n",
       "      <td>0.776305</td>\n",
       "    </tr>\n",
       "  </tbody>\n",
       "</table>\n",
       "</div>"
      ],
      "text/plain": [
       "         남자         밥\n",
       "0  0.851513  0.524333\n",
       "1  1.000000  0.000000\n",
       "2  1.000000  0.000000\n",
       "3  1.000000  0.000000\n",
       "4  1.000000  0.000000\n",
       "5  0.630357  0.776305"
      ]
     },
     "execution_count": 126,
     "metadata": {},
     "output_type": "execute_result"
    }
   ],
   "source": [
    "vectorizer = TfidfVectorizer(\n",
    "    tokenizer = getNounAndAdjective, min_df = 2)\n",
    "\n",
    "X_train_vector = vectorizer.fit_transform(word_list)\n",
    "\n",
    "pd.DataFrame(X_train_vector.A,\n",
    "            columns = vectorizer.get_feature_names())"
   ]
  },
  {
   "cell_type": "code",
   "execution_count": 127,
   "metadata": {},
   "outputs": [
    {
     "data": {
      "text/html": [
       "<div>\n",
       "<style scoped>\n",
       "    .dataframe tbody tr th:only-of-type {\n",
       "        vertical-align: middle;\n",
       "    }\n",
       "\n",
       "    .dataframe tbody tr th {\n",
       "        vertical-align: top;\n",
       "    }\n",
       "\n",
       "    .dataframe thead th {\n",
       "        text-align: right;\n",
       "    }\n",
       "</style>\n",
       "<table border=\"1\" class=\"dataframe\">\n",
       "  <thead>\n",
       "    <tr style=\"text-align: right;\">\n",
       "      <th></th>\n",
       "      <th>title</th>\n",
       "      <th>view_num2</th>\n",
       "    </tr>\n",
       "  </thead>\n",
       "  <tbody>\n",
       "    <tr>\n",
       "      <th>0</th>\n",
       "      <td>t1</td>\n",
       "      <td>1</td>\n",
       "    </tr>\n",
       "    <tr>\n",
       "      <th>1</th>\n",
       "      <td>t2</td>\n",
       "      <td>2</td>\n",
       "    </tr>\n",
       "    <tr>\n",
       "      <th>2</th>\n",
       "      <td>t3</td>\n",
       "      <td>3</td>\n",
       "    </tr>\n",
       "    <tr>\n",
       "      <th>3</th>\n",
       "      <td>t4</td>\n",
       "      <td>4</td>\n",
       "    </tr>\n",
       "    <tr>\n",
       "      <th>4</th>\n",
       "      <td>t5</td>\n",
       "      <td>5</td>\n",
       "    </tr>\n",
       "  </tbody>\n",
       "</table>\n",
       "</div>"
      ],
      "text/plain": [
       "  title  view_num2\n",
       "0    t1          1\n",
       "1    t2          2\n",
       "2    t3          3\n",
       "3    t4          4\n",
       "4    t5          5"
      ]
     },
     "execution_count": 127,
     "metadata": {},
     "output_type": "execute_result"
    }
   ],
   "source": [
    "youtube_dic = {\n",
    "    \"title\" : ['t1','t2','t3','t4','t5'],\n",
    "    \"view_num2\":[1,2,3,4,5]\n",
    "}\n",
    "youtube = pd.DataFrame(youtube_dic)\n",
    "youtube"
   ]
  },
  {
   "cell_type": "code",
   "execution_count": 128,
   "metadata": {},
   "outputs": [],
   "source": [
    "from sklearn.model_selection import train_test_split"
   ]
  },
  {
   "cell_type": "code",
   "execution_count": 129,
   "metadata": {},
   "outputs": [
    {
     "data": {
      "text/plain": [
       "[4    t5\n",
       " 2    t3\n",
       " 1    t2\n",
       " Name: title, dtype: object, 3    t4\n",
       " 0    t1\n",
       " Name: title, dtype: object, 4    5\n",
       " 2    3\n",
       " 1    2\n",
       " Name: view_num2, dtype: int64, 3    4\n",
       " 0    1\n",
       " Name: view_num2, dtype: int64]"
      ]
     },
     "execution_count": 129,
     "metadata": {},
     "output_type": "execute_result"
    }
   ],
   "source": [
    "train_test_split(\n",
    "    youtube[\"title\"], youtube[\"view_num2\"]\n",
    ")"
   ]
  },
  {
   "cell_type": "code",
   "execution_count": 134,
   "metadata": {},
   "outputs": [
    {
     "ename": "IndentationError",
     "evalue": "unexpected indent (<ipython-input-134-91c54f146446>, line 2)",
     "output_type": "error",
     "traceback": [
      "\u001b[1;36m  File \u001b[1;32m\"<ipython-input-134-91c54f146446>\"\u001b[1;36m, line \u001b[1;32m2\u001b[0m\n\u001b[1;33m    youtube[\"title\"], youtube[\"view_num2\"]\u001b[0m\n\u001b[1;37m    ^\u001b[0m\n\u001b[1;31mIndentationError\u001b[0m\u001b[1;31m:\u001b[0m unexpected indent\n"
     ]
    }
   ],
   "source": [
    "X_train, X_test, y_train, y_test = train_test,\n",
    "    youtube[\"title\"], youtube[\"view_num2\"]\n",
    ")"
   ]
  },
  {
   "cell_type": "code",
   "execution_count": 132,
   "metadata": {},
   "outputs": [
    {
     "ename": "NameError",
     "evalue": "name 'X_train' is not defined",
     "output_type": "error",
     "traceback": [
      "\u001b[1;31m---------------------------------------------------------------------------\u001b[0m",
      "\u001b[1;31mNameError\u001b[0m                                 Traceback (most recent call last)",
      "\u001b[1;32m<ipython-input-132-931765772341>\u001b[0m in \u001b[0;36m<module>\u001b[1;34m\u001b[0m\n\u001b[1;32m----> 1\u001b[1;33m \u001b[0mX_train\u001b[0m\u001b[1;33m\u001b[0m\u001b[1;33m\u001b[0m\u001b[0m\n\u001b[0m",
      "\u001b[1;31mNameError\u001b[0m: name 'X_train' is not defined"
     ]
    }
   ],
   "source": [
    "X_train"
   ]
  },
  {
   "cell_type": "code",
   "execution_count": null,
   "metadata": {},
   "outputs": [],
   "source": [
    "X_test"
   ]
  }
 ],
 "metadata": {
  "kernelspec": {
   "display_name": "Python 3",
   "language": "python",
   "name": "python3"
  },
  "language_info": {
   "codemirror_mode": {
    "name": "ipython",
    "version": 3
   },
   "file_extension": ".py",
   "mimetype": "text/x-python",
   "name": "python",
   "nbconvert_exporter": "python",
   "pygments_lexer": "ipython3",
   "version": "3.7.3"
  }
 },
 "nbformat": 4,
 "nbformat_minor": 2
}
