{
 "cells": [
  {
   "cell_type": "code",
   "execution_count": 1,
   "metadata": {},
   "outputs": [],
   "source": [
    "from selenium import webdriver as wd\n",
    "import time"
   ]
  },
  {
   "cell_type": "code",
   "execution_count": 2,
   "metadata": {},
   "outputs": [],
   "source": [
    "url = 'http://tour.interpark.com/'\n",
    "searchBox_id = 'SearchGNBText'\n",
    "keyword = '미국'\n",
    "searchBtn_class = \"search-btn\"\n",
    "infoBtn_id = 'li_R'"
   ]
  },
  {
   "cell_type": "code",
   "execution_count": 3,
   "metadata": {},
   "outputs": [],
   "source": [
    "driver = wd.Chrome(executable_path='chromedriver.exe') #크롬 실행\n",
    "driver.implicitly_wait(10)"
   ]
  },
  {
   "cell_type": "code",
   "execution_count": 4,
   "metadata": {},
   "outputs": [],
   "source": [
    "driver.get(url) #인터파크 접속"
   ]
  },
  {
   "cell_type": "code",
   "execution_count": 5,
   "metadata": {},
   "outputs": [],
   "source": [
    "#검색 창 선택 및 키워드 입력\n",
    "driver.find_element_by_id(searchBox_id).send_keys(keyword)\n",
    "#검색버튼 클릭\n",
    "driver.find_element_by_class_name(searchBtn_class).click()\n",
    "#해외여행 정보 클릭\n",
    "driver.find_element_by_id(infoBtn_id).click()"
   ]
  },
  {
   "cell_type": "code",
   "execution_count": 7,
   "metadata": {},
   "outputs": [
    {
     "name": "stdout",
     "output_type": "stream",
     "text": [
      "x = 22.2, y = 44\n"
     ]
    }
   ],
   "source": [
    "print(\"x = {}, y = {}\".format(22.2, 44))"
   ]
  },
  {
   "cell_type": "code",
   "execution_count": 9,
   "metadata": {},
   "outputs": [
    {
     "name": "stdout",
     "output_type": "stream",
     "text": [
      "x = 23.4, y = 44.1\n"
     ]
    }
   ],
   "source": [
    "stringValue = \"x = {}, y = {}\".format(23.4, 44.1)\n",
    "print(stringValue)"
   ]
  },
  {
   "cell_type": "code",
   "execution_count": 11,
   "metadata": {},
   "outputs": [
    {
     "name": "stdout",
     "output_type": "stream",
     "text": [
      "page is 1\n",
      "page is 2\n",
      "page is 3\n",
      "page is 4\n"
     ]
    }
   ],
   "source": [
    "for page in range(1, 5):\n",
    "    print(\"page is {}\".format(page))"
   ]
  },
  {
   "cell_type": "code",
   "execution_count": 52,
   "metadata": {},
   "outputs": [
    {
     "name": "stdout",
     "output_type": "stream",
     "text": [
      "1번째 페이지로 이동\n",
      "2번째 페이지로 이동\n",
      "3번째 페이지로 이동\n",
      "4번째 페이지로 이동\n",
      "5번째 페이지로 이동\n",
      "6번째 페이지로 이동\n",
      "7번째 페이지로 이동\n",
      "8번째 페이지로 이동\n",
      "9번째 페이지로 이동\n",
      "10번째 페이지로 이동\n",
      "11번째 페이지로 이동\n",
      "12번째 페이지로 이동\n",
      "13번째 페이지로 이동\n",
      "14번째 페이지로 이동\n",
      "15번째 페이지로 이동\n",
      "16번째 페이지로 이동\n"
     ]
    }
   ],
   "source": [
    "for page in range(1, 17):\n",
    "    driver.execute_script(\n",
    "        \"searchModule.SetCategoryList({},'')\".format(page)\n",
    "    )\n",
    "    time.sleep(3) #페이지 이동 스크립트 실행 대기 시간\n",
    "    print(\"{}번째 페이지로 이동\".format(page))"
   ]
  },
  {
   "cell_type": "code",
   "execution_count": 63,
   "metadata": {},
   "outputs": [
    {
     "name": "stdout",
     "output_type": "stream",
     "text": [
      "상품명 [후쿠오카 자유여행 3일] 캐널시티 후쿠오카 워싱턴 호텔\n",
      "가격 254,900 \n",
      "상품명 ■아키하바라역 도보1분■<동경 3일>아키하바라 워싱턴 호텔 /세미더블 /식사불포함\n",
      "가격 299,000 \n",
      "상품명 <이스타 동경 3일> 신주쿠 워싱턴 호텔 /세미더블/ 식사불포함\n",
      "가격 339,000 \n",
      "상품명 ★진에어/조석패턴/에어텔 특가★ [신오사카 워싱턴플라자/세미더블룸/조식포함] 2박 3일\n",
      "가격 499,000 \n",
      "상품명 [미서부/동부 완전일주 18일] 7대캐년+세도나+요세미티+뉴욕+워싱턴+나이아가라+퀘벡_OZ\n",
      "가격 3,790,000 \n",
      "상품명 [일품,단독] 미동부+캐나다+하버드+MIT 10일[나이아가라폭포뷰/뉴욕/보스턴/워싱턴/몬트리올/아울렛]\n",
      "가격 2,708,400 \n",
      "상품명 ■4명이상출발보장■[일품, 단독] 미동부+캐나다 10일[나이아가라/뉴욕/뉴포트/보스턴/워싱턴/퀘벡/몬트리올/아울렛]\n",
      "가격 2,103,800 \n",
      "상품명 ■4명이상출발보장■[일품, 단독] 미동부+캐나다 10일[나이아가라/뉴욕/뉴포트/보스턴/워싱턴/퀘벡/몬트리올/아울렛]\n",
      "가격 2,178,400 \n",
      "상품명 ■출발100%보장■[일품, 단독] 미동부+캐나다 10일[나이아가라폭포뷰/뉴욕/워싱턴/몬트리올/아울렛]\n",
      "가격 2,348,600 \n",
      "상품명 [일품, 단독] 미동부+캐나다 10일[나이아가라폭포뷰/뉴욕/보스턴/워싱턴/몬트리올/아울렛]\n",
      "가격 2,708,400 \n"
     ]
    }
   ],
   "source": [
    "boxItems = driver.find_elements_by_css_selector('.panelZone>.oTravelBox>.boxList>li')\n",
    "for li in boxItems:\n",
    "    print('상품명', li.find_element_by_css_selector('h5.proTit').text)\n",
    "    print('가격', li.find_element_by_css_selector('.proPrice').text.split('원')[0])"
   ]
  },
  {
   "cell_type": "code",
   "execution_count": 64,
   "metadata": {},
   "outputs": [
    {
     "name": "stdout",
     "output_type": "stream",
     "text": [
      "[<selenium.webdriver.remote.webelement.WebElement (session=\"9425cdc516f002eee41d768e8fb1a1e8\", element=\"0.8976992405798561-1\")>, <selenium.webdriver.remote.webelement.WebElement (session=\"9425cdc516f002eee41d768e8fb1a1e8\", element=\"0.8976992405798561-2\")>, <selenium.webdriver.remote.webelement.WebElement (session=\"9425cdc516f002eee41d768e8fb1a1e8\", element=\"0.8976992405798561-3\")>, <selenium.webdriver.remote.webelement.WebElement (session=\"9425cdc516f002eee41d768e8fb1a1e8\", element=\"0.8976992405798561-4\")>, <selenium.webdriver.remote.webelement.WebElement (session=\"9425cdc516f002eee41d768e8fb1a1e8\", element=\"0.8976992405798561-5\")>, <selenium.webdriver.remote.webelement.WebElement (session=\"9425cdc516f002eee41d768e8fb1a1e8\", element=\"0.8976992405798561-6\")>, <selenium.webdriver.remote.webelement.WebElement (session=\"9425cdc516f002eee41d768e8fb1a1e8\", element=\"0.8976992405798561-7\")>, <selenium.webdriver.remote.webelement.WebElement (session=\"9425cdc516f002eee41d768e8fb1a1e8\", element=\"0.8976992405798561-8\")>, <selenium.webdriver.remote.webelement.WebElement (session=\"9425cdc516f002eee41d768e8fb1a1e8\", element=\"0.8976992405798561-9\")>, <selenium.webdriver.remote.webelement.WebElement (session=\"9425cdc516f002eee41d768e8fb1a1e8\", element=\"0.8976992405798561-10\")>]\n"
     ]
    }
   ],
   "source": [
    "print(boxItems)"
   ]
  },
  {
   "cell_type": "code",
   "execution_count": null,
   "metadata": {},
   "outputs": [],
   "source": []
  }
 ],
 "metadata": {
  "kernelspec": {
   "display_name": "Python 3",
   "language": "python",
   "name": "python3"
  },
  "language_info": {
   "codemirror_mode": {
    "name": "ipython",
    "version": 3
   },
   "file_extension": ".py",
   "mimetype": "text/x-python",
   "name": "python",
   "nbconvert_exporter": "python",
   "pygments_lexer": "ipython3",
   "version": "3.7.3"
  }
 },
 "nbformat": 4,
 "nbformat_minor": 2
}
